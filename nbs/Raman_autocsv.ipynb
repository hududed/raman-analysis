{
 "cells": [
  {
   "cell_type": "code",
   "execution_count": 1,
   "metadata": {},
   "outputs": [],
   "source": [
    "# ---------Raman Analysis ---------#\n",
    "\n",
    "import pandas as pd # python data manipulation and analysis library\n",
    "import numpy as np #  Library with large collection of high-level mathematical functions to operate on arrays\n",
    "import matplotlib.pyplot as plt #python plotting library\n",
    "\n",
    "from scipy.optimize import curve_fit\n",
    "import os # Library with operating system dependent functionality. Example: Reading data from files on the computer\n",
    "import csv"
   ]
  },
  {
   "cell_type": "code",
   "execution_count": 2,
   "metadata": {},
   "outputs": [],
   "source": [
    "\n",
    "#Lorentzian functions to which baseline subtracted data is fitted\n",
    "# Learn more: https://lmfit.github.io/lmfit-py/builtin_models.html\n",
    "def lorentzian_fcn(x, I, x0, gamma):\n",
    "    return I*((gamma**2)/(((x-x0)**2)+gamma**2))\n",
    "\n",
    "def two_lorentzian(x, I1, x1, gamma1, I2, x2, gamma2, y0):\n",
    "    return lorentzian_fcn(x, I1, x1, gamma1) + lorentzian_fcn(x, I2, x2, gamma2) + y0"
   ]
  },
  {
   "cell_type": "code",
   "execution_count": 105,
   "metadata": {},
   "outputs": [],
   "source": [
    "# -------- Reading data from .csv files\n",
    "path = '../data/Alex/data/'\n",
    "fname = '2019-02-17  GO20_s1_lp400mW_dur600ms_p70psi.csv'\n",
    "datafn = path + fname\n",
    "bgrfn = path + '2019-02-18  GO20_bgr.csv'\n",
    "data = pd.read_csv(datafn, header = 0, index_col = 0, names = ['W', 'I'])\n",
    "bgr = pd.read_csv(bgrfn, header = 0, index_col = 0, names = ['W', 'I'])"
   ]
  },
  {
   "cell_type": "code",
   "execution_count": 106,
   "metadata": {},
   "outputs": [],
   "source": [
    "data_proc = (data.I.values - bgr.I.values)\n",
    "\n",
    "data_index = data.index.values\n",
    "data_proc = pd.DataFrame({'I': data_proc}, index = data_index)\n",
    "data_proc = data_proc[569:585]\n",
    "\n",
    "lowval, hival = data_proc[data_proc.index.min():data_proc.index.min() + 2].values.mean(), data_proc[data_proc.index.max() - 2:data_proc.index.max()].values.mean()\n",
    "low, hi = data_proc[data_proc.index.min():data_proc.index.min() + 2].index.values.mean(), data_proc[data_proc.index.max() - 2:data_proc.index.max()].index.values.mean()\n",
    "\n",
    "y = [lowval, hival]\n",
    "x = [low, hi]\n",
    "m, b = np.polyfit(x, y, 1)\n",
    "\n",
    "data_index = data_proc.index.values\n",
    "data_proc = data_proc.I.values - (data_proc.index.values * m + b)\n",
    "data_proc = pd.DataFrame({'I': data_proc}, index = data_index)"
   ]
  },
  {
   "cell_type": "code",
   "execution_count": 107,
   "metadata": {},
   "outputs": [
    {
     "name": "stdout",
     "output_type": "stream",
     "text": [
      "The G/D ratio is 1.03960507358796\n"
     ]
    },
    {
     "data": {
      "image/png": "[encoded data removed]",
      "text/plain": [
       "<Figure size 432x288 with 1 Axes>"
      ]
     },
     "metadata": {
      "needs_background": "light"
     },
     "output_type": "display_data"
    }
   ],
   "source": [
    "prms = [2000, 573, 1, 6000, 581.5, 0.5, 5000]   #prms = [I1, x1, gamma1, I2, x2, gamma2, y0]\n",
    "\n",
    "#Optimal values for the prms are returned in array form via popt after lorentzian curve_fit \n",
    "popt, pcov = curve_fit(two_lorentzian, data_proc.index.values, data_proc.I.values, p0 = prms)\n",
    "\n",
    "#Fit data is computed by passing optimal prms and x-values to two_lorentzian function\n",
    "data_proc['fit'] = two_lorentzian(data_proc.index, *popt)\n",
    "\n",
    "#G/D ratios are simply calculated by optimal_I2/optimal_I1 \n",
    "ratios = popt[3]/popt[0]\n",
    "\n",
    "plt.plot(data_proc)\n",
    "plt.plot(data_proc.fit)\n",
    "\n",
    "# Saving plot result\n",
    "#plt.savefig('12-06-18 GO spot1 Raman.png', bbox_inches='tight')\n",
    "\n",
    "# Quick-view of results\n",
    "#plt.show()\n",
    "print(\"The G/D ratio is\", ratios)"
   ]
  },
  {
   "cell_type": "code",
   "execution_count": 108,
   "metadata": {},
   "outputs": [
    {
     "data": {
      "text/plain": [
       "array([1242.92099192,  573.49742037,    1.84628203, 1292.14696926,\n",
       "        581.27106713,    1.47497239, -290.41561773])"
      ]
     },
     "execution_count": 108,
     "metadata": {},
     "output_type": "execute_result"
    }
   ],
   "source": [
    "popt  # I1, x1, gamma1, I2, x2, gamma2, y0"
   ]
  },
  {
   "cell_type": "code",
   "execution_count": 50,
   "metadata": {},
   "outputs": [],
   "source": [
    "import os\n",
    "import csv"
   ]
  },
  {
   "cell_type": "code",
   "execution_count": 134,
   "metadata": {},
   "outputs": [
    {
     "name": "stdout",
     "output_type": "stream",
     "text": [
      "Power: awesome\n",
      "time: shit\n",
      "Pressure: happening\n"
     ]
    }
   ],
   "source": [
    "power = input('Power: ')\n",
    "time = input('time: ')\n",
    "pressure = input('Pressure: ')\n",
    "D = popt[0]\n",
    "G = popt[3]\n",
    "ratio = popt[0]/popt[3]"
   ]
  },
  {
   "cell_type": "code",
   "execution_count": 135,
   "metadata": {},
   "outputs": [],
   "source": [
    "list1=[power, time, pressure, D, G, ratio]\n",
    "\n",
    "with open(\"output_1.csv\", \"a\") as fp:\n",
    "    wr = csv.writer(fp, dialect='excel')\n",
    "    wr.writerow(list1)"
   ]
  },
  {
   "cell_type": "code",
   "execution_count": 13,
   "metadata": {},
   "outputs": [],
   "source": [
    "os.makedirs('test_01',exist_ok=True)"
   ]
  },
  {
   "cell_type": "code",
   "execution_count": 21,
   "metadata": {},
   "outputs": [],
   "source": [
    "output_path = 'test_01'\n",
    "os.makedirs(output_path,exist_ok=True)"
   ]
  }
 ],
 "metadata": {
  "kernelspec": {
   "display_name": "Python [conda env:Raman]",
   "language": "python",
   "name": "conda-env-Raman-py"
  },
  "language_info": {
   "codemirror_mode": {
    "name": "ipython",
    "version": 3
   },
   "file_extension": ".py",
   "mimetype": "text/x-python",
   "name": "python",
   "nbconvert_exporter": "python",
   "pygments_lexer": "ipython3",
   "version": "3.6.8"
  }
 },
 "nbformat": 4,
 "nbformat_minor": 2
}
