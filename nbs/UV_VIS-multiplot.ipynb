{
 "cells": [
  {
   "cell_type": "code",
   "execution_count": 1,
   "metadata": {},
   "outputs": [
    {
     "name": "stdout",
     "output_type": "stream",
     "text": [
      "Populating the interactive namespace from numpy and matplotlib\n"
     ]
    }
   ],
   "source": [
    "%reload_ext autoreload\n",
    "%autoreload 2\n",
    "%matplotlib inline\n",
    "%pylab inline"
   ]
  },
  {
   "cell_type": "code",
   "execution_count": 258,
   "metadata": {},
   "outputs": [],
   "source": [
    "from pathlib import Path\n",
    "import matplotlib.pyplot as plt\n",
    "import pandas as pd"
   ]
  },
  {
   "cell_type": "markdown",
   "metadata": {},
   "source": [
    "## Data loader"
   ]
  },
  {
   "cell_type": "code",
   "execution_count": 259,
   "metadata": {},
   "outputs": [
    {
     "data": {
      "text/plain": [
       "[PosixPath('../data/UV_-VIS/coal char hummers.DSW'),\n",
       " PosixPath('../data/UV_-VIS/blank2.DSW'),\n",
       " PosixPath('../data/UV_-VIS/graphene oxide comercial de novo.DSW'),\n",
       " PosixPath('../data/UV_-VIS/graphite.DSW'),\n",
       " PosixPath('../data/UV_-VIS/blank3.DSW')]"
      ]
     },
     "execution_count": 259,
     "metadata": {},
     "output_type": "execute_result"
    }
   ],
   "source": [
    "p = Path('../data/UV_-VIS/')\n",
    "p.ls()[:5]"
   ]
  },
  {
   "cell_type": "code",
   "execution_count": 260,
   "metadata": {},
   "outputs": [],
   "source": [
    "parent=[x.parents[0] for x in p.rglob(\"*.[cC][sS][vV]\")]\n",
    "child=[x.name for x in p.glob(\"*.[cC][sS][vV]\")]"
   ]
  },
  {
   "cell_type": "code",
   "execution_count": 261,
   "metadata": {},
   "outputs": [
    {
     "data": {
      "text/plain": [
       "[PosixPath('../data/UV_-VIS'),\n",
       " PosixPath('../data/UV_-VIS'),\n",
       " PosixPath('../data/UV_-VIS')]"
      ]
     },
     "execution_count": 261,
     "metadata": {},
     "output_type": "execute_result"
    }
   ],
   "source": [
    "parent"
   ]
  },
  {
   "cell_type": "code",
   "execution_count": 262,
   "metadata": {},
   "outputs": [
    {
     "data": {
      "text/plain": [
       "['graphene oxide.csv', 'graphene oxide comercial.csv', 'go commercial.csv']"
      ]
     },
     "execution_count": 262,
     "metadata": {},
     "output_type": "execute_result"
    }
   ],
   "source": [
    "child"
   ]
  },
  {
   "cell_type": "code",
   "execution_count": 265,
   "metadata": {},
   "outputs": [
    {
     "data": {
      "text/html": [
       "<div>\n",
       "<style scoped>\n",
       "    .dataframe tbody tr th:only-of-type {\n",
       "        vertical-align: middle;\n",
       "    }\n",
       "\n",
       "    .dataframe tbody tr th {\n",
       "        vertical-align: top;\n",
       "    }\n",
       "\n",
       "    .dataframe thead th {\n",
       "        text-align: right;\n",
       "    }\n",
       "</style>\n",
       "<table border=\"1\" class=\"dataframe\">\n",
       "  <thead>\n",
       "    <tr style=\"text-align: right;\">\n",
       "      <th></th>\n",
       "      <th>sample1</th>\n",
       "      <th>Unnamed: 1</th>\n",
       "      <th>sample2</th>\n",
       "      <th>Unnamed: 3</th>\n",
       "      <th>graphite</th>\n",
       "      <th>Unnamed: 5</th>\n",
       "      <th>graphite1</th>\n",
       "      <th>Unnamed: 7</th>\n",
       "      <th>graphite2</th>\n",
       "      <th>Unnamed: 9</th>\n",
       "      <th>...</th>\n",
       "      <th>Unnamed: 59</th>\n",
       "      <th>biochar oxidizer2</th>\n",
       "      <th>Unnamed: 61</th>\n",
       "      <th>biochar hummers</th>\n",
       "      <th>Unnamed: 63</th>\n",
       "      <th>biochar hummers1</th>\n",
       "      <th>Unnamed: 65</th>\n",
       "      <th>biochar hummers2</th>\n",
       "      <th>Unnamed: 67</th>\n",
       "      <th>Unnamed: 68</th>\n",
       "    </tr>\n",
       "  </thead>\n",
       "  <tbody>\n",
       "    <tr>\n",
       "      <th>0</th>\n",
       "      <td>900.002258</td>\n",
       "      <td>0.000921</td>\n",
       "      <td>900.002258</td>\n",
       "      <td>0.000271</td>\n",
       "      <td>900.002258</td>\n",
       "      <td>0.070857</td>\n",
       "      <td>900.002258</td>\n",
       "      <td>0.070653</td>\n",
       "      <td>900.002258</td>\n",
       "      <td>0.212690</td>\n",
       "      <td>...</td>\n",
       "      <td>0.238437</td>\n",
       "      <td>900.002258</td>\n",
       "      <td>0.226418</td>\n",
       "      <td>900.002258</td>\n",
       "      <td>0.261922</td>\n",
       "      <td>900.002258</td>\n",
       "      <td>0.263384</td>\n",
       "      <td>900.002258</td>\n",
       "      <td>0.256945</td>\n",
       "      <td>NaN</td>\n",
       "    </tr>\n",
       "    <tr>\n",
       "      <th>1</th>\n",
       "      <td>899.012085</td>\n",
       "      <td>0.000839</td>\n",
       "      <td>899.012085</td>\n",
       "      <td>-0.000259</td>\n",
       "      <td>899.012085</td>\n",
       "      <td>0.069470</td>\n",
       "      <td>899.012085</td>\n",
       "      <td>0.071138</td>\n",
       "      <td>899.012085</td>\n",
       "      <td>0.210327</td>\n",
       "      <td>...</td>\n",
       "      <td>0.238321</td>\n",
       "      <td>899.012085</td>\n",
       "      <td>0.225899</td>\n",
       "      <td>899.012085</td>\n",
       "      <td>0.261404</td>\n",
       "      <td>899.012085</td>\n",
       "      <td>0.262717</td>\n",
       "      <td>899.012085</td>\n",
       "      <td>0.255998</td>\n",
       "      <td>NaN</td>\n",
       "    </tr>\n",
       "    <tr>\n",
       "      <th>2</th>\n",
       "      <td>897.988281</td>\n",
       "      <td>-0.000973</td>\n",
       "      <td>897.988281</td>\n",
       "      <td>-0.001088</td>\n",
       "      <td>897.988281</td>\n",
       "      <td>0.068515</td>\n",
       "      <td>897.988281</td>\n",
       "      <td>0.069160</td>\n",
       "      <td>897.988281</td>\n",
       "      <td>0.211716</td>\n",
       "      <td>...</td>\n",
       "      <td>0.236610</td>\n",
       "      <td>897.988281</td>\n",
       "      <td>0.224931</td>\n",
       "      <td>897.988281</td>\n",
       "      <td>0.260578</td>\n",
       "      <td>897.988281</td>\n",
       "      <td>0.262711</td>\n",
       "      <td>897.988281</td>\n",
       "      <td>0.255207</td>\n",
       "      <td>NaN</td>\n",
       "    </tr>\n",
       "    <tr>\n",
       "      <th>3</th>\n",
       "      <td>896.997009</td>\n",
       "      <td>0.000123</td>\n",
       "      <td>896.997009</td>\n",
       "      <td>-0.000431</td>\n",
       "      <td>896.997009</td>\n",
       "      <td>0.069685</td>\n",
       "      <td>896.997009</td>\n",
       "      <td>0.069748</td>\n",
       "      <td>896.997009</td>\n",
       "      <td>0.210139</td>\n",
       "      <td>...</td>\n",
       "      <td>0.237267</td>\n",
       "      <td>896.997009</td>\n",
       "      <td>0.224798</td>\n",
       "      <td>896.997009</td>\n",
       "      <td>0.262930</td>\n",
       "      <td>896.997009</td>\n",
       "      <td>0.262554</td>\n",
       "      <td>896.997009</td>\n",
       "      <td>0.257375</td>\n",
       "      <td>NaN</td>\n",
       "    </tr>\n",
       "    <tr>\n",
       "      <th>4</th>\n",
       "      <td>896.005310</td>\n",
       "      <td>-0.000069</td>\n",
       "      <td>896.005310</td>\n",
       "      <td>-0.000397</td>\n",
       "      <td>896.005310</td>\n",
       "      <td>0.069678</td>\n",
       "      <td>896.005310</td>\n",
       "      <td>0.070113</td>\n",
       "      <td>896.005310</td>\n",
       "      <td>0.211010</td>\n",
       "      <td>...</td>\n",
       "      <td>0.236150</td>\n",
       "      <td>896.005310</td>\n",
       "      <td>0.223617</td>\n",
       "      <td>896.005310</td>\n",
       "      <td>0.261547</td>\n",
       "      <td>896.005310</td>\n",
       "      <td>0.262230</td>\n",
       "      <td>896.005310</td>\n",
       "      <td>0.256695</td>\n",
       "      <td>NaN</td>\n",
       "    </tr>\n",
       "  </tbody>\n",
       "</table>\n",
       "<p>5 rows × 69 columns</p>\n",
       "</div>"
      ],
      "text/plain": [
       "      sample1  Unnamed: 1     sample2  Unnamed: 3    graphite  Unnamed: 5  \\\n",
       "0  900.002258    0.000921  900.002258    0.000271  900.002258    0.070857   \n",
       "1  899.012085    0.000839  899.012085   -0.000259  899.012085    0.069470   \n",
       "2  897.988281   -0.000973  897.988281   -0.001088  897.988281    0.068515   \n",
       "3  896.997009    0.000123  896.997009   -0.000431  896.997009    0.069685   \n",
       "4  896.005310   -0.000069  896.005310   -0.000397  896.005310    0.069678   \n",
       "\n",
       "    graphite1  Unnamed: 7   graphite2  Unnamed: 9  ...  Unnamed: 59  \\\n",
       "0  900.002258    0.070653  900.002258    0.212690  ...     0.238437   \n",
       "1  899.012085    0.071138  899.012085    0.210327  ...     0.238321   \n",
       "2  897.988281    0.069160  897.988281    0.211716  ...     0.236610   \n",
       "3  896.997009    0.069748  896.997009    0.210139  ...     0.237267   \n",
       "4  896.005310    0.070113  896.005310    0.211010  ...     0.236150   \n",
       "\n",
       "   biochar oxidizer2  Unnamed: 61  biochar hummers  Unnamed: 63  \\\n",
       "0         900.002258     0.226418       900.002258     0.261922   \n",
       "1         899.012085     0.225899       899.012085     0.261404   \n",
       "2         897.988281     0.224931       897.988281     0.260578   \n",
       "3         896.997009     0.224798       896.997009     0.262930   \n",
       "4         896.005310     0.223617       896.005310     0.261547   \n",
       "\n",
       "   biochar hummers1  Unnamed: 65  biochar hummers2  Unnamed: 67  Unnamed: 68  \n",
       "0        900.002258     0.263384        900.002258     0.256945          NaN  \n",
       "1        899.012085     0.262717        899.012085     0.255998          NaN  \n",
       "2        897.988281     0.262711        897.988281     0.255207          NaN  \n",
       "3        896.997009     0.262554        896.997009     0.257375          NaN  \n",
       "4        896.005310     0.262230        896.005310     0.256695          NaN  \n",
       "\n",
       "[5 rows x 69 columns]"
      ]
     },
     "execution_count": 265,
     "metadata": {},
     "output_type": "execute_result"
    }
   ],
   "source": [
    "get_ipython().config.get('IPKernelApp', {})['parent_appname'] = \"\"  # fastai work-around LazyConfigValue problem\n",
    "df = pd.read_csv(parent[0]/child[0],header=[0], delimiter = ',', skiprows=[1], skipfooter=1198, engine='python')\n",
    "df.head()"
   ]
  },
  {
   "cell_type": "code",
   "execution_count": 266,
   "metadata": {},
   "outputs": [],
   "source": [
    "# need to shift headers 1 to the right, care: wavelength columns NOT identical\n",
    "cols = df.columns[:-2].insert(loc=0,item='Wavelength')"
   ]
  },
  {
   "cell_type": "code",
   "execution_count": 267,
   "metadata": {},
   "outputs": [],
   "source": [
    "# df=df.drop('Unnamed: 68',1)  # dont uncomment and run this again else lose columns"
   ]
  },
  {
   "cell_type": "code",
   "execution_count": 269,
   "metadata": {},
   "outputs": [
    {
     "data": {
      "text/html": [
       "<div>\n",
       "<style scoped>\n",
       "    .dataframe tbody tr th:only-of-type {\n",
       "        vertical-align: middle;\n",
       "    }\n",
       "\n",
       "    .dataframe tbody tr th {\n",
       "        vertical-align: top;\n",
       "    }\n",
       "\n",
       "    .dataframe thead th {\n",
       "        text-align: right;\n",
       "    }\n",
       "</style>\n",
       "<table border=\"1\" class=\"dataframe\">\n",
       "  <thead>\n",
       "    <tr style=\"text-align: right;\">\n",
       "      <th></th>\n",
       "      <th>Wavelength</th>\n",
       "      <th>sample1</th>\n",
       "      <th>Unnamed: 1</th>\n",
       "      <th>sample2</th>\n",
       "      <th>Unnamed: 3</th>\n",
       "      <th>graphite</th>\n",
       "      <th>Unnamed: 5</th>\n",
       "      <th>graphite1</th>\n",
       "      <th>Unnamed: 7</th>\n",
       "      <th>graphite2</th>\n",
       "      <th>...</th>\n",
       "      <th>Unnamed: 57</th>\n",
       "      <th>biochar oxidizer1</th>\n",
       "      <th>Unnamed: 59</th>\n",
       "      <th>biochar oxidizer2</th>\n",
       "      <th>Unnamed: 61</th>\n",
       "      <th>biochar hummers</th>\n",
       "      <th>Unnamed: 63</th>\n",
       "      <th>biochar hummers1</th>\n",
       "      <th>Unnamed: 65</th>\n",
       "      <th>biochar hummers2</th>\n",
       "    </tr>\n",
       "  </thead>\n",
       "  <tbody>\n",
       "    <tr>\n",
       "      <th>0</th>\n",
       "      <td>900.002258</td>\n",
       "      <td>0.000921</td>\n",
       "      <td>900.002258</td>\n",
       "      <td>0.000271</td>\n",
       "      <td>900.002258</td>\n",
       "      <td>0.070857</td>\n",
       "      <td>900.002258</td>\n",
       "      <td>0.070653</td>\n",
       "      <td>900.002258</td>\n",
       "      <td>0.212690</td>\n",
       "      <td>...</td>\n",
       "      <td>900.002258</td>\n",
       "      <td>0.238437</td>\n",
       "      <td>900.002258</td>\n",
       "      <td>0.226418</td>\n",
       "      <td>900.002258</td>\n",
       "      <td>0.261922</td>\n",
       "      <td>900.002258</td>\n",
       "      <td>0.263384</td>\n",
       "      <td>900.002258</td>\n",
       "      <td>0.256945</td>\n",
       "    </tr>\n",
       "    <tr>\n",
       "      <th>1</th>\n",
       "      <td>899.012085</td>\n",
       "      <td>0.000839</td>\n",
       "      <td>899.012085</td>\n",
       "      <td>-0.000259</td>\n",
       "      <td>899.012085</td>\n",
       "      <td>0.069470</td>\n",
       "      <td>899.012085</td>\n",
       "      <td>0.071138</td>\n",
       "      <td>899.012085</td>\n",
       "      <td>0.210327</td>\n",
       "      <td>...</td>\n",
       "      <td>899.012085</td>\n",
       "      <td>0.238321</td>\n",
       "      <td>899.012085</td>\n",
       "      <td>0.225899</td>\n",
       "      <td>899.012085</td>\n",
       "      <td>0.261404</td>\n",
       "      <td>899.012085</td>\n",
       "      <td>0.262717</td>\n",
       "      <td>899.012085</td>\n",
       "      <td>0.255998</td>\n",
       "    </tr>\n",
       "    <tr>\n",
       "      <th>2</th>\n",
       "      <td>897.988281</td>\n",
       "      <td>-0.000973</td>\n",
       "      <td>897.988281</td>\n",
       "      <td>-0.001088</td>\n",
       "      <td>897.988281</td>\n",
       "      <td>0.068515</td>\n",
       "      <td>897.988281</td>\n",
       "      <td>0.069160</td>\n",
       "      <td>897.988281</td>\n",
       "      <td>0.211716</td>\n",
       "      <td>...</td>\n",
       "      <td>897.988281</td>\n",
       "      <td>0.236610</td>\n",
       "      <td>897.988281</td>\n",
       "      <td>0.224931</td>\n",
       "      <td>897.988281</td>\n",
       "      <td>0.260578</td>\n",
       "      <td>897.988281</td>\n",
       "      <td>0.262711</td>\n",
       "      <td>897.988281</td>\n",
       "      <td>0.255207</td>\n",
       "    </tr>\n",
       "    <tr>\n",
       "      <th>3</th>\n",
       "      <td>896.997009</td>\n",
       "      <td>0.000123</td>\n",
       "      <td>896.997009</td>\n",
       "      <td>-0.000431</td>\n",
       "      <td>896.997009</td>\n",
       "      <td>0.069685</td>\n",
       "      <td>896.997009</td>\n",
       "      <td>0.069748</td>\n",
       "      <td>896.997009</td>\n",
       "      <td>0.210139</td>\n",
       "      <td>...</td>\n",
       "      <td>896.997009</td>\n",
       "      <td>0.237267</td>\n",
       "      <td>896.997009</td>\n",
       "      <td>0.224798</td>\n",
       "      <td>896.997009</td>\n",
       "      <td>0.262930</td>\n",
       "      <td>896.997009</td>\n",
       "      <td>0.262554</td>\n",
       "      <td>896.997009</td>\n",
       "      <td>0.257375</td>\n",
       "    </tr>\n",
       "    <tr>\n",
       "      <th>4</th>\n",
       "      <td>896.005310</td>\n",
       "      <td>-0.000069</td>\n",
       "      <td>896.005310</td>\n",
       "      <td>-0.000397</td>\n",
       "      <td>896.005310</td>\n",
       "      <td>0.069678</td>\n",
       "      <td>896.005310</td>\n",
       "      <td>0.070113</td>\n",
       "      <td>896.005310</td>\n",
       "      <td>0.211010</td>\n",
       "      <td>...</td>\n",
       "      <td>896.005310</td>\n",
       "      <td>0.236150</td>\n",
       "      <td>896.005310</td>\n",
       "      <td>0.223617</td>\n",
       "      <td>896.005310</td>\n",
       "      <td>0.261547</td>\n",
       "      <td>896.005310</td>\n",
       "      <td>0.262230</td>\n",
       "      <td>896.005310</td>\n",
       "      <td>0.256695</td>\n",
       "    </tr>\n",
       "  </tbody>\n",
       "</table>\n",
       "<p>5 rows × 68 columns</p>\n",
       "</div>"
      ],
      "text/plain": [
       "   Wavelength   sample1  Unnamed: 1   sample2  Unnamed: 3  graphite  \\\n",
       "0  900.002258  0.000921  900.002258  0.000271  900.002258  0.070857   \n",
       "1  899.012085  0.000839  899.012085 -0.000259  899.012085  0.069470   \n",
       "2  897.988281 -0.000973  897.988281 -0.001088  897.988281  0.068515   \n",
       "3  896.997009  0.000123  896.997009 -0.000431  896.997009  0.069685   \n",
       "4  896.005310 -0.000069  896.005310 -0.000397  896.005310  0.069678   \n",
       "\n",
       "   Unnamed: 5  graphite1  Unnamed: 7  graphite2  ...  Unnamed: 57  \\\n",
       "0  900.002258   0.070653  900.002258   0.212690  ...   900.002258   \n",
       "1  899.012085   0.071138  899.012085   0.210327  ...   899.012085   \n",
       "2  897.988281   0.069160  897.988281   0.211716  ...   897.988281   \n",
       "3  896.997009   0.069748  896.997009   0.210139  ...   896.997009   \n",
       "4  896.005310   0.070113  896.005310   0.211010  ...   896.005310   \n",
       "\n",
       "   biochar oxidizer1  Unnamed: 59  biochar oxidizer2  Unnamed: 61  \\\n",
       "0           0.238437   900.002258           0.226418   900.002258   \n",
       "1           0.238321   899.012085           0.225899   899.012085   \n",
       "2           0.236610   897.988281           0.224931   897.988281   \n",
       "3           0.237267   896.997009           0.224798   896.997009   \n",
       "4           0.236150   896.005310           0.223617   896.005310   \n",
       "\n",
       "   biochar hummers  Unnamed: 63  biochar hummers1  Unnamed: 65  \\\n",
       "0         0.261922   900.002258          0.263384   900.002258   \n",
       "1         0.261404   899.012085          0.262717   899.012085   \n",
       "2         0.260578   897.988281          0.262711   897.988281   \n",
       "3         0.262930   896.997009          0.262554   896.997009   \n",
       "4         0.261547   896.005310          0.262230   896.005310   \n",
       "\n",
       "   biochar hummers2  \n",
       "0          0.256945  \n",
       "1          0.255998  \n",
       "2          0.255207  \n",
       "3          0.257375  \n",
       "4          0.256695  \n",
       "\n",
       "[5 rows x 68 columns]"
      ]
     },
     "execution_count": 269,
     "metadata": {},
     "output_type": "execute_result"
    }
   ],
   "source": [
    "df.columns=cols; df.head()  # dont uncomment and run this again else lose columns"
   ]
  },
  {
   "cell_type": "code",
   "execution_count": 270,
   "metadata": {},
   "outputs": [],
   "source": [
    "# df=df.drop(df.columns[2::2],1)  # dont uncomment and run this again else lose columns"
   ]
  },
  {
   "cell_type": "code",
   "execution_count": 384,
   "metadata": {},
   "outputs": [
    {
     "data": {
      "text/html": [
       "<div>\n",
       "<style scoped>\n",
       "    .dataframe tbody tr th:only-of-type {\n",
       "        vertical-align: middle;\n",
       "    }\n",
       "\n",
       "    .dataframe tbody tr th {\n",
       "        vertical-align: top;\n",
       "    }\n",
       "\n",
       "    .dataframe thead th {\n",
       "        text-align: right;\n",
       "    }\n",
       "</style>\n",
       "<table border=\"1\" class=\"dataframe\">\n",
       "  <thead>\n",
       "    <tr style=\"text-align: right;\">\n",
       "      <th></th>\n",
       "      <th>Wavelength</th>\n",
       "      <th>sample1</th>\n",
       "      <th>sample2</th>\n",
       "      <th>graphite</th>\n",
       "      <th>graphite1</th>\n",
       "      <th>graphite2</th>\n",
       "      <th>coal oxidizer2</th>\n",
       "      <th>coal oxidizer3</th>\n",
       "      <th>coal hummers</th>\n",
       "      <th>coal hummers1</th>\n",
       "      <th>...</th>\n",
       "      <th>coal char oxidizer1</th>\n",
       "      <th>coal char oxidizer2</th>\n",
       "      <th>coal char hummers</th>\n",
       "      <th>coal char hummers1</th>\n",
       "      <th>biochar oxidizer</th>\n",
       "      <th>biochar oxidizer1</th>\n",
       "      <th>biochar oxidizer2</th>\n",
       "      <th>biochar hummers</th>\n",
       "      <th>biochar hummers1</th>\n",
       "      <th>biochar hummers2</th>\n",
       "    </tr>\n",
       "  </thead>\n",
       "  <tbody>\n",
       "    <tr>\n",
       "      <th>0</th>\n",
       "      <td>900.002258</td>\n",
       "      <td>0.000921</td>\n",
       "      <td>0.000271</td>\n",
       "      <td>0.070857</td>\n",
       "      <td>0.070653</td>\n",
       "      <td>0.212690</td>\n",
       "      <td>0.205680</td>\n",
       "      <td>0.203511</td>\n",
       "      <td>0.040579</td>\n",
       "      <td>0.040770</td>\n",
       "      <td>...</td>\n",
       "      <td>0.078966</td>\n",
       "      <td>0.080881</td>\n",
       "      <td>0.084553</td>\n",
       "      <td>0.085165</td>\n",
       "      <td>0.242719</td>\n",
       "      <td>0.238437</td>\n",
       "      <td>0.226418</td>\n",
       "      <td>0.261922</td>\n",
       "      <td>0.263384</td>\n",
       "      <td>0.256945</td>\n",
       "    </tr>\n",
       "    <tr>\n",
       "      <th>1</th>\n",
       "      <td>899.012085</td>\n",
       "      <td>0.000839</td>\n",
       "      <td>-0.000259</td>\n",
       "      <td>0.069470</td>\n",
       "      <td>0.071138</td>\n",
       "      <td>0.210327</td>\n",
       "      <td>0.204517</td>\n",
       "      <td>0.203747</td>\n",
       "      <td>0.039325</td>\n",
       "      <td>0.039885</td>\n",
       "      <td>...</td>\n",
       "      <td>0.078531</td>\n",
       "      <td>0.081566</td>\n",
       "      <td>0.084202</td>\n",
       "      <td>0.086085</td>\n",
       "      <td>0.243946</td>\n",
       "      <td>0.238321</td>\n",
       "      <td>0.225899</td>\n",
       "      <td>0.261404</td>\n",
       "      <td>0.262717</td>\n",
       "      <td>0.255998</td>\n",
       "    </tr>\n",
       "    <tr>\n",
       "      <th>2</th>\n",
       "      <td>897.988281</td>\n",
       "      <td>-0.000973</td>\n",
       "      <td>-0.001088</td>\n",
       "      <td>0.068515</td>\n",
       "      <td>0.069160</td>\n",
       "      <td>0.211716</td>\n",
       "      <td>0.202601</td>\n",
       "      <td>0.202237</td>\n",
       "      <td>0.039294</td>\n",
       "      <td>0.038520</td>\n",
       "      <td>...</td>\n",
       "      <td>0.077134</td>\n",
       "      <td>0.080068</td>\n",
       "      <td>0.082412</td>\n",
       "      <td>0.084162</td>\n",
       "      <td>0.243217</td>\n",
       "      <td>0.236610</td>\n",
       "      <td>0.224931</td>\n",
       "      <td>0.260578</td>\n",
       "      <td>0.262711</td>\n",
       "      <td>0.255207</td>\n",
       "    </tr>\n",
       "    <tr>\n",
       "      <th>3</th>\n",
       "      <td>896.997009</td>\n",
       "      <td>0.000123</td>\n",
       "      <td>-0.000431</td>\n",
       "      <td>0.069685</td>\n",
       "      <td>0.069748</td>\n",
       "      <td>0.210139</td>\n",
       "      <td>0.204087</td>\n",
       "      <td>0.203255</td>\n",
       "      <td>0.039632</td>\n",
       "      <td>0.039844</td>\n",
       "      <td>...</td>\n",
       "      <td>0.077973</td>\n",
       "      <td>0.080707</td>\n",
       "      <td>0.083369</td>\n",
       "      <td>0.084932</td>\n",
       "      <td>0.243996</td>\n",
       "      <td>0.237267</td>\n",
       "      <td>0.224798</td>\n",
       "      <td>0.262930</td>\n",
       "      <td>0.262554</td>\n",
       "      <td>0.257375</td>\n",
       "    </tr>\n",
       "    <tr>\n",
       "      <th>4</th>\n",
       "      <td>896.005310</td>\n",
       "      <td>-0.000069</td>\n",
       "      <td>-0.000397</td>\n",
       "      <td>0.069678</td>\n",
       "      <td>0.070113</td>\n",
       "      <td>0.211010</td>\n",
       "      <td>0.203598</td>\n",
       "      <td>0.202788</td>\n",
       "      <td>0.039672</td>\n",
       "      <td>0.040469</td>\n",
       "      <td>...</td>\n",
       "      <td>0.077992</td>\n",
       "      <td>0.081262</td>\n",
       "      <td>0.083587</td>\n",
       "      <td>0.085148</td>\n",
       "      <td>0.242870</td>\n",
       "      <td>0.236150</td>\n",
       "      <td>0.223617</td>\n",
       "      <td>0.261547</td>\n",
       "      <td>0.262230</td>\n",
       "      <td>0.256695</td>\n",
       "    </tr>\n",
       "  </tbody>\n",
       "</table>\n",
       "<p>5 rows × 35 columns</p>\n",
       "</div>"
      ],
      "text/plain": [
       "   Wavelength   sample1   sample2  graphite  graphite1  graphite2  \\\n",
       "0  900.002258  0.000921  0.000271  0.070857   0.070653   0.212690   \n",
       "1  899.012085  0.000839 -0.000259  0.069470   0.071138   0.210327   \n",
       "2  897.988281 -0.000973 -0.001088  0.068515   0.069160   0.211716   \n",
       "3  896.997009  0.000123 -0.000431  0.069685   0.069748   0.210139   \n",
       "4  896.005310 -0.000069 -0.000397  0.069678   0.070113   0.211010   \n",
       "\n",
       "   coal oxidizer2  coal oxidizer3  coal hummers  coal hummers1  ...  \\\n",
       "0        0.205680        0.203511      0.040579       0.040770  ...   \n",
       "1        0.204517        0.203747      0.039325       0.039885  ...   \n",
       "2        0.202601        0.202237      0.039294       0.038520  ...   \n",
       "3        0.204087        0.203255      0.039632       0.039844  ...   \n",
       "4        0.203598        0.202788      0.039672       0.040469  ...   \n",
       "\n",
       "   coal char oxidizer1  coal char oxidizer2  coal char hummers  \\\n",
       "0             0.078966             0.080881           0.084553   \n",
       "1             0.078531             0.081566           0.084202   \n",
       "2             0.077134             0.080068           0.082412   \n",
       "3             0.077973             0.080707           0.083369   \n",
       "4             0.077992             0.081262           0.083587   \n",
       "\n",
       "   coal char hummers1  biochar oxidizer  biochar oxidizer1  biochar oxidizer2  \\\n",
       "0            0.085165          0.242719           0.238437           0.226418   \n",
       "1            0.086085          0.243946           0.238321           0.225899   \n",
       "2            0.084162          0.243217           0.236610           0.224931   \n",
       "3            0.084932          0.243996           0.237267           0.224798   \n",
       "4            0.085148          0.242870           0.236150           0.223617   \n",
       "\n",
       "   biochar hummers  biochar hummers1  biochar hummers2  \n",
       "0         0.261922          0.263384          0.256945  \n",
       "1         0.261404          0.262717          0.255998  \n",
       "2         0.260578          0.262711          0.255207  \n",
       "3         0.262930          0.262554          0.257375  \n",
       "4         0.261547          0.262230          0.256695  \n",
       "\n",
       "[5 rows x 35 columns]"
      ]
     },
     "execution_count": 384,
     "metadata": {},
     "output_type": "execute_result"
    }
   ],
   "source": [
    "df.head()"
   ]
  },
  {
   "cell_type": "markdown",
   "metadata": {},
   "source": [
    "## Data plots"
   ]
  },
  {
   "cell_type": "code",
   "execution_count": 385,
   "metadata": {},
   "outputs": [
    {
     "data": {
      "text/plain": [
       "<matplotlib.axes._subplots.AxesSubplot at 0x1c3c34a358>"
      ]
     },
     "execution_count": 385,
     "metadata": {},
     "output_type": "execute_result"
    },
    {
     "data": {
      "image/png": "[encoded data removed]",
      "text/plain": [
       "<Figure size 432x288 with 1 Axes>"
      ]
     },
     "metadata": {
      "needs_background": "light"
     },
     "output_type": "display_data"
    }
   ],
   "source": [
    "df.plot(x='Wavelength', y=['graphite','biochar hummers', 'coal hummers', 'coal char hummers'])"
   ]
  },
  {
   "cell_type": "code",
   "execution_count": 426,
   "metadata": {},
   "outputs": [],
   "source": [
    "def normalise(x, y): return (y-y.min())/(y.max()-y.min())"
   ]
  },
  {
   "cell_type": "code",
   "execution_count": 427,
   "metadata": {},
   "outputs": [],
   "source": [
    "results = [normalise(x, val) for cols, val in df.iteritems()]"
   ]
  },
  {
   "cell_type": "code",
   "execution_count": 428,
   "metadata": {},
   "outputs": [
    {
     "data": {
      "text/html": [
       "<div>\n",
       "<style scoped>\n",
       "    .dataframe tbody tr th:only-of-type {\n",
       "        vertical-align: middle;\n",
       "    }\n",
       "\n",
       "    .dataframe tbody tr th {\n",
       "        vertical-align: top;\n",
       "    }\n",
       "\n",
       "    .dataframe thead th {\n",
       "        text-align: right;\n",
       "    }\n",
       "</style>\n",
       "<table border=\"1\" class=\"dataframe\">\n",
       "  <thead>\n",
       "    <tr style=\"text-align: right;\">\n",
       "      <th></th>\n",
       "      <th>sample1_norm</th>\n",
       "      <th>sample2_norm</th>\n",
       "      <th>graphite_norm</th>\n",
       "      <th>graphite1_norm</th>\n",
       "      <th>graphite2_norm</th>\n",
       "      <th>coal oxidizer2_norm</th>\n",
       "      <th>coal oxidizer3_norm</th>\n",
       "      <th>coal hummers_norm</th>\n",
       "      <th>coal hummers1_norm</th>\n",
       "      <th>coal EL oxidizer_norm</th>\n",
       "      <th>...</th>\n",
       "      <th>coal char oxidizer1_norm</th>\n",
       "      <th>coal char oxidizer2_norm</th>\n",
       "      <th>coal char hummers_norm</th>\n",
       "      <th>coal char hummers1_norm</th>\n",
       "      <th>biochar oxidizer_norm</th>\n",
       "      <th>biochar oxidizer1_norm</th>\n",
       "      <th>biochar oxidizer2_norm</th>\n",
       "      <th>biochar hummers_norm</th>\n",
       "      <th>biochar hummers1_norm</th>\n",
       "      <th>biochar hummers2_norm</th>\n",
       "    </tr>\n",
       "  </thead>\n",
       "  <tbody>\n",
       "    <tr>\n",
       "      <th>0</th>\n",
       "      <td>0.463477</td>\n",
       "      <td>0.594593</td>\n",
       "      <td>0.625160</td>\n",
       "      <td>0.281311</td>\n",
       "      <td>0.002540</td>\n",
       "      <td>0.003100</td>\n",
       "      <td>0.056841</td>\n",
       "      <td>0.011570</td>\n",
       "      <td>0.016110</td>\n",
       "      <td>0.007481</td>\n",
       "      <td>...</td>\n",
       "      <td>0.070595</td>\n",
       "      <td>0.070689</td>\n",
       "      <td>0.333314</td>\n",
       "      <td>0.405115</td>\n",
       "      <td>0.176565</td>\n",
       "      <td>0.169570</td>\n",
       "      <td>0.166045</td>\n",
       "      <td>0.766588</td>\n",
       "      <td>0.818839</td>\n",
       "      <td>0.811109</td>\n",
       "    </tr>\n",
       "    <tr>\n",
       "      <th>1</th>\n",
       "      <td>0.457712</td>\n",
       "      <td>0.567057</td>\n",
       "      <td>0.568709</td>\n",
       "      <td>0.281654</td>\n",
       "      <td>0.000188</td>\n",
       "      <td>0.001929</td>\n",
       "      <td>0.067371</td>\n",
       "      <td>0.006753</td>\n",
       "      <td>0.012643</td>\n",
       "      <td>0.007554</td>\n",
       "      <td>...</td>\n",
       "      <td>0.068981</td>\n",
       "      <td>0.073227</td>\n",
       "      <td>0.327931</td>\n",
       "      <td>0.418863</td>\n",
       "      <td>0.179584</td>\n",
       "      <td>0.169285</td>\n",
       "      <td>0.164766</td>\n",
       "      <td>0.759929</td>\n",
       "      <td>0.810113</td>\n",
       "      <td>0.798467</td>\n",
       "    </tr>\n",
       "    <tr>\n",
       "      <th>2</th>\n",
       "      <td>0.331203</td>\n",
       "      <td>0.524062</td>\n",
       "      <td>0.529801</td>\n",
       "      <td>0.280256</td>\n",
       "      <td>0.001570</td>\n",
       "      <td>0.000000</td>\n",
       "      <td>0.000000</td>\n",
       "      <td>0.006635</td>\n",
       "      <td>0.007291</td>\n",
       "      <td>0.007284</td>\n",
       "      <td>...</td>\n",
       "      <td>0.063793</td>\n",
       "      <td>0.067680</td>\n",
       "      <td>0.300489</td>\n",
       "      <td>0.390149</td>\n",
       "      <td>0.177789</td>\n",
       "      <td>0.165079</td>\n",
       "      <td>0.162385</td>\n",
       "      <td>0.749305</td>\n",
       "      <td>0.810036</td>\n",
       "      <td>0.787925</td>\n",
       "    </tr>\n",
       "    <tr>\n",
       "      <th>3</th>\n",
       "      <td>0.407751</td>\n",
       "      <td>0.558154</td>\n",
       "      <td>0.577447</td>\n",
       "      <td>0.280671</td>\n",
       "      <td>0.000000</td>\n",
       "      <td>0.001496</td>\n",
       "      <td>0.045424</td>\n",
       "      <td>0.007933</td>\n",
       "      <td>0.012480</td>\n",
       "      <td>0.004501</td>\n",
       "      <td>...</td>\n",
       "      <td>0.066908</td>\n",
       "      <td>0.070046</td>\n",
       "      <td>0.315165</td>\n",
       "      <td>0.401638</td>\n",
       "      <td>0.179707</td>\n",
       "      <td>0.166695</td>\n",
       "      <td>0.162055</td>\n",
       "      <td>0.779557</td>\n",
       "      <td>0.807990</td>\n",
       "      <td>0.816834</td>\n",
       "    </tr>\n",
       "    <tr>\n",
       "      <th>4</th>\n",
       "      <td>0.394327</td>\n",
       "      <td>0.559923</td>\n",
       "      <td>0.577161</td>\n",
       "      <td>0.280929</td>\n",
       "      <td>0.000867</td>\n",
       "      <td>0.001004</td>\n",
       "      <td>0.024575</td>\n",
       "      <td>0.008087</td>\n",
       "      <td>0.014933</td>\n",
       "      <td>0.006334</td>\n",
       "      <td>...</td>\n",
       "      <td>0.066978</td>\n",
       "      <td>0.072098</td>\n",
       "      <td>0.318501</td>\n",
       "      <td>0.404865</td>\n",
       "      <td>0.176936</td>\n",
       "      <td>0.163948</td>\n",
       "      <td>0.159149</td>\n",
       "      <td>0.761770</td>\n",
       "      <td>0.803746</td>\n",
       "      <td>0.807772</td>\n",
       "    </tr>\n",
       "  </tbody>\n",
       "</table>\n",
       "<p>5 rows × 34 columns</p>\n",
       "</div>"
      ],
      "text/plain": [
       "   sample1_norm  sample2_norm  graphite_norm  graphite1_norm  graphite2_norm  \\\n",
       "0      0.463477      0.594593       0.625160        0.281311        0.002540   \n",
       "1      0.457712      0.567057       0.568709        0.281654        0.000188   \n",
       "2      0.331203      0.524062       0.529801        0.280256        0.001570   \n",
       "3      0.407751      0.558154       0.577447        0.280671        0.000000   \n",
       "4      0.394327      0.559923       0.577161        0.280929        0.000867   \n",
       "\n",
       "   coal oxidizer2_norm  coal oxidizer3_norm  coal hummers_norm  \\\n",
       "0             0.003100             0.056841           0.011570   \n",
       "1             0.001929             0.067371           0.006753   \n",
       "2             0.000000             0.000000           0.006635   \n",
       "3             0.001496             0.045424           0.007933   \n",
       "4             0.001004             0.024575           0.008087   \n",
       "\n",
       "   coal hummers1_norm  coal EL oxidizer_norm  ...  coal char oxidizer1_norm  \\\n",
       "0            0.016110               0.007481  ...                  0.070595   \n",
       "1            0.012643               0.007554  ...                  0.068981   \n",
       "2            0.007291               0.007284  ...                  0.063793   \n",
       "3            0.012480               0.004501  ...                  0.066908   \n",
       "4            0.014933               0.006334  ...                  0.066978   \n",
       "\n",
       "   coal char oxidizer2_norm  coal char hummers_norm  coal char hummers1_norm  \\\n",
       "0                  0.070689                0.333314                 0.405115   \n",
       "1                  0.073227                0.327931                 0.418863   \n",
       "2                  0.067680                0.300489                 0.390149   \n",
       "3                  0.070046                0.315165                 0.401638   \n",
       "4                  0.072098                0.318501                 0.404865   \n",
       "\n",
       "   biochar oxidizer_norm  biochar oxidizer1_norm  biochar oxidizer2_norm  \\\n",
       "0               0.176565                0.169570                0.166045   \n",
       "1               0.179584                0.169285                0.164766   \n",
       "2               0.177789                0.165079                0.162385   \n",
       "3               0.179707                0.166695                0.162055   \n",
       "4               0.176936                0.163948                0.159149   \n",
       "\n",
       "   biochar hummers_norm  biochar hummers1_norm  biochar hummers2_norm  \n",
       "0              0.766588               0.818839               0.811109  \n",
       "1              0.759929               0.810113               0.798467  \n",
       "2              0.749305               0.810036               0.787925  \n",
       "3              0.779557               0.807990               0.816834  \n",
       "4              0.761770               0.803746               0.807772  \n",
       "\n",
       "[5 rows x 34 columns]"
      ]
     },
     "execution_count": 428,
     "metadata": {},
     "output_type": "execute_result"
    }
   ],
   "source": [
    "df2 = pd.DataFrame(results[1:]).T\n",
    "df2.columns = [str(col) + '_norm' for col in df.columns[1:]]\n",
    "df2.head()"
   ]
  },
  {
   "cell_type": "code",
   "execution_count": 429,
   "metadata": {},
   "outputs": [
    {
     "data": {
      "text/html": [
       "<div>\n",
       "<style scoped>\n",
       "    .dataframe tbody tr th:only-of-type {\n",
       "        vertical-align: middle;\n",
       "    }\n",
       "\n",
       "    .dataframe tbody tr th {\n",
       "        vertical-align: top;\n",
       "    }\n",
       "\n",
       "    .dataframe thead th {\n",
       "        text-align: right;\n",
       "    }\n",
       "</style>\n",
       "<table border=\"1\" class=\"dataframe\">\n",
       "  <thead>\n",
       "    <tr style=\"text-align: right;\">\n",
       "      <th></th>\n",
       "      <th>Wavelength</th>\n",
       "      <th>sample1</th>\n",
       "      <th>sample2</th>\n",
       "      <th>graphite</th>\n",
       "      <th>graphite1</th>\n",
       "      <th>graphite2</th>\n",
       "      <th>coal oxidizer2</th>\n",
       "      <th>coal oxidizer3</th>\n",
       "      <th>coal hummers</th>\n",
       "      <th>coal hummers1</th>\n",
       "      <th>...</th>\n",
       "      <th>coal char oxidizer1_norm</th>\n",
       "      <th>coal char oxidizer2_norm</th>\n",
       "      <th>coal char hummers_norm</th>\n",
       "      <th>coal char hummers1_norm</th>\n",
       "      <th>biochar oxidizer_norm</th>\n",
       "      <th>biochar oxidizer1_norm</th>\n",
       "      <th>biochar oxidizer2_norm</th>\n",
       "      <th>biochar hummers_norm</th>\n",
       "      <th>biochar hummers1_norm</th>\n",
       "      <th>biochar hummers2_norm</th>\n",
       "    </tr>\n",
       "  </thead>\n",
       "  <tbody>\n",
       "    <tr>\n",
       "      <th>0</th>\n",
       "      <td>900.002258</td>\n",
       "      <td>0.000921</td>\n",
       "      <td>0.000271</td>\n",
       "      <td>0.070857</td>\n",
       "      <td>0.070653</td>\n",
       "      <td>0.212690</td>\n",
       "      <td>0.205680</td>\n",
       "      <td>0.203511</td>\n",
       "      <td>0.040579</td>\n",
       "      <td>0.040770</td>\n",
       "      <td>...</td>\n",
       "      <td>0.070595</td>\n",
       "      <td>0.070689</td>\n",
       "      <td>0.333314</td>\n",
       "      <td>0.405115</td>\n",
       "      <td>0.176565</td>\n",
       "      <td>0.169570</td>\n",
       "      <td>0.166045</td>\n",
       "      <td>0.766588</td>\n",
       "      <td>0.818839</td>\n",
       "      <td>0.811109</td>\n",
       "    </tr>\n",
       "    <tr>\n",
       "      <th>1</th>\n",
       "      <td>899.012085</td>\n",
       "      <td>0.000839</td>\n",
       "      <td>-0.000259</td>\n",
       "      <td>0.069470</td>\n",
       "      <td>0.071138</td>\n",
       "      <td>0.210327</td>\n",
       "      <td>0.204517</td>\n",
       "      <td>0.203747</td>\n",
       "      <td>0.039325</td>\n",
       "      <td>0.039885</td>\n",
       "      <td>...</td>\n",
       "      <td>0.068981</td>\n",
       "      <td>0.073227</td>\n",
       "      <td>0.327931</td>\n",
       "      <td>0.418863</td>\n",
       "      <td>0.179584</td>\n",
       "      <td>0.169285</td>\n",
       "      <td>0.164766</td>\n",
       "      <td>0.759929</td>\n",
       "      <td>0.810113</td>\n",
       "      <td>0.798467</td>\n",
       "    </tr>\n",
       "    <tr>\n",
       "      <th>2</th>\n",
       "      <td>897.988281</td>\n",
       "      <td>-0.000973</td>\n",
       "      <td>-0.001088</td>\n",
       "      <td>0.068515</td>\n",
       "      <td>0.069160</td>\n",
       "      <td>0.211716</td>\n",
       "      <td>0.202601</td>\n",
       "      <td>0.202237</td>\n",
       "      <td>0.039294</td>\n",
       "      <td>0.038520</td>\n",
       "      <td>...</td>\n",
       "      <td>0.063793</td>\n",
       "      <td>0.067680</td>\n",
       "      <td>0.300489</td>\n",
       "      <td>0.390149</td>\n",
       "      <td>0.177789</td>\n",
       "      <td>0.165079</td>\n",
       "      <td>0.162385</td>\n",
       "      <td>0.749305</td>\n",
       "      <td>0.810036</td>\n",
       "      <td>0.787925</td>\n",
       "    </tr>\n",
       "    <tr>\n",
       "      <th>3</th>\n",
       "      <td>896.997009</td>\n",
       "      <td>0.000123</td>\n",
       "      <td>-0.000431</td>\n",
       "      <td>0.069685</td>\n",
       "      <td>0.069748</td>\n",
       "      <td>0.210139</td>\n",
       "      <td>0.204087</td>\n",
       "      <td>0.203255</td>\n",
       "      <td>0.039632</td>\n",
       "      <td>0.039844</td>\n",
       "      <td>...</td>\n",
       "      <td>0.066908</td>\n",
       "      <td>0.070046</td>\n",
       "      <td>0.315165</td>\n",
       "      <td>0.401638</td>\n",
       "      <td>0.179707</td>\n",
       "      <td>0.166695</td>\n",
       "      <td>0.162055</td>\n",
       "      <td>0.779557</td>\n",
       "      <td>0.807990</td>\n",
       "      <td>0.816834</td>\n",
       "    </tr>\n",
       "    <tr>\n",
       "      <th>4</th>\n",
       "      <td>896.005310</td>\n",
       "      <td>-0.000069</td>\n",
       "      <td>-0.000397</td>\n",
       "      <td>0.069678</td>\n",
       "      <td>0.070113</td>\n",
       "      <td>0.211010</td>\n",
       "      <td>0.203598</td>\n",
       "      <td>0.202788</td>\n",
       "      <td>0.039672</td>\n",
       "      <td>0.040469</td>\n",
       "      <td>...</td>\n",
       "      <td>0.066978</td>\n",
       "      <td>0.072098</td>\n",
       "      <td>0.318501</td>\n",
       "      <td>0.404865</td>\n",
       "      <td>0.176936</td>\n",
       "      <td>0.163948</td>\n",
       "      <td>0.159149</td>\n",
       "      <td>0.761770</td>\n",
       "      <td>0.803746</td>\n",
       "      <td>0.807772</td>\n",
       "    </tr>\n",
       "  </tbody>\n",
       "</table>\n",
       "<p>5 rows × 69 columns</p>\n",
       "</div>"
      ],
      "text/plain": [
       "   Wavelength   sample1   sample2  graphite  graphite1  graphite2  \\\n",
       "0  900.002258  0.000921  0.000271  0.070857   0.070653   0.212690   \n",
       "1  899.012085  0.000839 -0.000259  0.069470   0.071138   0.210327   \n",
       "2  897.988281 -0.000973 -0.001088  0.068515   0.069160   0.211716   \n",
       "3  896.997009  0.000123 -0.000431  0.069685   0.069748   0.210139   \n",
       "4  896.005310 -0.000069 -0.000397  0.069678   0.070113   0.211010   \n",
       "\n",
       "   coal oxidizer2  coal oxidizer3  coal hummers  coal hummers1  ...  \\\n",
       "0        0.205680        0.203511      0.040579       0.040770  ...   \n",
       "1        0.204517        0.203747      0.039325       0.039885  ...   \n",
       "2        0.202601        0.202237      0.039294       0.038520  ...   \n",
       "3        0.204087        0.203255      0.039632       0.039844  ...   \n",
       "4        0.203598        0.202788      0.039672       0.040469  ...   \n",
       "\n",
       "   coal char oxidizer1_norm  coal char oxidizer2_norm  coal char hummers_norm  \\\n",
       "0                  0.070595                  0.070689                0.333314   \n",
       "1                  0.068981                  0.073227                0.327931   \n",
       "2                  0.063793                  0.067680                0.300489   \n",
       "3                  0.066908                  0.070046                0.315165   \n",
       "4                  0.066978                  0.072098                0.318501   \n",
       "\n",
       "   coal char hummers1_norm  biochar oxidizer_norm  biochar oxidizer1_norm  \\\n",
       "0                 0.405115               0.176565                0.169570   \n",
       "1                 0.418863               0.179584                0.169285   \n",
       "2                 0.390149               0.177789                0.165079   \n",
       "3                 0.401638               0.179707                0.166695   \n",
       "4                 0.404865               0.176936                0.163948   \n",
       "\n",
       "   biochar oxidizer2_norm  biochar hummers_norm  biochar hummers1_norm  \\\n",
       "0                0.166045              0.766588               0.818839   \n",
       "1                0.164766              0.759929               0.810113   \n",
       "2                0.162385              0.749305               0.810036   \n",
       "3                0.162055              0.779557               0.807990   \n",
       "4                0.159149              0.761770               0.803746   \n",
       "\n",
       "   biochar hummers2_norm  \n",
       "0               0.811109  \n",
       "1               0.798467  \n",
       "2               0.787925  \n",
       "3               0.816834  \n",
       "4               0.807772  \n",
       "\n",
       "[5 rows x 69 columns]"
      ]
     },
     "execution_count": 429,
     "metadata": {},
     "output_type": "execute_result"
    }
   ],
   "source": [
    "dfs=pd.concat([df,df2],axis=1)\n",
    "dfs.head()"
   ]
  },
  {
   "cell_type": "code",
   "execution_count": 430,
   "metadata": {},
   "outputs": [
    {
     "data": {
      "text/plain": [
       "<matplotlib.axes._subplots.AxesSubplot at 0x1c3a090978>"
      ]
     },
     "execution_count": 430,
     "metadata": {},
     "output_type": "execute_result"
    },
    {
     "data": {
      "image/png": "[encoded data removed]",
      "text/plain": [
       "<Figure size 432x288 with 1 Axes>"
      ]
     },
     "metadata": {
      "needs_background": "light"
     },
     "output_type": "display_data"
    }
   ],
   "source": [
    "dfs.plot(x='Wavelength', y=['graphite_norm','biochar hummers_norm', 'coal hummers_norm', 'coal char hummers_norm'])"
   ]
  },
  {
   "cell_type": "markdown",
   "metadata": {},
   "source": [
    "## Baseline subtraction"
   ]
  },
  {
   "cell_type": "code",
   "execution_count": 275,
   "metadata": {},
   "outputs": [],
   "source": [
    "from lmfit.models import LinearModel, Model"
   ]
  },
  {
   "cell_type": "code",
   "execution_count": 390,
   "metadata": {},
   "outputs": [
    {
     "data": {
      "text/plain": [
       "<matplotlib.axes._subplots.AxesSubplot at 0x1c3c244278>"
      ]
     },
     "execution_count": 390,
     "metadata": {},
     "output_type": "execute_result"
    },
    {
     "data": {
      "image/png": "[encoded data removed]",
      "text/plain": [
       "<Figure size 432x288 with 1 Axes>"
      ]
     },
     "metadata": {
      "needs_background": "light"
     },
     "output_type": "display_data"
    }
   ],
   "source": [
    "df.plot(x='Wavelength', y=['coal hummers'])"
   ]
  },
  {
   "cell_type": "code",
   "execution_count": 424,
   "metadata": {},
   "outputs": [],
   "source": [
    "x = df['Wavelength'].values\n",
    "y = df.iloc[:,20].values"
   ]
  },
  {
   "cell_type": "code",
   "execution_count": 425,
   "metadata": {},
   "outputs": [
    {
     "data": {
      "text/plain": [
       "[<matplotlib.lines.Line2D at 0x1c3a90a3c8>]"
      ]
     },
     "execution_count": 425,
     "metadata": {},
     "output_type": "execute_result"
    },
    {
     "data": {
      "image/png": "[encoded data removed]",
      "text/plain": [
       "<Figure size 432x288 with 1 Axes>"
      ]
     },
     "metadata": {
      "needs_background": "light"
     },
     "output_type": "display_data"
    }
   ],
   "source": [
    "plt.plot(x,y)\n",
    "plt.plot(np.unique(x), np.poly1d(np.polyfit(x[:-300], y[:-300], 1))(np.unique(x)))"
   ]
  },
  {
   "cell_type": "code",
   "execution_count": 393,
   "metadata": {},
   "outputs": [
    {
     "data": {
      "text/plain": [
       "[<matplotlib.lines.Line2D at 0x1c3cd0c668>]"
      ]
     },
     "execution_count": 393,
     "metadata": {},
     "output_type": "execute_result"
    },
    {
     "data": {
      "image/png": "[encoded data removed]",
      "text/plain": [
       "<Figure size 432x288 with 1 Axes>"
      ]
     },
     "metadata": {
      "needs_background": "light"
     },
     "output_type": "display_data"
    }
   ],
   "source": [
    "x_fit = x\n",
    "y_fit = y+np.poly1d(np.polyfit(x[:-300], y[:-300], 1))(np.unique(x))  # linear baseline subtraction\n",
    "y_mm = (y_fit-y_fit.min())/(y_fit.max()-y_fit.min())  # normalize peak to 1\n",
    "plt.plot(x_fit,y_mm)"
   ]
  },
  {
   "cell_type": "code",
   "execution_count": 298,
   "metadata": {},
   "outputs": [],
   "source": [
    "def gaussian(x, amp, cen, wid):\n",
    "    \"\"\"1-d gaussian: gaussian(x, amp, cen, wid)\"\"\"\n",
    "    return (amp / (sqrt(2*pi) * wid)) * exp(-(x-cen)**2 / (2*wid**2))\n",
    "\n",
    "\n",
    "def line(x, slope, intercept):\n",
    "    \"\"\"a line\"\"\"\n",
    "    return slope*x + intercept"
   ]
  },
  {
   "cell_type": "code",
   "execution_count": 299,
   "metadata": {},
   "outputs": [
    {
     "name": "stdout",
     "output_type": "stream",
     "text": [
      "[[Model]]\n",
      "    (Model(gaussian) + Model(line))\n",
      "[[Fit Statistics]]\n",
      "    # fitting method   = leastsq\n",
      "    # function evals   = 56\n",
      "    # data points      = 711\n",
      "    # variables        = 5\n",
      "    chi-square         = 5.8847e-04\n",
      "    reduced chi-square = 8.3352e-07\n",
      "    Akaike info crit   = -9947.31350\n",
      "    Bayesian info crit = -9924.48014\n",
      "[[Variables]]\n",
      "    amp:        0.78577039 +/- 0.04780070 (6.08%) (init = 0.01)\n",
      "    cen:        191.519831 +/- 1.19131443 (0.62%) (init = 200)\n",
      "    wid:        17.2955870 +/- 0.79596649 (4.60%) (init = 1)\n",
      "    slope:      2.0143e-05 +/- 1.8637e-07 (0.93%) (init = 0)\n",
      "    intercept:  0.05241024 +/- 1.1207e-04 (0.21%) (init = 1)\n",
      "[[Correlations]] (unreported correlations are < 0.100)\n",
      "    C(amp, cen)         = -0.956\n",
      "    C(amp, wid)         =  0.954\n",
      "    C(slope, intercept) = -0.948\n",
      "    C(cen, wid)         = -0.915\n",
      "    C(amp, intercept)   = -0.262\n",
      "    C(amp, slope)       =  0.234\n",
      "    C(wid, intercept)   = -0.231\n",
      "    C(wid, slope)       =  0.205\n",
      "    C(cen, intercept)   =  0.126\n",
      "    C(cen, slope)       = -0.112\n",
      "\n"
     ]
    },
    {
     "data": {
      "image/png": "[encoded data removed]",
      "text/plain": [
       "<Figure size 432x288 with 1 Axes>"
      ]
     },
     "metadata": {
      "needs_background": "light"
     },
     "output_type": "display_data"
    }
   ],
   "source": [
    "x = df['Wavelength'].values\n",
    "y = df['graphite'].values\n",
    "\n",
    "mod = Model(gaussian) + Model(line)\n",
    "pars = mod.make_params(amp=0.01, cen=200, wid=1, slope=0, intercept=1)\n",
    "\n",
    "result = mod.fit(y, pars, x=x)\n",
    "\n",
    "print(result.fit_report())\n",
    "\n",
    "plt.plot(x, y, 'bo')\n",
    "# plt.plot(x, result.init_fit, 'k--')\n",
    "plt.plot(x, result.best_fit, 'r-')\n",
    "plt.show()"
   ]
  },
  {
   "cell_type": "code",
   "execution_count": 300,
   "metadata": {},
   "outputs": [
    {
     "name": "stdout",
     "output_type": "stream",
     "text": [
      "[[Model]]\n",
      "    (Model(gaussian) + Model(line))\n",
      "[[Fit Statistics]]\n",
      "    # fitting method   = leastsq\n",
      "    # function evals   = 72\n",
      "    # data points      = 711\n",
      "    # variables        = 5\n",
      "    chi-square         = 0.00100818\n",
      "    reduced chi-square = 1.4280e-06\n",
      "    Akaike info crit   = -9564.52851\n",
      "    Bayesian info crit = -9541.69515\n",
      "[[Variables]]\n",
      "    amp:        2.35966667 +/- 0.01423831 (0.60%) (init = 0.01)\n",
      "    cen:        203.412177 +/- 0.07393157 (0.04%) (init = 200)\n",
      "    wid:        12.2746279 +/- 0.08437883 (0.69%) (init = 1)\n",
      "    slope:      8.6993e-05 +/- 2.4147e-07 (0.28%) (init = 0)\n",
      "    intercept:  0.18319527 +/- 1.4478e-04 (0.08%) (init = 1)\n",
      "[[Correlations]] (unreported correlations are < 0.100)\n",
      "    C(slope, intercept) = -0.947\n",
      "    C(amp, wid)         =  0.775\n",
      "    C(amp, intercept)   = -0.429\n",
      "    C(cen, wid)         = -0.420\n",
      "    C(amp, slope)       =  0.383\n",
      "    C(amp, cen)         = -0.368\n",
      "    C(wid, intercept)   = -0.227\n",
      "    C(wid, slope)       =  0.202\n",
      "\n"
     ]
    },
    {
     "data": {
      "image/png": "[encoded data removed]",
      "text/plain": [
       "<Figure size 432x288 with 1 Axes>"
      ]
     },
     "metadata": {
      "needs_background": "light"
     },
     "output_type": "display_data"
    }
   ],
   "source": [
    "x = df['Wavelength'].values\n",
    "y = df['biochar hummers'].values\n",
    "\n",
    "mod = Model(gaussian) + Model(line)\n",
    "pars = mod.make_params(amp=0.01, cen=200, wid=1, slope=0, intercept=1)\n",
    "\n",
    "result = mod.fit(y, pars, x=x)\n",
    "\n",
    "print(result.fit_report())\n",
    "\n",
    "plt.plot(x, y, 'bo')\n",
    "# plt.plot(x, result.init_fit, 'k--')\n",
    "plt.plot(x, result.best_fit, 'r-')\n",
    "plt.show()"
   ]
  },
  {
   "cell_type": "code",
   "execution_count": 301,
   "metadata": {},
   "outputs": [
    {
     "name": "stdout",
     "output_type": "stream",
     "text": [
      "[[Model]]\n",
      "    (Model(gaussian) + Model(line))\n",
      "[[Fit Statistics]]\n",
      "    # fitting method   = leastsq\n",
      "    # function evals   = 103\n",
      "    # data points      = 711\n",
      "    # variables        = 5\n",
      "    chi-square         = 0.01122398\n",
      "    reduced chi-square = 1.5898e-05\n",
      "    Akaike info crit   = -7851.08269\n",
      "    Bayesian info crit = -7828.24933\n",
      "[[Variables]]\n",
      "    amp:        83.2305865 +/- 2.44828057 (2.94%) (init = 0.01)\n",
      "    cen:        135.047959 +/- 3.29524292 (2.44%) (init = 200)\n",
      "    wid:        114.202987 +/- 1.62715070 (1.42%) (init = 1)\n",
      "    slope:     -1.5299e-05 +/- 1.6022e-06 (10.47%) (init = 0)\n",
      "    intercept:  0.05162968 +/- 0.00112327 (2.18%) (init = 1)\n",
      "[[Correlations]] (unreported correlations are < 0.100)\n",
      "    C(amp, cen)         = -0.989\n",
      "    C(slope, intercept) = -0.985\n",
      "    C(amp, wid)         =  0.983\n",
      "    C(cen, wid)         = -0.969\n",
      "    C(wid, intercept)   = -0.615\n",
      "    C(amp, intercept)   = -0.593\n",
      "    C(wid, slope)       =  0.574\n",
      "    C(amp, slope)       =  0.556\n",
      "    C(cen, intercept)   =  0.480\n",
      "    C(cen, slope)       = -0.446\n",
      "\n"
     ]
    },
    {
     "data": {
      "image/png": "[encoded data removed]",
      "text/plain": [
       "<Figure size 432x288 with 1 Axes>"
      ]
     },
     "metadata": {
      "needs_background": "light"
     },
     "output_type": "display_data"
    }
   ],
   "source": [
    "x = df['Wavelength'].values\n",
    "y = df['coal hummers'].values\n",
    "\n",
    "mod = Model(gaussian) + Model(line)\n",
    "pars = mod.make_params(amp=0.01, cen=200, wid=1, slope=0, intercept=1)\n",
    "\n",
    "result = mod.fit(y, pars, x=x)\n",
    "\n",
    "print(result.fit_report())\n",
    "\n",
    "plt.plot(x, y, 'bo')\n",
    "# plt.plot(x, result.init_fit, 'k--')\n",
    "plt.plot(x, result.best_fit, 'r-')\n",
    "plt.show()"
   ]
  },
  {
   "cell_type": "code",
   "execution_count": 302,
   "metadata": {},
   "outputs": [
    {
     "name": "stdout",
     "output_type": "stream",
     "text": [
      "[[Model]]\n",
      "    (Model(gaussian) + Model(line))\n",
      "[[Fit Statistics]]\n",
      "    # fitting method   = leastsq\n",
      "    # function evals   = 78\n",
      "    # data points      = 711\n",
      "    # variables        = 5\n",
      "    chi-square         = 0.00244856\n",
      "    reduced chi-square = 3.4682e-06\n",
      "    Akaike info crit   = -8933.61737\n",
      "    Bayesian info crit = -8910.78401\n",
      "[[Variables]]\n",
      "    amp:        1.77922618 +/- 0.02023633 (1.14%) (init = 0.01)\n",
      "    cen:        203.832969 +/- 0.13052469 (0.06%) (init = 200)\n",
      "    wid:        11.5417568 +/- 0.14995953 (1.30%) (init = 1)\n",
      "    slope:      2.8717e-05 +/- 3.7499e-07 (1.31%) (init = 0)\n",
      "    intercept:  0.06001183 +/- 2.2462e-04 (0.37%) (init = 1)\n",
      "[[Correlations]] (unreported correlations are < 0.100)\n",
      "    C(slope, intercept) = -0.947\n",
      "    C(amp, wid)         =  0.748\n",
      "    C(amp, intercept)   = -0.434\n",
      "    C(amp, slope)       =  0.387\n",
      "    C(cen, wid)         = -0.346\n",
      "    C(amp, cen)         = -0.290\n",
      "    C(wid, intercept)   = -0.227\n",
      "    C(wid, slope)       =  0.201\n",
      "\n"
     ]
    },
    {
     "data": {
      "image/png": "[encoded data removed]",
      "text/plain": [
       "<Figure size 432x288 with 1 Axes>"
      ]
     },
     "metadata": {
      "needs_background": "light"
     },
     "output_type": "display_data"
    }
   ],
   "source": [
    "x = df['Wavelength'].values\n",
    "y = df['coal char hummers'].values\n",
    "\n",
    "mod = Model(gaussian) + Model(line)\n",
    "pars = mod.make_params(amp=0.01, cen=200, wid=1, slope=0, intercept=1)\n",
    "\n",
    "result = mod.fit(y, pars, x=x)\n",
    "\n",
    "print(result.fit_report())\n",
    "\n",
    "plt.plot(x, y, 'bo')\n",
    "# plt.plot(x, result.init_fit, 'k--')\n",
    "plt.plot(x, result.best_fit, 'r-')\n",
    "plt.show()"
   ]
  },
  {
   "cell_type": "code",
   "execution_count": 195,
   "metadata": {},
   "outputs": [],
   "source": [
    "def normalise(x, y):\n",
    "    bir = np.array([(1000,1100),(1750,1800)]) # The regions where the baseline will be fitted\n",
    "\n",
    "    y_corr, y_base = rp.baseline(x, y, bir,'poly',polynomial_order=2)\n",
    "    \n",
    "    # signal selection\n",
    "    lb = 1100  # The lower boundary of interest\n",
    "    hb = 1800  # The upper boundary\n",
    "\n",
    "    x_fit = x[np.where((x > lb)&(x < hb))]\n",
    "    y_fit = y_corr[np.where((x > lb)&(x < hb))]\n",
    "    \n",
    "    #SVN normalisation\n",
    "    y_hat = y_fit.mean()\n",
    "    std = sqrt(np.sum((y_fit-y_hat)**2)/(len(y_fit)-1))\n",
    "    y_sn = (y_fit-y_hat)/std\n",
    "    \n",
    "    #min-max normalisation\n",
    "    y_sn_hat = y_sn.mean()\n",
    "    y_mm = (y_sn-y_sn.min())/(y_sn.max()-y_sn.min())\n",
    "    \n",
    "    return y_mm"
   ]
  },
  {
   "cell_type": "code",
   "execution_count": 154,
   "metadata": {},
   "outputs": [],
   "source": [
    "x = df_['Wavelength'].values"
   ]
  },
  {
   "cell_type": "code",
   "execution_count": 341,
   "metadata": {},
   "outputs": [],
   "source": [
    "# results=[normalise(x, val.values) for cols,val in df.iteritems()]\n",
    "for cols, val in df.iteritems():\n",
    "    results.append(normalise(x, val.values))"
   ]
  },
  {
   "cell_type": "code",
   "execution_count": 353,
   "metadata": {},
   "outputs": [
    {
     "data": {
      "text/plain": [
       "[<matplotlib.lines.Line2D at 0x1c3af0c4a8>]"
      ]
     },
     "execution_count": 353,
     "metadata": {},
     "output_type": "execute_result"
    },
    {
     "data": {
      "image/png": "[encoded data removed]",
      "text/plain": [
       "<Figure size 432x288 with 1 Axes>"
      ]
     },
     "metadata": {
      "needs_background": "light"
     },
     "output_type": "display_data"
    }
   ],
   "source": [
    "plot(x_fit,results[1])"
   ]
  },
  {
   "cell_type": "code",
   "execution_count": null,
   "metadata": {},
   "outputs": [],
   "source": []
  }
 ],
 "metadata": {
  "gist": {
   "data": {
    "description": "examples/Example_plots.ipynb",
    "public": true
   },
   "id": ""
  },
  "kernelspec": {
   "display_name": "Python 3",
   "language": "python",
   "name": "python3"
  },
  "language_info": {
   "codemirror_mode": {
    "name": "ipython",
    "version": 3
   },
   "file_extension": ".py",
   "mimetype": "text/x-python",
   "name": "python",
   "nbconvert_exporter": "python",
   "pygments_lexer": "ipython3",
   "version": "3.7.2"
  }
 },
 "nbformat": 4,
 "nbformat_minor": 2
}
