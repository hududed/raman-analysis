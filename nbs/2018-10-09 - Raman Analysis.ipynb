{
 "cells": [
  {
   "cell_type": "code",
   "execution_count": 1,
   "metadata": {},
   "outputs": [
    {
     "name": "stdout",
     "output_type": "stream",
     "text": [
      "Populating the interactive namespace from numpy and matplotlib\n"
     ]
    }
   ],
   "source": [
    "%pylab inline\n",
    "import pandas as pd\n",
    "from scipy.optimize import curve_fit\n",
    "import os"
   ]
  },
  {
   "cell_type": "code",
   "execution_count": 2,
   "metadata": {
    "collapsed": true
   },
   "outputs": [],
   "source": [
    "standardFonts = {'family' : 'Arial',\n",
    "                 'size' : 14}\n",
    "\n",
    "subplotLabels = {'fontsize': rcParams['axes.titlesize'],\n",
    "                 'fontweight' : 'bold',\n",
    "                 'verticalalignment': 'baseline',\n",
    "                 'horizontalalignment': 'left'}\n",
    "    \n",
    "matplotlib.rc('font', **standardFonts)\n",
    "mpl.rcParams['mathtext.fontset']  = 'dejavuserif'\n",
    "mpl.rcParams['font.family']       = 'Arial'\n",
    "matplotlib.rc('font', **standardFonts)\n",
    "\n",
    "mpl.rcParams['xtick.major.size']  = 8\n",
    "mpl.rcParams['xtick.major.width'] = 2\n",
    "mpl.rcParams['xtick.minor.size']  = 4\n",
    "mpl.rcParams['xtick.minor.width'] = 2\n",
    "mpl.rcParams['xtick.direction']   = 'in'\n",
    "mpl.rcParams['xtick.top']         = True\n",
    "mpl.rcParams['xtick.bottom']      = True\n",
    "mpl.rcParams['xtick.labelsize']   = 16\n",
    "mpl.rcParams['ytick.major.size']  = 8\n",
    "mpl.rcParams['ytick.major.width'] = 2\n",
    "mpl.rcParams['ytick.minor.size']  = 4\n",
    "mpl.rcParams['ytick.minor.width'] = 2\n",
    "mpl.rcParams['ytick.direction']   = 'in'\n",
    "mpl.rcParams['ytick.left']        = True\n",
    "mpl.rcParams['ytick.right']       = True\n",
    "mpl.rcParams['ytick.labelsize']   = 16\n",
    "\n",
    "mpl.rcParams['axes.linewidth']    = 2\n",
    "mpl.rcParams['axes.titlesize']    = 20\n",
    "mpl.rcParams['axes.titleweight']  = 'bold'\n",
    "mpl.rcParams['axes.labelweight']  = 'bold'\n",
    "mpl.rcParams['axes.labelsize']    = 16"
   ]
  },
  {
   "cell_type": "code",
   "execution_count": 3,
   "metadata": {
    "collapsed": true
   },
   "outputs": [],
   "source": [
    "def lorentzian_fcn(x, I, x0, gamma):\n",
    "    return I*((gamma**2)/(((x-x0)**2)+gamma**2))\n",
    "\n",
    "def two_lorentzian(x, I1, x1, gamma1, I2, x2, gamma2, y0):\n",
    "    return lorentzian_fcn(x, I1, x1, gamma1) + lorentzian_fcn(x, I2, x2, gamma2) + y0 "
   ]
  },
  {
   "cell_type": "code",
   "execution_count": 22,
   "metadata": {
    "collapsed": true
   },
   "outputs": [],
   "source": [
    "def process_data(datafn, bgrfn, int_time, no_bgr = False):\n",
    "    data = pd.read_csv(datafn, header = 0, index_col = 0, names = ['wn', 'I'])\n",
    "    if no_bgr:\n",
    "        data_proc = ((data.I)/(int_time/1000))[1150:]\n",
    "    else:\n",
    "        bgr  = pd.read_csv(bgrfn, header = 0, index_col = 0, names = ['wn', 'I'])\n",
    "\n",
    "        data_proc = ((data.I - bgr.I)/(int_time/1000))[1150:]\n",
    "\n",
    "    lownval, hiwnval = data_proc[data_proc.index.min():data_proc.index.min() + 50].mean(), data_proc[data_proc.index.max() - 50:data_proc.index.max()].mean()\n",
    "    lown, hiwn = data_proc[data_proc.index.min():data_proc.index.min() + 50].index.values.mean(), data_proc[data_proc.index.max() - 50:data_proc.index.max()].index.values.mean() \n",
    "\n",
    "    m, b = np.polyfit([lown, hiwn], [lownval, hiwnval], 1)\n",
    "\n",
    "    prms = [150, 1350, 100, 150, 1620, 80, 10]\n",
    "\n",
    "    data_proc = pd.DataFrame(data_proc - (data_proc.index * m + b))\n",
    "\n",
    "    popt, pcov = curve_fit(two_lorentzian, data_proc.index.values, data_proc.I.values, p0 = prms)\n",
    "\n",
    "    data_proc['fit'] = two_lorentzian(data_proc.index, *popt)\n",
    "\n",
    "    return data_proc.copy(), popt"
   ]
  },
  {
   "cell_type": "code",
   "execution_count": 11,
   "metadata": {
    "collapsed": true
   },
   "outputs": [],
   "source": [
    "datafn = 'data/2018-09-06/2018-09-06 15_36_29 GO_sample15_spot1_500ms_N10.csv'\n",
    "bgrfn = 'data/2018-09-06/2018-09-06 15_11_15 GO_sample15_spot1_500ms_N10_bgr.csv'"
   ]
  },
  {
   "cell_type": "code",
   "execution_count": 29,
   "metadata": {},
   "outputs": [],
   "source": [
    "data, params = process_data(datafn, 0, 500, True)"
   ]
  },
  {
   "cell_type": "code",
   "execution_count": 27,
   "metadata": {},
   "outputs": [
    {
     "data": {
      "text/plain": [
       "array([  155.46286993,  1377.11897853,    60.59881209,   164.50318477,\n",
       "        1610.21884664,    39.78540419,   -18.73666347])"
      ]
     },
     "execution_count": 27,
     "metadata": {},
     "output_type": "execute_result"
    }
   ],
   "source": [
    "params"
   ]
  },
  {
   "cell_type": "code",
   "execution_count": 28,
   "metadata": {},
   "outputs": [
    {
     "data": {
      "text/plain": [
       "[<matplotlib.lines.Line2D at 0x13ae7147128>]"
      ]
     },
     "execution_count": 28,
     "metadata": {},
     "output_type": "execute_result"
    },
    {
     "data": {
      "image/png": "[encoded data removed]",
      "text/plain": [
       "<matplotlib.figure.Figure at 0x13ae7095cc0>"
      ]
     },
     "metadata": {},
     "output_type": "display_data"
    }
   ],
   "source": [
    "plot(data.I)\n",
    "plot(data.fit)"
   ]
  },
  {
   "cell_type": "code",
   "execution_count": null,
   "metadata": {
    "collapsed": true
   },
   "outputs": [],
   "source": []
  }
 ],
 "metadata": {
  "kernelspec": {
   "display_name": "Python 3",
   "language": "python",
   "name": "python3"
  },
  "language_info": {
   "codemirror_mode": {
    "name": "ipython",
    "version": 3
   },
   "file_extension": ".py",
   "mimetype": "text/x-python",
   "name": "python",
   "nbconvert_exporter": "python",
   "pygments_lexer": "ipython3",
   "version": "3.6.8"
  }
 },
 "nbformat": 4,
 "nbformat_minor": 2
}
