{
 "cells": [
  {
   "cell_type": "markdown",
   "metadata": {
    "heading_collapsed": true
   },
   "source": [
    "# Starting comments\n",
    "Hud Wahab, AI Materials Group, UWYO, 2019."
   ]
  },
  {
   "cell_type": "markdown",
   "metadata": {},
   "source": [
    "# Importing libraries\n",
    "So the first part will be to import a bunch of libraries for doing various things"
   ]
  },
  {
   "cell_type": "code",
   "execution_count": 313,
   "metadata": {},
   "outputs": [
    {
     "name": "stdout",
     "output_type": "stream",
     "text": [
      "Populating the interactive namespace from numpy and matplotlib\n"
     ]
    },
    {
     "name": "stderr",
     "output_type": "stream",
     "text": [
      "/anaconda3/envs/Raman/lib/python3.7/site-packages/IPython/core/magics/pylab.py:160: UserWarning: pylab import has clobbered these variables: ['copy', 'step', 'partition', '__version__', 'uniform', 'subplots', 'log2', 'array', 'logistic', 'exponential', 'random', 'erf', 'lognormal']\n",
      "`%matplotlib` prevents importing * from pylab and numpy\n",
      "  \"\\n`%matplotlib` prevents importing * from pylab and numpy\"\n"
     ]
    }
   ],
   "source": [
    "%reload_ext autoreload\n",
    "%autoreload 2\n",
    "%matplotlib inline\n",
    "%pylab inline"
   ]
  },
  {
   "cell_type": "code",
   "execution_count": 503,
   "metadata": {},
   "outputs": [],
   "source": [
    "from scipy.optimize import curve_fit\n",
    "\n",
    "from fastai.basics import *\n",
    "\n",
    "import lmfit\n",
    "from lmfit.models import *\n",
    "from lmfit.lineshapes import *\n",
    "from lmfit import Parameters, fit_report, minimize\n",
    "\n",
    "import rampy as rp #Charles' libraries and functions"
   ]
  },
  {
   "cell_type": "markdown",
   "metadata": {},
   "source": [
    "# Importing and looking at the data\n",
    "Let's see our raw data structure and maybe clean it up."
   ]
  },
  {
   "cell_type": "code",
   "execution_count": 462,
   "metadata": {},
   "outputs": [
    {
     "data": {
      "text/plain": [
       "[PosixPath('../data/Alex/Data/2019-02-17  GO20_s1_lp600mW_dur3000ms_p80psi.csv'),\n",
       " PosixPath('../data/Alex/Data/model4param.R'),\n",
       " PosixPath('../data/Alex/Data/2019-02-18  GO20_s1_lp880mW_dur4478ms_p95psi.csv'),\n",
       " PosixPath('../data/Alex/Data/2019-02-17  GO20_s1_lp600mW_dur1000ms_p50psi.csv'),\n",
       " PosixPath('../data/Alex/Data/2019-02-19  GO20_s1_lp940mW_dur11458ms_p85psi_3.csv')]"
      ]
     },
     "execution_count": 462,
     "metadata": {},
     "output_type": "execute_result"
    }
   ],
   "source": [
    "path = Path('../data/Alex/Data')\n",
    "path.ls()[:5]"
   ]
  },
  {
   "cell_type": "code",
   "execution_count": 463,
   "metadata": {},
   "outputs": [],
   "source": [
    "parent=[x.parents[0] for x in path.rglob(\"*.[cC][sS][vV]\")]\n",
    "child=[x.name for x in path.rglob(\"*s1*.[cC][sS][vV]\")]\n",
    "child.extend([x.name for x in path.rglob(\"*pre*.[cC][sS][vV]\")])\n",
    "child.extend([x.name for x in path.rglob(\"*bgr*.[cC][sS][vV]\")])"
   ]
  },
  {
   "cell_type": "code",
   "execution_count": 464,
   "metadata": {},
   "outputs": [
    {
     "data": {
      "text/plain": [
       "[PosixPath('../data/Alex/Data'),\n",
       " PosixPath('../data/Alex/Data'),\n",
       " PosixPath('../data/Alex/Data'),\n",
       " PosixPath('../data/Alex/Data'),\n",
       " PosixPath('../data/Alex/Data')]"
      ]
     },
     "execution_count": 464,
     "metadata": {},
     "output_type": "execute_result"
    }
   ],
   "source": [
    "parent[:5]"
   ]
  },
  {
   "cell_type": "code",
   "execution_count": 466,
   "metadata": {},
   "outputs": [
    {
     "data": {
      "text/plain": [
       "['2019-02-18  GO20_s1_lp920mW_dur8374ms_p90psi_2.csv',\n",
       " '2019-02-19  GO20_s1_lp930mW_dur8972ms_p85psi_2.csv',\n",
       " '2019-02-17  GO20_s1_lp620mW_dur600ms_p80psi.csv',\n",
       " '2019-02-19  GO20_s1_lp930mW_dur8972ms_p85psi_3.csv',\n",
       " '2019-02-18  GO20_s1_lp920mW_dur8374ms_p90psi_3.csv',\n",
       " '2019-02-20  G020_pre.csv',\n",
       " '2019-02-20  G020_pre_2.csv',\n",
       " '2019-02-20  G020_pre_3.csv',\n",
       " '2019-02-17  GO20_bgr.csv',\n",
       " '2019-02-18  GO20_bgr.csv']"
      ]
     },
     "execution_count": 466,
     "metadata": {},
     "output_type": "execute_result"
    }
   ],
   "source": [
    "child[-10:]"
   ]
  },
  {
   "cell_type": "code",
   "execution_count": 467,
   "metadata": {},
   "outputs": [],
   "source": [
    "get_ipython().config.get('IPKernelApp', {})['parent_appname'] = \"\""
   ]
  },
  {
   "cell_type": "code",
   "execution_count": 468,
   "metadata": {},
   "outputs": [],
   "source": [
    "def load_data(parent, child):\n",
    "    dfs=[]\n",
    "    for p,c in zip(parent,child):\n",
    "        dfs.append(pd.read_csv(p/c, skiprows=[0], header=None, names=['W_'+str(c[10:]),c]))\n",
    "    return pd.concat(dfs,axis=1)  # care: works only when all E column values are the same"
   ]
  },
  {
   "cell_type": "code",
   "execution_count": 469,
   "metadata": {},
   "outputs": [
    {
     "data": {
      "text/html": [
       "<div>\n",
       "<style scoped>\n",
       "    .dataframe tbody tr th:only-of-type {\n",
       "        vertical-align: middle;\n",
       "    }\n",
       "\n",
       "    .dataframe tbody tr th {\n",
       "        vertical-align: top;\n",
       "    }\n",
       "\n",
       "    .dataframe thead th {\n",
       "        text-align: right;\n",
       "    }\n",
       "</style>\n",
       "<table border=\"1\" class=\"dataframe\">\n",
       "  <thead>\n",
       "    <tr style=\"text-align: right;\">\n",
       "      <th></th>\n",
       "      <th>W_  GO20_s1_lp600mW_dur3000ms_p80psi.csv</th>\n",
       "      <th>2019-02-17  GO20_s1_lp600mW_dur3000ms_p80psi.csv</th>\n",
       "      <th>W_  GO20_s1_lp880mW_dur4478ms_p95psi.csv</th>\n",
       "      <th>2019-02-18  GO20_s1_lp880mW_dur4478ms_p95psi.csv</th>\n",
       "      <th>W_  GO20_s1_lp600mW_dur1000ms_p50psi.csv</th>\n",
       "      <th>2019-02-17  GO20_s1_lp600mW_dur1000ms_p50psi.csv</th>\n",
       "      <th>W_  GO20_s1_lp940mW_dur11458ms_p85psi_3.csv</th>\n",
       "      <th>2019-02-19  GO20_s1_lp940mW_dur11458ms_p85psi_3.csv</th>\n",
       "      <th>W_  GO20_s1_lp1050mW_dur7462ms_p85psi.csv</th>\n",
       "      <th>2019-02-18  GO20_s1_lp1050mW_dur7462ms_p85psi.csv</th>\n",
       "      <th>...</th>\n",
       "      <th>W_  G020_pre.csv</th>\n",
       "      <th>2019-02-20  G020_pre.csv</th>\n",
       "      <th>W_  G020_pre_2.csv</th>\n",
       "      <th>2019-02-20  G020_pre_2.csv</th>\n",
       "      <th>W_  G020_pre_3.csv</th>\n",
       "      <th>2019-02-20  G020_pre_3.csv</th>\n",
       "      <th>W_  GO20_bgr.csv</th>\n",
       "      <th>2019-02-17  GO20_bgr.csv</th>\n",
       "      <th>W_  GO20_bgr.csv</th>\n",
       "      <th>2019-02-18  GO20_bgr.csv</th>\n",
       "    </tr>\n",
       "  </thead>\n",
       "  <tbody>\n",
       "    <tr>\n",
       "      <th>0</th>\n",
       "      <td>567.822060</td>\n",
       "      <td>1900</td>\n",
       "      <td>567.822060</td>\n",
       "      <td>3082</td>\n",
       "      <td>567.822060</td>\n",
       "      <td>31065</td>\n",
       "      <td>567.822060</td>\n",
       "      <td>3000</td>\n",
       "      <td>567.683778</td>\n",
       "      <td>3567</td>\n",
       "      <td>...</td>\n",
       "      <td>567.822060</td>\n",
       "      <td>11312</td>\n",
       "      <td>567.822060</td>\n",
       "      <td>8385</td>\n",
       "      <td>567.822060</td>\n",
       "      <td>6877</td>\n",
       "      <td>567.822060</td>\n",
       "      <td>1407</td>\n",
       "      <td>567.822060</td>\n",
       "      <td>1352</td>\n",
       "    </tr>\n",
       "    <tr>\n",
       "      <th>1</th>\n",
       "      <td>567.837933</td>\n",
       "      <td>1932</td>\n",
       "      <td>567.837933</td>\n",
       "      <td>3084</td>\n",
       "      <td>567.837933</td>\n",
       "      <td>31085</td>\n",
       "      <td>567.837933</td>\n",
       "      <td>3114</td>\n",
       "      <td>567.699655</td>\n",
       "      <td>3566</td>\n",
       "      <td>...</td>\n",
       "      <td>567.837933</td>\n",
       "      <td>11394</td>\n",
       "      <td>567.837933</td>\n",
       "      <td>8435</td>\n",
       "      <td>567.837933</td>\n",
       "      <td>6762</td>\n",
       "      <td>567.837933</td>\n",
       "      <td>1391</td>\n",
       "      <td>567.837933</td>\n",
       "      <td>1365</td>\n",
       "    </tr>\n",
       "    <tr>\n",
       "      <th>2</th>\n",
       "      <td>567.853805</td>\n",
       "      <td>1929</td>\n",
       "      <td>567.853805</td>\n",
       "      <td>3140</td>\n",
       "      <td>567.853805</td>\n",
       "      <td>30944</td>\n",
       "      <td>567.853805</td>\n",
       "      <td>3043</td>\n",
       "      <td>567.715532</td>\n",
       "      <td>3627</td>\n",
       "      <td>...</td>\n",
       "      <td>567.853805</td>\n",
       "      <td>11300</td>\n",
       "      <td>567.853805</td>\n",
       "      <td>8390</td>\n",
       "      <td>567.853805</td>\n",
       "      <td>6914</td>\n",
       "      <td>567.853805</td>\n",
       "      <td>1364</td>\n",
       "      <td>567.853805</td>\n",
       "      <td>1336</td>\n",
       "    </tr>\n",
       "    <tr>\n",
       "      <th>3</th>\n",
       "      <td>567.869676</td>\n",
       "      <td>1937</td>\n",
       "      <td>567.869676</td>\n",
       "      <td>3091</td>\n",
       "      <td>567.869676</td>\n",
       "      <td>31108</td>\n",
       "      <td>567.869676</td>\n",
       "      <td>3036</td>\n",
       "      <td>567.731407</td>\n",
       "      <td>3619</td>\n",
       "      <td>...</td>\n",
       "      <td>567.869676</td>\n",
       "      <td>11326</td>\n",
       "      <td>567.869676</td>\n",
       "      <td>8394</td>\n",
       "      <td>567.869676</td>\n",
       "      <td>7655</td>\n",
       "      <td>567.869676</td>\n",
       "      <td>1376</td>\n",
       "      <td>567.869676</td>\n",
       "      <td>1319</td>\n",
       "    </tr>\n",
       "    <tr>\n",
       "      <th>4</th>\n",
       "      <td>567.885545</td>\n",
       "      <td>1943</td>\n",
       "      <td>567.885545</td>\n",
       "      <td>3029</td>\n",
       "      <td>567.885545</td>\n",
       "      <td>31190</td>\n",
       "      <td>567.885545</td>\n",
       "      <td>3032</td>\n",
       "      <td>567.747280</td>\n",
       "      <td>3544</td>\n",
       "      <td>...</td>\n",
       "      <td>567.885545</td>\n",
       "      <td>11420</td>\n",
       "      <td>567.885545</td>\n",
       "      <td>8433</td>\n",
       "      <td>567.885545</td>\n",
       "      <td>7035</td>\n",
       "      <td>567.885545</td>\n",
       "      <td>1407</td>\n",
       "      <td>567.885545</td>\n",
       "      <td>1344</td>\n",
       "    </tr>\n",
       "  </tbody>\n",
       "</table>\n",
       "<p>5 rows × 196 columns</p>\n",
       "</div>"
      ],
      "text/plain": [
       "   W_  GO20_s1_lp600mW_dur3000ms_p80psi.csv  \\\n",
       "0                                567.822060   \n",
       "1                                567.837933   \n",
       "2                                567.853805   \n",
       "3                                567.869676   \n",
       "4                                567.885545   \n",
       "\n",
       "   2019-02-17  GO20_s1_lp600mW_dur3000ms_p80psi.csv  \\\n",
       "0                                              1900   \n",
       "1                                              1932   \n",
       "2                                              1929   \n",
       "3                                              1937   \n",
       "4                                              1943   \n",
       "\n",
       "   W_  GO20_s1_lp880mW_dur4478ms_p95psi.csv  \\\n",
       "0                                567.822060   \n",
       "1                                567.837933   \n",
       "2                                567.853805   \n",
       "3                                567.869676   \n",
       "4                                567.885545   \n",
       "\n",
       "   2019-02-18  GO20_s1_lp880mW_dur4478ms_p95psi.csv  \\\n",
       "0                                              3082   \n",
       "1                                              3084   \n",
       "2                                              3140   \n",
       "3                                              3091   \n",
       "4                                              3029   \n",
       "\n",
       "   W_  GO20_s1_lp600mW_dur1000ms_p50psi.csv  \\\n",
       "0                                567.822060   \n",
       "1                                567.837933   \n",
       "2                                567.853805   \n",
       "3                                567.869676   \n",
       "4                                567.885545   \n",
       "\n",
       "   2019-02-17  GO20_s1_lp600mW_dur1000ms_p50psi.csv  \\\n",
       "0                                             31065   \n",
       "1                                             31085   \n",
       "2                                             30944   \n",
       "3                                             31108   \n",
       "4                                             31190   \n",
       "\n",
       "   W_  GO20_s1_lp940mW_dur11458ms_p85psi_3.csv  \\\n",
       "0                                   567.822060   \n",
       "1                                   567.837933   \n",
       "2                                   567.853805   \n",
       "3                                   567.869676   \n",
       "4                                   567.885545   \n",
       "\n",
       "   2019-02-19  GO20_s1_lp940mW_dur11458ms_p85psi_3.csv  \\\n",
       "0                                               3000     \n",
       "1                                               3114     \n",
       "2                                               3043     \n",
       "3                                               3036     \n",
       "4                                               3032     \n",
       "\n",
       "   W_  GO20_s1_lp1050mW_dur7462ms_p85psi.csv  \\\n",
       "0                                 567.683778   \n",
       "1                                 567.699655   \n",
       "2                                 567.715532   \n",
       "3                                 567.731407   \n",
       "4                                 567.747280   \n",
       "\n",
       "   2019-02-18  GO20_s1_lp1050mW_dur7462ms_p85psi.csv  ...  W_  G020_pre.csv  \\\n",
       "0                                               3567  ...        567.822060   \n",
       "1                                               3566  ...        567.837933   \n",
       "2                                               3627  ...        567.853805   \n",
       "3                                               3619  ...        567.869676   \n",
       "4                                               3544  ...        567.885545   \n",
       "\n",
       "   2019-02-20  G020_pre.csv  W_  G020_pre_2.csv  2019-02-20  G020_pre_2.csv  \\\n",
       "0                     11312          567.822060                        8385   \n",
       "1                     11394          567.837933                        8435   \n",
       "2                     11300          567.853805                        8390   \n",
       "3                     11326          567.869676                        8394   \n",
       "4                     11420          567.885545                        8433   \n",
       "\n",
       "   W_  G020_pre_3.csv  2019-02-20  G020_pre_3.csv  W_  GO20_bgr.csv  \\\n",
       "0          567.822060                        6877        567.822060   \n",
       "1          567.837933                        6762        567.837933   \n",
       "2          567.853805                        6914        567.853805   \n",
       "3          567.869676                        7655        567.869676   \n",
       "4          567.885545                        7035        567.885545   \n",
       "\n",
       "   2019-02-17  GO20_bgr.csv  W_  GO20_bgr.csv  2019-02-18  GO20_bgr.csv  \n",
       "0                      1407        567.822060                      1352  \n",
       "1                      1391        567.837933                      1365  \n",
       "2                      1364        567.853805                      1336  \n",
       "3                      1376        567.869676                      1319  \n",
       "4                      1407        567.885545                      1344  \n",
       "\n",
       "[5 rows x 196 columns]"
      ]
     },
     "execution_count": 469,
     "metadata": {},
     "output_type": "execute_result"
    }
   ],
   "source": [
    "df=load_data(parent,child)\n",
    "df.head()"
   ]
  },
  {
   "cell_type": "code",
   "execution_count": 470,
   "metadata": {},
   "outputs": [
    {
     "data": {
      "text/html": [
       "<div>\n",
       "<style scoped>\n",
       "    .dataframe tbody tr th:only-of-type {\n",
       "        vertical-align: middle;\n",
       "    }\n",
       "\n",
       "    .dataframe tbody tr th {\n",
       "        vertical-align: top;\n",
       "    }\n",
       "\n",
       "    .dataframe thead th {\n",
       "        text-align: right;\n",
       "    }\n",
       "</style>\n",
       "<table border=\"1\" class=\"dataframe\">\n",
       "  <thead>\n",
       "    <tr style=\"text-align: right;\">\n",
       "      <th></th>\n",
       "      <th>W_  GO20_s1_lp600mW_dur3000ms_p80psi.csv</th>\n",
       "      <th>2019-02-17  GO20_s1_lp600mW_dur3000ms_p80psi.csv</th>\n",
       "      <th>2019-02-18  GO20_s1_lp880mW_dur4478ms_p95psi.csv</th>\n",
       "      <th>2019-02-17  GO20_s1_lp600mW_dur1000ms_p50psi.csv</th>\n",
       "      <th>2019-02-19  GO20_s1_lp940mW_dur11458ms_p85psi_3.csv</th>\n",
       "      <th>2019-02-18  GO20_s1_lp1050mW_dur7462ms_p85psi.csv</th>\n",
       "      <th>2019-02-18  GO20_s1_lp920mW_dur8431ms_p90psi.csv</th>\n",
       "      <th>2019-02-19  GO20_s1_lp940mW_dur10007ms_p85psi.csv</th>\n",
       "      <th>2019-02-19  GO20_s1_lp940mW_dur11458ms_p85psi_2.csv</th>\n",
       "      <th>2019-02-18  GO20_s1_lp100mW_dur1500ms_p60psi.csv</th>\n",
       "      <th>...</th>\n",
       "      <th>2019-02-18  GO20_s1_lp920mW_dur8374ms_p90psi_2.csv</th>\n",
       "      <th>2019-02-19  GO20_s1_lp930mW_dur8972ms_p85psi_2.csv</th>\n",
       "      <th>2019-02-17  GO20_s1_lp620mW_dur600ms_p80psi.csv</th>\n",
       "      <th>2019-02-19  GO20_s1_lp930mW_dur8972ms_p85psi_3.csv</th>\n",
       "      <th>2019-02-18  GO20_s1_lp920mW_dur8374ms_p90psi_3.csv</th>\n",
       "      <th>2019-02-20  G020_pre.csv</th>\n",
       "      <th>2019-02-20  G020_pre_2.csv</th>\n",
       "      <th>2019-02-20  G020_pre_3.csv</th>\n",
       "      <th>2019-02-17  GO20_bgr.csv</th>\n",
       "      <th>2019-02-18  GO20_bgr.csv</th>\n",
       "    </tr>\n",
       "  </thead>\n",
       "  <tbody>\n",
       "    <tr>\n",
       "      <th>0</th>\n",
       "      <td>567.822060</td>\n",
       "      <td>1900</td>\n",
       "      <td>3082</td>\n",
       "      <td>31065</td>\n",
       "      <td>3000</td>\n",
       "      <td>3567</td>\n",
       "      <td>2956</td>\n",
       "      <td>2421</td>\n",
       "      <td>2932</td>\n",
       "      <td>1771</td>\n",
       "      <td>...</td>\n",
       "      <td>2657</td>\n",
       "      <td>2271</td>\n",
       "      <td>1959</td>\n",
       "      <td>2238</td>\n",
       "      <td>2597</td>\n",
       "      <td>11312</td>\n",
       "      <td>8385</td>\n",
       "      <td>6877</td>\n",
       "      <td>1407</td>\n",
       "      <td>1352</td>\n",
       "    </tr>\n",
       "    <tr>\n",
       "      <th>1</th>\n",
       "      <td>567.837933</td>\n",
       "      <td>1932</td>\n",
       "      <td>3084</td>\n",
       "      <td>31085</td>\n",
       "      <td>3114</td>\n",
       "      <td>3566</td>\n",
       "      <td>3020</td>\n",
       "      <td>2431</td>\n",
       "      <td>2943</td>\n",
       "      <td>1767</td>\n",
       "      <td>...</td>\n",
       "      <td>2615</td>\n",
       "      <td>2268</td>\n",
       "      <td>1907</td>\n",
       "      <td>2299</td>\n",
       "      <td>2588</td>\n",
       "      <td>11394</td>\n",
       "      <td>8435</td>\n",
       "      <td>6762</td>\n",
       "      <td>1391</td>\n",
       "      <td>1365</td>\n",
       "    </tr>\n",
       "    <tr>\n",
       "      <th>2</th>\n",
       "      <td>567.853805</td>\n",
       "      <td>1929</td>\n",
       "      <td>3140</td>\n",
       "      <td>30944</td>\n",
       "      <td>3043</td>\n",
       "      <td>3627</td>\n",
       "      <td>2994</td>\n",
       "      <td>2409</td>\n",
       "      <td>2937</td>\n",
       "      <td>1801</td>\n",
       "      <td>...</td>\n",
       "      <td>2677</td>\n",
       "      <td>2278</td>\n",
       "      <td>1922</td>\n",
       "      <td>2245</td>\n",
       "      <td>2599</td>\n",
       "      <td>11300</td>\n",
       "      <td>8390</td>\n",
       "      <td>6914</td>\n",
       "      <td>1364</td>\n",
       "      <td>1336</td>\n",
       "    </tr>\n",
       "    <tr>\n",
       "      <th>3</th>\n",
       "      <td>567.869676</td>\n",
       "      <td>1937</td>\n",
       "      <td>3091</td>\n",
       "      <td>31108</td>\n",
       "      <td>3036</td>\n",
       "      <td>3619</td>\n",
       "      <td>2966</td>\n",
       "      <td>2389</td>\n",
       "      <td>2923</td>\n",
       "      <td>1770</td>\n",
       "      <td>...</td>\n",
       "      <td>2629</td>\n",
       "      <td>2251</td>\n",
       "      <td>1935</td>\n",
       "      <td>2259</td>\n",
       "      <td>2578</td>\n",
       "      <td>11326</td>\n",
       "      <td>8394</td>\n",
       "      <td>7655</td>\n",
       "      <td>1376</td>\n",
       "      <td>1319</td>\n",
       "    </tr>\n",
       "    <tr>\n",
       "      <th>4</th>\n",
       "      <td>567.885545</td>\n",
       "      <td>1943</td>\n",
       "      <td>3029</td>\n",
       "      <td>31190</td>\n",
       "      <td>3032</td>\n",
       "      <td>3544</td>\n",
       "      <td>2943</td>\n",
       "      <td>2416</td>\n",
       "      <td>2967</td>\n",
       "      <td>1768</td>\n",
       "      <td>...</td>\n",
       "      <td>2656</td>\n",
       "      <td>2317</td>\n",
       "      <td>1912</td>\n",
       "      <td>2276</td>\n",
       "      <td>2622</td>\n",
       "      <td>11420</td>\n",
       "      <td>8433</td>\n",
       "      <td>7035</td>\n",
       "      <td>1407</td>\n",
       "      <td>1344</td>\n",
       "    </tr>\n",
       "  </tbody>\n",
       "</table>\n",
       "<p>5 rows × 99 columns</p>\n",
       "</div>"
      ],
      "text/plain": [
       "   W_  GO20_s1_lp600mW_dur3000ms_p80psi.csv  \\\n",
       "0                                567.822060   \n",
       "1                                567.837933   \n",
       "2                                567.853805   \n",
       "3                                567.869676   \n",
       "4                                567.885545   \n",
       "\n",
       "   2019-02-17  GO20_s1_lp600mW_dur3000ms_p80psi.csv  \\\n",
       "0                                              1900   \n",
       "1                                              1932   \n",
       "2                                              1929   \n",
       "3                                              1937   \n",
       "4                                              1943   \n",
       "\n",
       "   2019-02-18  GO20_s1_lp880mW_dur4478ms_p95psi.csv  \\\n",
       "0                                              3082   \n",
       "1                                              3084   \n",
       "2                                              3140   \n",
       "3                                              3091   \n",
       "4                                              3029   \n",
       "\n",
       "   2019-02-17  GO20_s1_lp600mW_dur1000ms_p50psi.csv  \\\n",
       "0                                             31065   \n",
       "1                                             31085   \n",
       "2                                             30944   \n",
       "3                                             31108   \n",
       "4                                             31190   \n",
       "\n",
       "   2019-02-19  GO20_s1_lp940mW_dur11458ms_p85psi_3.csv  \\\n",
       "0                                               3000     \n",
       "1                                               3114     \n",
       "2                                               3043     \n",
       "3                                               3036     \n",
       "4                                               3032     \n",
       "\n",
       "   2019-02-18  GO20_s1_lp1050mW_dur7462ms_p85psi.csv  \\\n",
       "0                                               3567   \n",
       "1                                               3566   \n",
       "2                                               3627   \n",
       "3                                               3619   \n",
       "4                                               3544   \n",
       "\n",
       "   2019-02-18  GO20_s1_lp920mW_dur8431ms_p90psi.csv  \\\n",
       "0                                              2956   \n",
       "1                                              3020   \n",
       "2                                              2994   \n",
       "3                                              2966   \n",
       "4                                              2943   \n",
       "\n",
       "   2019-02-19  GO20_s1_lp940mW_dur10007ms_p85psi.csv  \\\n",
       "0                                               2421   \n",
       "1                                               2431   \n",
       "2                                               2409   \n",
       "3                                               2389   \n",
       "4                                               2416   \n",
       "\n",
       "   2019-02-19  GO20_s1_lp940mW_dur11458ms_p85psi_2.csv  \\\n",
       "0                                               2932     \n",
       "1                                               2943     \n",
       "2                                               2937     \n",
       "3                                               2923     \n",
       "4                                               2967     \n",
       "\n",
       "   2019-02-18  GO20_s1_lp100mW_dur1500ms_p60psi.csv  ...  \\\n",
       "0                                              1771  ...   \n",
       "1                                              1767  ...   \n",
       "2                                              1801  ...   \n",
       "3                                              1770  ...   \n",
       "4                                              1768  ...   \n",
       "\n",
       "   2019-02-18  GO20_s1_lp920mW_dur8374ms_p90psi_2.csv  \\\n",
       "0                                               2657    \n",
       "1                                               2615    \n",
       "2                                               2677    \n",
       "3                                               2629    \n",
       "4                                               2656    \n",
       "\n",
       "   2019-02-19  GO20_s1_lp930mW_dur8972ms_p85psi_2.csv  \\\n",
       "0                                               2271    \n",
       "1                                               2268    \n",
       "2                                               2278    \n",
       "3                                               2251    \n",
       "4                                               2317    \n",
       "\n",
       "   2019-02-17  GO20_s1_lp620mW_dur600ms_p80psi.csv  \\\n",
       "0                                             1959   \n",
       "1                                             1907   \n",
       "2                                             1922   \n",
       "3                                             1935   \n",
       "4                                             1912   \n",
       "\n",
       "   2019-02-19  GO20_s1_lp930mW_dur8972ms_p85psi_3.csv  \\\n",
       "0                                               2238    \n",
       "1                                               2299    \n",
       "2                                               2245    \n",
       "3                                               2259    \n",
       "4                                               2276    \n",
       "\n",
       "   2019-02-18  GO20_s1_lp920mW_dur8374ms_p90psi_3.csv  \\\n",
       "0                                               2597    \n",
       "1                                               2588    \n",
       "2                                               2599    \n",
       "3                                               2578    \n",
       "4                                               2622    \n",
       "\n",
       "   2019-02-20  G020_pre.csv  2019-02-20  G020_pre_2.csv  \\\n",
       "0                     11312                        8385   \n",
       "1                     11394                        8435   \n",
       "2                     11300                        8390   \n",
       "3                     11326                        8394   \n",
       "4                     11420                        8433   \n",
       "\n",
       "   2019-02-20  G020_pre_3.csv  2019-02-17  GO20_bgr.csv  \\\n",
       "0                        6877                      1407   \n",
       "1                        6762                      1391   \n",
       "2                        6914                      1364   \n",
       "3                        7655                      1376   \n",
       "4                        7035                      1407   \n",
       "\n",
       "   2019-02-18  GO20_bgr.csv  \n",
       "0                      1352  \n",
       "1                      1365  \n",
       "2                      1336  \n",
       "3                      1319  \n",
       "4                      1344  \n",
       "\n",
       "[5 rows x 99 columns]"
      ]
     },
     "execution_count": 470,
     "metadata": {},
     "output_type": "execute_result"
    }
   ],
   "source": [
    "df = df.drop(df.columns[2::2], 1)  # CARE! this doesnt work if the columns to be dropped have the same name\n",
    "df.head()"
   ]
  },
  {
   "cell_type": "code",
   "execution_count": 471,
   "metadata": {},
   "outputs": [],
   "source": [
    "df.iloc[:,0] = df.iloc[:,0].apply(lambda x: 1e7/532-1e7/x)  # changing emission wavelength to relative wavenumber"
   ]
  },
  {
   "cell_type": "code",
   "execution_count": 472,
   "metadata": {},
   "outputs": [
    {
     "data": {
      "text/html": [
       "<div>\n",
       "<style scoped>\n",
       "    .dataframe tbody tr th:only-of-type {\n",
       "        vertical-align: middle;\n",
       "    }\n",
       "\n",
       "    .dataframe tbody tr th {\n",
       "        vertical-align: top;\n",
       "    }\n",
       "\n",
       "    .dataframe thead th {\n",
       "        text-align: right;\n",
       "    }\n",
       "</style>\n",
       "<table border=\"1\" class=\"dataframe\">\n",
       "  <thead>\n",
       "    <tr style=\"text-align: right;\">\n",
       "      <th></th>\n",
       "      <th>W_  GO20_s1_lp600mW_dur3000ms_p80psi.csv</th>\n",
       "      <th>2019-02-17  GO20_s1_lp600mW_dur3000ms_p80psi.csv</th>\n",
       "      <th>2019-02-18  GO20_s1_lp880mW_dur4478ms_p95psi.csv</th>\n",
       "      <th>2019-02-17  GO20_s1_lp600mW_dur1000ms_p50psi.csv</th>\n",
       "      <th>2019-02-19  GO20_s1_lp940mW_dur11458ms_p85psi_3.csv</th>\n",
       "      <th>2019-02-18  GO20_s1_lp1050mW_dur7462ms_p85psi.csv</th>\n",
       "      <th>2019-02-18  GO20_s1_lp920mW_dur8431ms_p90psi.csv</th>\n",
       "      <th>2019-02-19  GO20_s1_lp940mW_dur10007ms_p85psi.csv</th>\n",
       "      <th>2019-02-19  GO20_s1_lp940mW_dur11458ms_p85psi_2.csv</th>\n",
       "      <th>2019-02-18  GO20_s1_lp100mW_dur1500ms_p60psi.csv</th>\n",
       "      <th>...</th>\n",
       "      <th>2019-02-18  GO20_s1_lp920mW_dur8374ms_p90psi_2.csv</th>\n",
       "      <th>2019-02-19  GO20_s1_lp930mW_dur8972ms_p85psi_2.csv</th>\n",
       "      <th>2019-02-17  GO20_s1_lp620mW_dur600ms_p80psi.csv</th>\n",
       "      <th>2019-02-19  GO20_s1_lp930mW_dur8972ms_p85psi_3.csv</th>\n",
       "      <th>2019-02-18  GO20_s1_lp920mW_dur8374ms_p90psi_3.csv</th>\n",
       "      <th>2019-02-20  G020_pre.csv</th>\n",
       "      <th>2019-02-20  G020_pre_2.csv</th>\n",
       "      <th>2019-02-20  G020_pre_3.csv</th>\n",
       "      <th>2019-02-17  GO20_bgr.csv</th>\n",
       "      <th>2019-02-18  GO20_bgr.csv</th>\n",
       "    </tr>\n",
       "  </thead>\n",
       "  <tbody>\n",
       "    <tr>\n",
       "      <th>0</th>\n",
       "      <td>1185.841556</td>\n",
       "      <td>1900</td>\n",
       "      <td>3082</td>\n",
       "      <td>31065</td>\n",
       "      <td>3000</td>\n",
       "      <td>3567</td>\n",
       "      <td>2956</td>\n",
       "      <td>2421</td>\n",
       "      <td>2932</td>\n",
       "      <td>1771</td>\n",
       "      <td>...</td>\n",
       "      <td>2657</td>\n",
       "      <td>2271</td>\n",
       "      <td>1959</td>\n",
       "      <td>2238</td>\n",
       "      <td>2597</td>\n",
       "      <td>11312</td>\n",
       "      <td>8385</td>\n",
       "      <td>6877</td>\n",
       "      <td>1407</td>\n",
       "      <td>1352</td>\n",
       "    </tr>\n",
       "    <tr>\n",
       "      <th>1</th>\n",
       "      <td>1186.333852</td>\n",
       "      <td>1932</td>\n",
       "      <td>3084</td>\n",
       "      <td>31085</td>\n",
       "      <td>3114</td>\n",
       "      <td>3566</td>\n",
       "      <td>3020</td>\n",
       "      <td>2431</td>\n",
       "      <td>2943</td>\n",
       "      <td>1767</td>\n",
       "      <td>...</td>\n",
       "      <td>2615</td>\n",
       "      <td>2268</td>\n",
       "      <td>1907</td>\n",
       "      <td>2299</td>\n",
       "      <td>2588</td>\n",
       "      <td>11394</td>\n",
       "      <td>8435</td>\n",
       "      <td>6762</td>\n",
       "      <td>1391</td>\n",
       "      <td>1365</td>\n",
       "    </tr>\n",
       "    <tr>\n",
       "      <th>2</th>\n",
       "      <td>1186.826079</td>\n",
       "      <td>1929</td>\n",
       "      <td>3140</td>\n",
       "      <td>30944</td>\n",
       "      <td>3043</td>\n",
       "      <td>3627</td>\n",
       "      <td>2994</td>\n",
       "      <td>2409</td>\n",
       "      <td>2937</td>\n",
       "      <td>1801</td>\n",
       "      <td>...</td>\n",
       "      <td>2677</td>\n",
       "      <td>2278</td>\n",
       "      <td>1922</td>\n",
       "      <td>2245</td>\n",
       "      <td>2599</td>\n",
       "      <td>11300</td>\n",
       "      <td>8390</td>\n",
       "      <td>6914</td>\n",
       "      <td>1364</td>\n",
       "      <td>1336</td>\n",
       "    </tr>\n",
       "    <tr>\n",
       "      <th>3</th>\n",
       "      <td>1187.318237</td>\n",
       "      <td>1937</td>\n",
       "      <td>3091</td>\n",
       "      <td>31108</td>\n",
       "      <td>3036</td>\n",
       "      <td>3619</td>\n",
       "      <td>2966</td>\n",
       "      <td>2389</td>\n",
       "      <td>2923</td>\n",
       "      <td>1770</td>\n",
       "      <td>...</td>\n",
       "      <td>2629</td>\n",
       "      <td>2251</td>\n",
       "      <td>1935</td>\n",
       "      <td>2259</td>\n",
       "      <td>2578</td>\n",
       "      <td>11326</td>\n",
       "      <td>8394</td>\n",
       "      <td>7655</td>\n",
       "      <td>1376</td>\n",
       "      <td>1319</td>\n",
       "    </tr>\n",
       "    <tr>\n",
       "      <th>4</th>\n",
       "      <td>1187.810326</td>\n",
       "      <td>1943</td>\n",
       "      <td>3029</td>\n",
       "      <td>31190</td>\n",
       "      <td>3032</td>\n",
       "      <td>3544</td>\n",
       "      <td>2943</td>\n",
       "      <td>2416</td>\n",
       "      <td>2967</td>\n",
       "      <td>1768</td>\n",
       "      <td>...</td>\n",
       "      <td>2656</td>\n",
       "      <td>2317</td>\n",
       "      <td>1912</td>\n",
       "      <td>2276</td>\n",
       "      <td>2622</td>\n",
       "      <td>11420</td>\n",
       "      <td>8433</td>\n",
       "      <td>7035</td>\n",
       "      <td>1407</td>\n",
       "      <td>1344</td>\n",
       "    </tr>\n",
       "  </tbody>\n",
       "</table>\n",
       "<p>5 rows × 99 columns</p>\n",
       "</div>"
      ],
      "text/plain": [
       "   W_  GO20_s1_lp600mW_dur3000ms_p80psi.csv  \\\n",
       "0                               1185.841556   \n",
       "1                               1186.333852   \n",
       "2                               1186.826079   \n",
       "3                               1187.318237   \n",
       "4                               1187.810326   \n",
       "\n",
       "   2019-02-17  GO20_s1_lp600mW_dur3000ms_p80psi.csv  \\\n",
       "0                                              1900   \n",
       "1                                              1932   \n",
       "2                                              1929   \n",
       "3                                              1937   \n",
       "4                                              1943   \n",
       "\n",
       "   2019-02-18  GO20_s1_lp880mW_dur4478ms_p95psi.csv  \\\n",
       "0                                              3082   \n",
       "1                                              3084   \n",
       "2                                              3140   \n",
       "3                                              3091   \n",
       "4                                              3029   \n",
       "\n",
       "   2019-02-17  GO20_s1_lp600mW_dur1000ms_p50psi.csv  \\\n",
       "0                                             31065   \n",
       "1                                             31085   \n",
       "2                                             30944   \n",
       "3                                             31108   \n",
       "4                                             31190   \n",
       "\n",
       "   2019-02-19  GO20_s1_lp940mW_dur11458ms_p85psi_3.csv  \\\n",
       "0                                               3000     \n",
       "1                                               3114     \n",
       "2                                               3043     \n",
       "3                                               3036     \n",
       "4                                               3032     \n",
       "\n",
       "   2019-02-18  GO20_s1_lp1050mW_dur7462ms_p85psi.csv  \\\n",
       "0                                               3567   \n",
       "1                                               3566   \n",
       "2                                               3627   \n",
       "3                                               3619   \n",
       "4                                               3544   \n",
       "\n",
       "   2019-02-18  GO20_s1_lp920mW_dur8431ms_p90psi.csv  \\\n",
       "0                                              2956   \n",
       "1                                              3020   \n",
       "2                                              2994   \n",
       "3                                              2966   \n",
       "4                                              2943   \n",
       "\n",
       "   2019-02-19  GO20_s1_lp940mW_dur10007ms_p85psi.csv  \\\n",
       "0                                               2421   \n",
       "1                                               2431   \n",
       "2                                               2409   \n",
       "3                                               2389   \n",
       "4                                               2416   \n",
       "\n",
       "   2019-02-19  GO20_s1_lp940mW_dur11458ms_p85psi_2.csv  \\\n",
       "0                                               2932     \n",
       "1                                               2943     \n",
       "2                                               2937     \n",
       "3                                               2923     \n",
       "4                                               2967     \n",
       "\n",
       "   2019-02-18  GO20_s1_lp100mW_dur1500ms_p60psi.csv  ...  \\\n",
       "0                                              1771  ...   \n",
       "1                                              1767  ...   \n",
       "2                                              1801  ...   \n",
       "3                                              1770  ...   \n",
       "4                                              1768  ...   \n",
       "\n",
       "   2019-02-18  GO20_s1_lp920mW_dur8374ms_p90psi_2.csv  \\\n",
       "0                                               2657    \n",
       "1                                               2615    \n",
       "2                                               2677    \n",
       "3                                               2629    \n",
       "4                                               2656    \n",
       "\n",
       "   2019-02-19  GO20_s1_lp930mW_dur8972ms_p85psi_2.csv  \\\n",
       "0                                               2271    \n",
       "1                                               2268    \n",
       "2                                               2278    \n",
       "3                                               2251    \n",
       "4                                               2317    \n",
       "\n",
       "   2019-02-17  GO20_s1_lp620mW_dur600ms_p80psi.csv  \\\n",
       "0                                             1959   \n",
       "1                                             1907   \n",
       "2                                             1922   \n",
       "3                                             1935   \n",
       "4                                             1912   \n",
       "\n",
       "   2019-02-19  GO20_s1_lp930mW_dur8972ms_p85psi_3.csv  \\\n",
       "0                                               2238    \n",
       "1                                               2299    \n",
       "2                                               2245    \n",
       "3                                               2259    \n",
       "4                                               2276    \n",
       "\n",
       "   2019-02-18  GO20_s1_lp920mW_dur8374ms_p90psi_3.csv  \\\n",
       "0                                               2597    \n",
       "1                                               2588    \n",
       "2                                               2599    \n",
       "3                                               2578    \n",
       "4                                               2622    \n",
       "\n",
       "   2019-02-20  G020_pre.csv  2019-02-20  G020_pre_2.csv  \\\n",
       "0                     11312                        8385   \n",
       "1                     11394                        8435   \n",
       "2                     11300                        8390   \n",
       "3                     11326                        8394   \n",
       "4                     11420                        8433   \n",
       "\n",
       "   2019-02-20  G020_pre_3.csv  2019-02-17  GO20_bgr.csv  \\\n",
       "0                        6877                      1407   \n",
       "1                        6762                      1391   \n",
       "2                        6914                      1364   \n",
       "3                        7655                      1376   \n",
       "4                        7035                      1407   \n",
       "\n",
       "   2019-02-18  GO20_bgr.csv  \n",
       "0                      1352  \n",
       "1                      1365  \n",
       "2                      1336  \n",
       "3                      1319  \n",
       "4                      1344  \n",
       "\n",
       "[5 rows x 99 columns]"
      ]
     },
     "execution_count": 472,
     "metadata": {},
     "output_type": "execute_result"
    }
   ],
   "source": [
    "df.head()"
   ]
  },
  {
   "cell_type": "code",
   "execution_count": 473,
   "metadata": {},
   "outputs": [
    {
     "data": {
      "text/html": [
       "<div>\n",
       "<style scoped>\n",
       "    .dataframe tbody tr th:only-of-type {\n",
       "        vertical-align: middle;\n",
       "    }\n",
       "\n",
       "    .dataframe tbody tr th {\n",
       "        vertical-align: top;\n",
       "    }\n",
       "\n",
       "    .dataframe thead th {\n",
       "        text-align: right;\n",
       "    }\n",
       "</style>\n",
       "<table border=\"1\" class=\"dataframe\">\n",
       "  <thead>\n",
       "    <tr style=\"text-align: right;\">\n",
       "      <th></th>\n",
       "      <th>Wavenumber</th>\n",
       "      <th>2019-02-17  GO20_s1_lp600mW_dur3000ms_p80psi.csv</th>\n",
       "      <th>2019-02-18  GO20_s1_lp880mW_dur4478ms_p95psi.csv</th>\n",
       "      <th>2019-02-17  GO20_s1_lp600mW_dur1000ms_p50psi.csv</th>\n",
       "      <th>2019-02-19  GO20_s1_lp940mW_dur11458ms_p85psi_3.csv</th>\n",
       "      <th>2019-02-18  GO20_s1_lp1050mW_dur7462ms_p85psi.csv</th>\n",
       "      <th>2019-02-18  GO20_s1_lp920mW_dur8431ms_p90psi.csv</th>\n",
       "      <th>2019-02-19  GO20_s1_lp940mW_dur10007ms_p85psi.csv</th>\n",
       "      <th>2019-02-19  GO20_s1_lp940mW_dur11458ms_p85psi_2.csv</th>\n",
       "      <th>2019-02-18  GO20_s1_lp100mW_dur1500ms_p60psi.csv</th>\n",
       "      <th>...</th>\n",
       "      <th>2019-02-18  GO20_s1_lp920mW_dur8374ms_p90psi_2.csv</th>\n",
       "      <th>2019-02-19  GO20_s1_lp930mW_dur8972ms_p85psi_2.csv</th>\n",
       "      <th>2019-02-17  GO20_s1_lp620mW_dur600ms_p80psi.csv</th>\n",
       "      <th>2019-02-19  GO20_s1_lp930mW_dur8972ms_p85psi_3.csv</th>\n",
       "      <th>2019-02-18  GO20_s1_lp920mW_dur8374ms_p90psi_3.csv</th>\n",
       "      <th>2019-02-20  G020_pre.csv</th>\n",
       "      <th>2019-02-20  G020_pre_2.csv</th>\n",
       "      <th>2019-02-20  G020_pre_3.csv</th>\n",
       "      <th>2019-02-17  GO20_bgr.csv</th>\n",
       "      <th>2019-02-18  GO20_bgr.csv</th>\n",
       "    </tr>\n",
       "  </thead>\n",
       "  <tbody>\n",
       "    <tr>\n",
       "      <th>0</th>\n",
       "      <td>1185.841556</td>\n",
       "      <td>1900</td>\n",
       "      <td>3082</td>\n",
       "      <td>31065</td>\n",
       "      <td>3000</td>\n",
       "      <td>3567</td>\n",
       "      <td>2956</td>\n",
       "      <td>2421</td>\n",
       "      <td>2932</td>\n",
       "      <td>1771</td>\n",
       "      <td>...</td>\n",
       "      <td>2657</td>\n",
       "      <td>2271</td>\n",
       "      <td>1959</td>\n",
       "      <td>2238</td>\n",
       "      <td>2597</td>\n",
       "      <td>11312</td>\n",
       "      <td>8385</td>\n",
       "      <td>6877</td>\n",
       "      <td>1407</td>\n",
       "      <td>1352</td>\n",
       "    </tr>\n",
       "    <tr>\n",
       "      <th>1</th>\n",
       "      <td>1186.333852</td>\n",
       "      <td>1932</td>\n",
       "      <td>3084</td>\n",
       "      <td>31085</td>\n",
       "      <td>3114</td>\n",
       "      <td>3566</td>\n",
       "      <td>3020</td>\n",
       "      <td>2431</td>\n",
       "      <td>2943</td>\n",
       "      <td>1767</td>\n",
       "      <td>...</td>\n",
       "      <td>2615</td>\n",
       "      <td>2268</td>\n",
       "      <td>1907</td>\n",
       "      <td>2299</td>\n",
       "      <td>2588</td>\n",
       "      <td>11394</td>\n",
       "      <td>8435</td>\n",
       "      <td>6762</td>\n",
       "      <td>1391</td>\n",
       "      <td>1365</td>\n",
       "    </tr>\n",
       "    <tr>\n",
       "      <th>2</th>\n",
       "      <td>1186.826079</td>\n",
       "      <td>1929</td>\n",
       "      <td>3140</td>\n",
       "      <td>30944</td>\n",
       "      <td>3043</td>\n",
       "      <td>3627</td>\n",
       "      <td>2994</td>\n",
       "      <td>2409</td>\n",
       "      <td>2937</td>\n",
       "      <td>1801</td>\n",
       "      <td>...</td>\n",
       "      <td>2677</td>\n",
       "      <td>2278</td>\n",
       "      <td>1922</td>\n",
       "      <td>2245</td>\n",
       "      <td>2599</td>\n",
       "      <td>11300</td>\n",
       "      <td>8390</td>\n",
       "      <td>6914</td>\n",
       "      <td>1364</td>\n",
       "      <td>1336</td>\n",
       "    </tr>\n",
       "    <tr>\n",
       "      <th>3</th>\n",
       "      <td>1187.318237</td>\n",
       "      <td>1937</td>\n",
       "      <td>3091</td>\n",
       "      <td>31108</td>\n",
       "      <td>3036</td>\n",
       "      <td>3619</td>\n",
       "      <td>2966</td>\n",
       "      <td>2389</td>\n",
       "      <td>2923</td>\n",
       "      <td>1770</td>\n",
       "      <td>...</td>\n",
       "      <td>2629</td>\n",
       "      <td>2251</td>\n",
       "      <td>1935</td>\n",
       "      <td>2259</td>\n",
       "      <td>2578</td>\n",
       "      <td>11326</td>\n",
       "      <td>8394</td>\n",
       "      <td>7655</td>\n",
       "      <td>1376</td>\n",
       "      <td>1319</td>\n",
       "    </tr>\n",
       "    <tr>\n",
       "      <th>4</th>\n",
       "      <td>1187.810326</td>\n",
       "      <td>1943</td>\n",
       "      <td>3029</td>\n",
       "      <td>31190</td>\n",
       "      <td>3032</td>\n",
       "      <td>3544</td>\n",
       "      <td>2943</td>\n",
       "      <td>2416</td>\n",
       "      <td>2967</td>\n",
       "      <td>1768</td>\n",
       "      <td>...</td>\n",
       "      <td>2656</td>\n",
       "      <td>2317</td>\n",
       "      <td>1912</td>\n",
       "      <td>2276</td>\n",
       "      <td>2622</td>\n",
       "      <td>11420</td>\n",
       "      <td>8433</td>\n",
       "      <td>7035</td>\n",
       "      <td>1407</td>\n",
       "      <td>1344</td>\n",
       "    </tr>\n",
       "  </tbody>\n",
       "</table>\n",
       "<p>5 rows × 99 columns</p>\n",
       "</div>"
      ],
      "text/plain": [
       "    Wavenumber  2019-02-17  GO20_s1_lp600mW_dur3000ms_p80psi.csv  \\\n",
       "0  1185.841556                                              1900   \n",
       "1  1186.333852                                              1932   \n",
       "2  1186.826079                                              1929   \n",
       "3  1187.318237                                              1937   \n",
       "4  1187.810326                                              1943   \n",
       "\n",
       "   2019-02-18  GO20_s1_lp880mW_dur4478ms_p95psi.csv  \\\n",
       "0                                              3082   \n",
       "1                                              3084   \n",
       "2                                              3140   \n",
       "3                                              3091   \n",
       "4                                              3029   \n",
       "\n",
       "   2019-02-17  GO20_s1_lp600mW_dur1000ms_p50psi.csv  \\\n",
       "0                                             31065   \n",
       "1                                             31085   \n",
       "2                                             30944   \n",
       "3                                             31108   \n",
       "4                                             31190   \n",
       "\n",
       "   2019-02-19  GO20_s1_lp940mW_dur11458ms_p85psi_3.csv  \\\n",
       "0                                               3000     \n",
       "1                                               3114     \n",
       "2                                               3043     \n",
       "3                                               3036     \n",
       "4                                               3032     \n",
       "\n",
       "   2019-02-18  GO20_s1_lp1050mW_dur7462ms_p85psi.csv  \\\n",
       "0                                               3567   \n",
       "1                                               3566   \n",
       "2                                               3627   \n",
       "3                                               3619   \n",
       "4                                               3544   \n",
       "\n",
       "   2019-02-18  GO20_s1_lp920mW_dur8431ms_p90psi.csv  \\\n",
       "0                                              2956   \n",
       "1                                              3020   \n",
       "2                                              2994   \n",
       "3                                              2966   \n",
       "4                                              2943   \n",
       "\n",
       "   2019-02-19  GO20_s1_lp940mW_dur10007ms_p85psi.csv  \\\n",
       "0                                               2421   \n",
       "1                                               2431   \n",
       "2                                               2409   \n",
       "3                                               2389   \n",
       "4                                               2416   \n",
       "\n",
       "   2019-02-19  GO20_s1_lp940mW_dur11458ms_p85psi_2.csv  \\\n",
       "0                                               2932     \n",
       "1                                               2943     \n",
       "2                                               2937     \n",
       "3                                               2923     \n",
       "4                                               2967     \n",
       "\n",
       "   2019-02-18  GO20_s1_lp100mW_dur1500ms_p60psi.csv  ...  \\\n",
       "0                                              1771  ...   \n",
       "1                                              1767  ...   \n",
       "2                                              1801  ...   \n",
       "3                                              1770  ...   \n",
       "4                                              1768  ...   \n",
       "\n",
       "   2019-02-18  GO20_s1_lp920mW_dur8374ms_p90psi_2.csv  \\\n",
       "0                                               2657    \n",
       "1                                               2615    \n",
       "2                                               2677    \n",
       "3                                               2629    \n",
       "4                                               2656    \n",
       "\n",
       "   2019-02-19  GO20_s1_lp930mW_dur8972ms_p85psi_2.csv  \\\n",
       "0                                               2271    \n",
       "1                                               2268    \n",
       "2                                               2278    \n",
       "3                                               2251    \n",
       "4                                               2317    \n",
       "\n",
       "   2019-02-17  GO20_s1_lp620mW_dur600ms_p80psi.csv  \\\n",
       "0                                             1959   \n",
       "1                                             1907   \n",
       "2                                             1922   \n",
       "3                                             1935   \n",
       "4                                             1912   \n",
       "\n",
       "   2019-02-19  GO20_s1_lp930mW_dur8972ms_p85psi_3.csv  \\\n",
       "0                                               2238    \n",
       "1                                               2299    \n",
       "2                                               2245    \n",
       "3                                               2259    \n",
       "4                                               2276    \n",
       "\n",
       "   2019-02-18  GO20_s1_lp920mW_dur8374ms_p90psi_3.csv  \\\n",
       "0                                               2597    \n",
       "1                                               2588    \n",
       "2                                               2599    \n",
       "3                                               2578    \n",
       "4                                               2622    \n",
       "\n",
       "   2019-02-20  G020_pre.csv  2019-02-20  G020_pre_2.csv  \\\n",
       "0                     11312                        8385   \n",
       "1                     11394                        8435   \n",
       "2                     11300                        8390   \n",
       "3                     11326                        8394   \n",
       "4                     11420                        8433   \n",
       "\n",
       "   2019-02-20  G020_pre_3.csv  2019-02-17  GO20_bgr.csv  \\\n",
       "0                        6877                      1407   \n",
       "1                        6762                      1391   \n",
       "2                        6914                      1364   \n",
       "3                        7655                      1376   \n",
       "4                        7035                      1407   \n",
       "\n",
       "   2019-02-18  GO20_bgr.csv  \n",
       "0                      1352  \n",
       "1                      1365  \n",
       "2                      1336  \n",
       "3                      1319  \n",
       "4                      1344  \n",
       "\n",
       "[5 rows x 99 columns]"
      ]
     },
     "execution_count": 473,
     "metadata": {},
     "output_type": "execute_result"
    }
   ],
   "source": [
    "df = df.rename(columns={df.columns[0]: \"Wavenumber\" })\n",
    "df.head()"
   ]
  },
  {
   "cell_type": "markdown",
   "metadata": {},
   "source": [
    "## Data plots"
   ]
  },
  {
   "cell_type": "code",
   "execution_count": 474,
   "metadata": {},
   "outputs": [],
   "source": [
    "standardFonts = {'family' : 'Arial',\n",
    "                 'size' : 14}\n",
    "\n",
    "subplotLabels = {'fontsize': rcParams['axes.titlesize'],\n",
    "                 'fontweight' : 'bold',\n",
    "                 'verticalalignment': 'baseline',\n",
    "                 'horizontalalignment': 'left'}\n",
    "    \n",
    "matplotlib.rc('font', **standardFonts)\n",
    "mpl.rcParams['mathtext.fontset']  = 'dejavuserif'\n",
    "mpl.rcParams['font.family']       = 'Arial'\n",
    "matplotlib.rc('font', **standardFonts)\n",
    "\n",
    "mpl.rcParams['xtick.major.size']  = 8\n",
    "mpl.rcParams['xtick.major.width'] = 2\n",
    "mpl.rcParams['xtick.minor.size']  = 4\n",
    "mpl.rcParams['xtick.minor.width'] = 2\n",
    "mpl.rcParams['xtick.direction']   = 'in'\n",
    "mpl.rcParams['xtick.top']         = True\n",
    "mpl.rcParams['xtick.bottom']      = True\n",
    "mpl.rcParams['xtick.labelsize']   = 16\n",
    "mpl.rcParams['ytick.major.size']  = 8\n",
    "mpl.rcParams['ytick.major.width'] = 2\n",
    "mpl.rcParams['ytick.minor.size']  = 4\n",
    "mpl.rcParams['ytick.minor.width'] = 2\n",
    "mpl.rcParams['ytick.direction']   = 'in'\n",
    "mpl.rcParams['ytick.left']        = True\n",
    "mpl.rcParams['ytick.right']       = True\n",
    "mpl.rcParams['ytick.labelsize']   = 16\n",
    "\n",
    "mpl.rcParams['axes.linewidth']    = 2\n",
    "mpl.rcParams['axes.titlesize']    = 20\n",
    "mpl.rcParams['axes.titleweight']  = 'bold'\n",
    "mpl.rcParams['axes.labelweight']  = 'bold'\n",
    "mpl.rcParams['axes.labelsize']    = 16"
   ]
  },
  {
   "cell_type": "code",
   "execution_count": 551,
   "metadata": {},
   "outputs": [],
   "source": [
    "x = df['Wavenumber']\n",
    "y = df['2019-02-18  GO20_s1_lp960mW_dur10292ms_p90psi_3.csv']\n",
    "y0 = df['2019-02-20  G020_pre_3.csv']\n",
    "bg = df['2019-02-18  GO20_bgr.csv']"
   ]
  },
  {
   "cell_type": "code",
   "execution_count": 552,
   "metadata": {},
   "outputs": [
    {
     "data": {
      "text/plain": [
       "Text(0.5, 1.0, 'Fig. 1: the raw data')"
      ]
     },
     "execution_count": 552,
     "metadata": {},
     "output_type": "execute_result"
    },
    {
     "data": {
      "image/png": "[encoded data removed]",
      "text/plain": [
       "<Figure size 360x360 with 1 Axes>"
      ]
     },
     "metadata": {
      "needs_background": "light"
     },
     "output_type": "display_data"
    }
   ],
   "source": [
    "# create a new plot for showing the spectrum\n",
    "# ax = plt.axes()\n",
    "fig, ax = plt.subplots(1, figsize=(5, 5))\n",
    "# plt.figure(figsize=(5,5))\n",
    "\n",
    "plt.plot(x,y,'k.',markersize=1)\n",
    "plt.plot(x,y0,'b.',markersize=1)\n",
    "# plt.plot(x2,y2,'b.',markersize=1)\n",
    "ax.xaxis.set_major_locator(plt.MaxNLocator(5))\n",
    "# plt.xticks(np.arange(min(x), max(x), 200))\n",
    "plt.xlabel(\"Raman shift, cm$^{-1}$\", fontsize = 16)\n",
    "plt.ylabel(\"Absolute intensity\", fontsize = 16)\n",
    "plt.title(\"Fig. 1: the raw data\",fontsize = 16,fontweight=\"bold\")"
   ]
  },
  {
   "cell_type": "code",
   "execution_count": 553,
   "metadata": {},
   "outputs": [
    {
     "data": {
      "text/plain": [
       "Text(0.5, 1.0, 'Fig. 2: background removal')"
      ]
     },
     "execution_count": 553,
     "metadata": {},
     "output_type": "execute_result"
    },
    {
     "data": {
      "image/png": "[encoded data removed]",
      "text/plain": [
       "<Figure size 360x360 with 1 Axes>"
      ]
     },
     "metadata": {
      "needs_background": "light"
     },
     "output_type": "display_data"
    }
   ],
   "source": [
    "fig, ax = plt.subplots(1, figsize=(5, 5))\n",
    "# plt.figure(figsize=(5,5))\n",
    "\n",
    "plt.plot(x,y-bg,'k.',markersize=1)\n",
    "plt.plot(x,y0-bg,'b.',markersize=1)\n",
    "# plt.plot(x2,y2,'b.',markersize=1)\n",
    "ax.xaxis.set_major_locator(plt.MaxNLocator(5))\n",
    "# plt.xticks(np.arange(min(x), max(x), 200))\n",
    "plt.xlabel(\"Raman shift, cm$^{-1}$\", fontsize = 16)\n",
    "plt.ylabel(\"Absolute intensity\", fontsize = 16)\n",
    "plt.title(\"Fig. 2: background removal\",fontsize = 16,fontweight=\"bold\")"
   ]
  },
  {
   "cell_type": "markdown",
   "metadata": {},
   "source": [
    "We are interested in fitting the 870-1300 cm$^{-1}$ portion of this spectrum, which can be assigned to the various symmetric and assymetric stretching vibrations of Si-O bonds in the SiO$_2$ tetrahedra present in the glass network (see the above cited litterature for details).\n"
   ]
  },
  {
   "cell_type": "markdown",
   "metadata": {},
   "source": [
    "# Baseline Removal\n",
    "\n",
    "First thing we notice in Fig. 1, we have to remove a baseline because this spectrum is shifted from 0 by some \"background\" scattering. For that, we can use the rp.baseline() function"
   ]
  },
  {
   "cell_type": "code",
   "execution_count": 554,
   "metadata": {},
   "outputs": [
    {
     "name": "stderr",
     "output_type": "stream",
     "text": [
      "/anaconda3/envs/Raman/lib/python3.7/site-packages/sklearn/utils/validation.py:595: DataConversionWarning: Data with input dtype int64 was converted to float64 by StandardScaler.\n",
      "  warnings.warn(msg, DataConversionWarning)\n",
      "/anaconda3/envs/Raman/lib/python3.7/site-packages/sklearn/utils/validation.py:595: DataConversionWarning: Data with input dtype int64 was converted to float64 by StandardScaler.\n",
      "  warnings.warn(msg, DataConversionWarning)\n",
      "/anaconda3/envs/Raman/lib/python3.7/site-packages/sklearn/utils/validation.py:595: DataConversionWarning: Data with input dtype int64 was converted to float64 by StandardScaler.\n",
      "  warnings.warn(msg, DataConversionWarning)\n",
      "/anaconda3/envs/Raman/lib/python3.7/site-packages/sklearn/utils/validation.py:595: DataConversionWarning: Data with input dtype int64 was converted to float64 by StandardScaler.\n",
      "  warnings.warn(msg, DataConversionWarning)\n"
     ]
    }
   ],
   "source": [
    "bir = np.array([(1198,1200),(1778,1780)]) # The regions where the baseline will be fitted\n",
    "\n",
    "y_corr, y_base = rp.baseline(x.values, y.values, bir,'poly', polynomial_order=1)# We fit a polynomial background.\n",
    "y0_corr, y0_base = rp.baseline(x.values, y0.values, bir,'poly', polynomial_order=1)"
   ]
  },
  {
   "cell_type": "code",
   "execution_count": 555,
   "metadata": {},
   "outputs": [
    {
     "data": {
      "text/plain": [
       "Text(0.5, 1.0, 'Fig. 2: subtracted to 0')"
      ]
     },
     "execution_count": 555,
     "metadata": {},
     "output_type": "execute_result"
    },
    {
     "data": {
      "image/png": "[encoded data removed]",
      "text/plain": [
       "<Figure size 360x360 with 1 Axes>"
      ]
     },
     "metadata": {
      "needs_background": "light"
     },
     "output_type": "display_data"
    }
   ],
   "source": [
    "fig, ax = plt.subplots(1, figsize=(5, 5))\n",
    "ax.xaxis.set_major_locator(plt.MaxNLocator(5))\n",
    "plt.plot(x,y_corr,'k')\n",
    "plt.plot(x,y0_corr,'b')\n",
    "plt.xlabel(\"Raman shift, cm$^{-1}$\", fontsize = 16)\n",
    "plt.ylabel(\"Absoulte intensity\", fontsize = 16)\n",
    "plt.title(\"Fig. 2: subtracted to 0\",fontsize = 16,fontweight=\"bold\")\n",
    "# plt.plot(x2,y_corr2,'b')"
   ]
  },
  {
   "cell_type": "markdown",
   "metadata": {},
   "source": [
    "Now we will do some manipulation to have the interested portion of spectrum in a single variable. We will assume that the errors have not been drastically affected by the correction process (in some case it can be, but this one is quite straightforward), such that we will use the initial relative errors stored in the \"ese0\" variable."
   ]
  },
  {
   "cell_type": "code",
   "execution_count": 556,
   "metadata": {},
   "outputs": [
    {
     "data": {
      "text/plain": [
       "Text(0.5, 1.0, 'Fig. 3: normalised spectrum')"
      ]
     },
     "execution_count": 556,
     "metadata": {},
     "output_type": "execute_result"
    },
    {
     "data": {
      "image/png": "[encoded data removed]",
      "text/plain": [
       "<Figure size 360x360 with 1 Axes>"
      ]
     },
     "metadata": {
      "needs_background": "light"
     },
     "output_type": "display_data"
    }
   ],
   "source": [
    "#min-max normalisation\n",
    "y_mm = (y_corr-y_corr.min())/(y_corr.max()-y_corr.min())\n",
    "y0_mm = (y0_corr-y0_corr.min())/(y0_corr.max()-y0_corr.min())\n",
    "\n",
    "fig, ax = plt.subplots(1, figsize=(5, 5))\n",
    "ax.xaxis.set_major_locator(plt.MaxNLocator(5))\n",
    "plt.plot(x,y_mm+1,'k.',label='LRG')\n",
    "plt.plot(x,y0_mm,'b.',label='GO')\n",
    "plt.xlabel(\"Raman shift, cm$^{-1}$\", fontsize = 16)\n",
    "plt.ylabel(\"Normalised intensity, a.u.\", fontsize = 16)\n",
    "plt.title(\"Fig. 3: normalised spectrum\",fontsize = 16,fontweight=\"bold\")"
   ]
  },
  {
   "cell_type": "markdown",
   "metadata": {},
   "source": [
    "# Last steps before fitting the spectrum\n",
    "\n",
    "So here we are. We have the corrected spectrum in the sample variable. \n",
    "\n",
    "But before going further away,we need to write a function for the optimisation. It will return the difference between the calculated and measured spectrum, following the guideline provived by lmfit (http://lmfit.github.io/lmfit-py/) Please note that I do the fitting this way because it gives a pretty good control of the entire process, but you can use directly the builtin models of lmfit (http://lmfit.github.io/lmfit-py/builtin_models.html) for fitting the spectrum. Doing so, your code will be different from this one and you don't need to define a residual function. In such case, you want to look at the example 3 on the page http://lmfit.github.io/lmfit-py/builtin_models.html. But let's just pretend we want to write our own piece of code and use the Gaussian function implemented in Rampy.\n",
    "\n",
    "The shape of the spectrum suggests that at least three peaks are present, because of the two obvious bands near 950 and 1080 cm$^{-1}$ and a slope break near 1200 cm $^{-1}$. From previous works, we actually know that we have two additional peaks (See Mysen, 1990 or Le Losq et al., 2014) in this spectral region located near 1050 and 1150 cm$^{-1}$. So we have to fit 5 peaks, and hence, we have 5 intensities variables a1 to a5, 5 frequencies f1 to f5, and 5 half width at half peak maximum l1 to l5. This makes a total of 15 parameters. Those variables will be stored in the Parameters() object created by the lmfit software (see http://lmfit.github.io/lmfit-py/parameters.html), we will go back on this one latter. For now, let just say that the Parameters() object is called \"pars\" and contains the various a1-a5, f1-f5 and l1-l5 parameters, such that we can have their values with using a1 = pars['a1'].value for instance.\n",
    "\n",
    "So let's go. We create the function \"residual\" with arguments pars (the Parameters() object), the x axis, and, in option, the y axis as data and the errors."
   ]
  },
  {
   "cell_type": "code",
   "execution_count": 609,
   "metadata": {},
   "outputs": [],
   "source": [
    "def lorentzian_fcn(x, I, x0, gamma):\n",
    "    return I*((gamma**2)/(((x-x0)**2)+gamma**2))\n",
    "\n",
    "def two_lorentzian(x, I1, x1, gamma1, I2, x2, gamma2, y_0):\n",
    "    return lorentzian_fcn(x, I1, x1, gamma1) + lorentzian_fcn(x, I2, x2, gamma2) + y_0 \n",
    "\n",
    "def b_wigner(x, A, mu, sigma, q):\n",
    "    return A*(q*sigma/2+x-mu)**2/((sigma/2)**2+(x-mu)**2)\n",
    "\n",
    "def line(x, m, c):\n",
    "    return m*x+c\n",
    "\n",
    "def lor_bw(x, I1, x1, gamma1, A, mu, sigma, q, m, c):\n",
    "    return lorentzian_fcn(x, I1, x1, gamma1) + b_wigner(x, A, mu, sigma, q) + line(x, m, c)"
   ]
  },
  {
   "cell_type": "code",
   "execution_count": 601,
   "metadata": {},
   "outputs": [
    {
     "data": {
      "text/plain": [
       "array([ 1.838737e-01,  1.357095e+03, -2.565941e+01,  9.849730e-01,  1.588879e+03,  1.277056e+01,  9.277730e-03])"
      ]
     },
     "execution_count": 601,
     "metadata": {},
     "output_type": "execute_result"
    }
   ],
   "source": [
    "prms = [150, 1350, 100, 150, 1620, 80, 10]\n",
    "popt, pcov = curve_fit(two_lorentzian, x, y_mm[:,0], p0 = prms)\n",
    "df_proc = two_lorentzian(x, *popt)\n",
    "popt"
   ]
  },
  {
   "cell_type": "code",
   "execution_count": 575,
   "metadata": {},
   "outputs": [
    {
     "data": {
      "text/plain": [
       "array([ 9.714766e-01,  1.353814e+03, -6.246042e+01,  1.015984e+00,  1.595663e+03,  4.174002e+01, -9.059708e-02])"
      ]
     },
     "execution_count": 575,
     "metadata": {},
     "output_type": "execute_result"
    }
   ],
   "source": [
    "prms0 = [150, 1350, 100, 150, 1620, 80, 10]\n",
    "popt0, pcov0 = curve_fit(two_lorentzian, x, y0_mm[:,0], p0 = prms0)\n",
    "df_proc0 = two_lorentzian(x, *popt0)\n",
    "popt0"
   ]
  },
  {
   "cell_type": "code",
   "execution_count": 610,
   "metadata": {},
   "outputs": [
    {
     "data": {
      "text/plain": [
       "array([ 9.221976e-01,  1.349313e+03,  5.288801e+01,  7.495522e-02,  1.613847e+03,  6.746372e+01, -3.553602e+00,\n",
       "        4.003734e-04, -6.813700e-01])"
      ]
     },
     "execution_count": 610,
     "metadata": {},
     "output_type": "execute_result"
    }
   ],
   "source": [
    "prms1 = [1, 1350, 100, 1, 1610, 1, 0.05, 0, 0]\n",
    "popt1, pcov1 = curve_fit(lor_bw, x, y0_mm[:,0], p0 = prms1)\n",
    "df_proc1 = lor_bw(x, *popt1)\n",
    "popt1"
   ]
  },
  {
   "cell_type": "code",
   "execution_count": 611,
   "metadata": {},
   "outputs": [
    {
     "data": {
      "text/plain": [
       "[<matplotlib.lines.Line2D at 0x1c48adeb38>]"
      ]
     },
     "execution_count": 611,
     "metadata": {},
     "output_type": "execute_result"
    },
    {
     "data": {
      "image/png": "[encoded data removed]",
      "text/plain": [
       "<Figure size 360x360 with 1 Axes>"
      ]
     },
     "metadata": {
      "needs_background": "light"
     },
     "output_type": "display_data"
    }
   ],
   "source": [
    "fig, ax = plt.subplots(1, figsize=(5, 5))\n",
    "ax.xaxis.set_major_locator(plt.MaxNLocator(5))\n",
    "plt.plot(x,y_mm+1,'k.',label='LRG')\n",
    "plt.plot(x,df_proc+1,'r',label='fit')\n",
    "plt.plot(x,y0_mm,'b.',label='GO')\n",
    "plt.plot(x,df_proc1,'r',label='fit')"
   ]
  },
  {
   "cell_type": "code",
   "execution_count": 578,
   "metadata": {},
   "outputs": [
    {
     "data": {
      "text/plain": [
       "Text(0.5, 1.0, 'Fig. 3: normalised spectrum')"
      ]
     },
     "execution_count": 578,
     "metadata": {},
     "output_type": "execute_result"
    },
    {
     "name": "stdout",
     "output_type": "stream",
     "text": [
      "Error in callback <function install_repl_displayhook.<locals>.post_execute at 0x1166fd620> (for post_execute):\n"
     ]
    },
    {
     "ename": "AttributeError",
     "evalue": "'NoneType' object has no attribute 'get_char_index'",
     "output_type": "error",
     "traceback": [
      "\u001b[0;31m---------------------------------------------------------------------------\u001b[0m",
      "\u001b[0;31mAttributeError\u001b[0m                            Traceback (most recent call last)",
      "\u001b[0;32m/anaconda3/envs/Raman/lib/python3.7/site-packages/matplotlib/pyplot.py\u001b[0m in \u001b[0;36mpost_execute\u001b[0;34m()\u001b[0m\n",
      "\u001b[0;32m/anaconda3/envs/Raman/lib/python3.7/site-packages/matplotlib/_pylab_helpers.py\u001b[0m in \u001b[0;36mdraw_all\u001b[0;34m(cls, force)\u001b[0m\n",
      "\u001b[0;32m/anaconda3/envs/Raman/lib/python3.7/site-packages/matplotlib/backend_bases.py\u001b[0m in \u001b[0;36mdraw_idle\u001b[0;34m(self, *args, **kwargs)\u001b[0m\n",
      "\u001b[0;32m/anaconda3/envs/Raman/lib/python3.7/site-packages/matplotlib/backends/backend_agg.py\u001b[0m in \u001b[0;36mdraw\u001b[0;34m(self)\u001b[0m\n",
      "\u001b[0;32m/anaconda3/envs/Raman/lib/python3.7/site-packages/matplotlib/artist.py\u001b[0m in \u001b[0;36mdraw_wrapper\u001b[0;34m(artist, renderer, *args, **kwargs)\u001b[0m\n",
      "\u001b[0;32m/anaconda3/envs/Raman/lib/python3.7/site-packages/matplotlib/figure.py\u001b[0m in \u001b[0;36mdraw\u001b[0;34m(self, renderer)\u001b[0m\n",
      "\u001b[0;32m/anaconda3/envs/Raman/lib/python3.7/site-packages/matplotlib/image.py\u001b[0m in \u001b[0;36m_draw_list_compositing_images\u001b[0;34m(renderer, parent, artists, suppress_composite)\u001b[0m\n",
      "\u001b[0;32m/anaconda3/envs/Raman/lib/python3.7/site-packages/matplotlib/artist.py\u001b[0m in \u001b[0;36mdraw_wrapper\u001b[0;34m(artist, renderer, *args, **kwargs)\u001b[0m\n",
      "\u001b[0;32m/anaconda3/envs/Raman/lib/python3.7/site-packages/matplotlib/axes/_base.py\u001b[0m in \u001b[0;36mdraw\u001b[0;34m(self, renderer, inframe)\u001b[0m\n",
      "\u001b[0;32m/anaconda3/envs/Raman/lib/python3.7/site-packages/matplotlib/image.py\u001b[0m in \u001b[0;36m_draw_list_compositing_images\u001b[0;34m(renderer, parent, artists, suppress_composite)\u001b[0m\n",
      "\u001b[0;32m/anaconda3/envs/Raman/lib/python3.7/site-packages/matplotlib/artist.py\u001b[0m in \u001b[0;36mdraw_wrapper\u001b[0;34m(artist, renderer, *args, **kwargs)\u001b[0m\n",
      "\u001b[0;32m/anaconda3/envs/Raman/lib/python3.7/site-packages/matplotlib/axis.py\u001b[0m in \u001b[0;36mdraw\u001b[0;34m(self, renderer, *args, **kwargs)\u001b[0m\n",
      "\u001b[0;32m/anaconda3/envs/Raman/lib/python3.7/site-packages/matplotlib/artist.py\u001b[0m in \u001b[0;36mdraw_wrapper\u001b[0;34m(artist, renderer, *args, **kwargs)\u001b[0m\n",
      "\u001b[0;32m/anaconda3/envs/Raman/lib/python3.7/site-packages/matplotlib/text.py\u001b[0m in \u001b[0;36mdraw\u001b[0;34m(self, renderer)\u001b[0m\n",
      "\u001b[0;32m/anaconda3/envs/Raman/lib/python3.7/site-packages/matplotlib/text.py\u001b[0m in \u001b[0;36m_get_layout\u001b[0;34m(self, renderer)\u001b[0m\n",
      "\u001b[0;32m/anaconda3/envs/Raman/lib/python3.7/site-packages/matplotlib/backends/backend_agg.py\u001b[0m in \u001b[0;36mget_text_width_height_descent\u001b[0;34m(self, s, prop, ismath)\u001b[0m\n",
      "\u001b[0;32m/anaconda3/envs/Raman/lib/python3.7/site-packages/matplotlib/mathtext.py\u001b[0m in \u001b[0;36mparse\u001b[0;34m(self, s, dpi, prop)\u001b[0m\n",
      "\u001b[0;32m/anaconda3/envs/Raman/lib/python3.7/site-packages/matplotlib/mathtext.py\u001b[0m in \u001b[0;36mparse\u001b[0;34m(self, s, fonts_object, fontsize, dpi)\u001b[0m\n",
      "\u001b[0;32m/anaconda3/envs/Raman/lib/python3.7/site-packages/pyparsing.py\u001b[0m in \u001b[0;36mparseString\u001b[0;34m(self, instring, parseAll)\u001b[0m\n",
      "\u001b[0;32m/anaconda3/envs/Raman/lib/python3.7/site-packages/pyparsing.py\u001b[0m in \u001b[0;36m_parseCache\u001b[0;34m(self, instring, loc, doActions, callPreParse)\u001b[0m\n",
      "\u001b[0;32m/anaconda3/envs/Raman/lib/python3.7/site-packages/pyparsing.py\u001b[0m in \u001b[0;36m_parseNoCache\u001b[0;34m(self, instring, loc, doActions, callPreParse)\u001b[0m\n",
      "\u001b[0;32m/anaconda3/envs/Raman/lib/python3.7/site-packages/pyparsing.py\u001b[0m in \u001b[0;36mparseImpl\u001b[0;34m(self, instring, loc, doActions)\u001b[0m\n",
      "\u001b[0;32m/anaconda3/envs/Raman/lib/python3.7/site-packages/pyparsing.py\u001b[0m in \u001b[0;36m_parseCache\u001b[0;34m(self, instring, loc, doActions, callPreParse)\u001b[0m\n",
      "\u001b[0;32m/anaconda3/envs/Raman/lib/python3.7/site-packages/pyparsing.py\u001b[0m in \u001b[0;36m_parseNoCache\u001b[0;34m(self, instring, loc, doActions, callPreParse)\u001b[0m\n",
      "\u001b[0;32m/anaconda3/envs/Raman/lib/python3.7/site-packages/pyparsing.py\u001b[0m in \u001b[0;36mparseImpl\u001b[0;34m(self, instring, loc, doActions)\u001b[0m\n",
      "\u001b[0;32m/anaconda3/envs/Raman/lib/python3.7/site-packages/pyparsing.py\u001b[0m in \u001b[0;36m_parseCache\u001b[0;34m(self, instring, loc, doActions, callPreParse)\u001b[0m\n",
      "\u001b[0;32m/anaconda3/envs/Raman/lib/python3.7/site-packages/pyparsing.py\u001b[0m in \u001b[0;36m_parseNoCache\u001b[0;34m(self, instring, loc, doActions, callPreParse)\u001b[0m\n",
      "\u001b[0;32m/anaconda3/envs/Raman/lib/python3.7/site-packages/pyparsing.py\u001b[0m in \u001b[0;36mparseImpl\u001b[0;34m(self, instring, loc, doActions)\u001b[0m\n",
      "\u001b[0;32m/anaconda3/envs/Raman/lib/python3.7/site-packages/pyparsing.py\u001b[0m in \u001b[0;36mparseImpl\u001b[0;34m(self, instring, loc, doActions)\u001b[0m\n",
      "\u001b[0;32m/anaconda3/envs/Raman/lib/python3.7/site-packages/pyparsing.py\u001b[0m in \u001b[0;36m_parseCache\u001b[0;34m(self, instring, loc, doActions, callPreParse)\u001b[0m\n",
      "\u001b[0;32m/anaconda3/envs/Raman/lib/python3.7/site-packages/pyparsing.py\u001b[0m in \u001b[0;36m_parseNoCache\u001b[0;34m(self, instring, loc, doActions, callPreParse)\u001b[0m\n",
      "\u001b[0;32m/anaconda3/envs/Raman/lib/python3.7/site-packages/pyparsing.py\u001b[0m in \u001b[0;36mparseImpl\u001b[0;34m(self, instring, loc, doActions)\u001b[0m\n",
      "\u001b[0;32m/anaconda3/envs/Raman/lib/python3.7/site-packages/pyparsing.py\u001b[0m in \u001b[0;36m_parseCache\u001b[0;34m(self, instring, loc, doActions, callPreParse)\u001b[0m\n",
      "\u001b[0;32m/anaconda3/envs/Raman/lib/python3.7/site-packages/pyparsing.py\u001b[0m in \u001b[0;36m_parseNoCache\u001b[0;34m(self, instring, loc, doActions, callPreParse)\u001b[0m\n",
      "\u001b[0;32m/anaconda3/envs/Raman/lib/python3.7/site-packages/pyparsing.py\u001b[0m in \u001b[0;36mwrapper\u001b[0;34m(*args)\u001b[0m\n",
      "\u001b[0;32m/anaconda3/envs/Raman/lib/python3.7/site-packages/matplotlib/mathtext.py\u001b[0m in \u001b[0;36mmath_string\u001b[0;34m(self, s, loc, toks)\u001b[0m\n",
      "\u001b[0;32m/anaconda3/envs/Raman/lib/python3.7/site-packages/pyparsing.py\u001b[0m in \u001b[0;36mparseString\u001b[0;34m(self, instring, parseAll)\u001b[0m\n",
      "\u001b[0;32m/anaconda3/envs/Raman/lib/python3.7/site-packages/pyparsing.py\u001b[0m in \u001b[0;36m_parseCache\u001b[0;34m(self, instring, loc, doActions, callPreParse)\u001b[0m\n",
      "\u001b[0;32m/anaconda3/envs/Raman/lib/python3.7/site-packages/pyparsing.py\u001b[0m in \u001b[0;36m_parseNoCache\u001b[0;34m(self, instring, loc, doActions, callPreParse)\u001b[0m\n",
      "\u001b[0;32m/anaconda3/envs/Raman/lib/python3.7/site-packages/pyparsing.py\u001b[0m in \u001b[0;36mparseImpl\u001b[0;34m(self, instring, loc, doActions)\u001b[0m\n",
      "\u001b[0;32m/anaconda3/envs/Raman/lib/python3.7/site-packages/pyparsing.py\u001b[0m in \u001b[0;36m_parseCache\u001b[0;34m(self, instring, loc, doActions, callPreParse)\u001b[0m\n",
      "\u001b[0;32m/anaconda3/envs/Raman/lib/python3.7/site-packages/pyparsing.py\u001b[0m in \u001b[0;36m_parseNoCache\u001b[0;34m(self, instring, loc, doActions, callPreParse)\u001b[0m\n",
      "\u001b[0;32m/anaconda3/envs/Raman/lib/python3.7/site-packages/pyparsing.py\u001b[0m in \u001b[0;36mparseImpl\u001b[0;34m(self, instring, loc, doActions)\u001b[0m\n",
      "\u001b[0;32m/anaconda3/envs/Raman/lib/python3.7/site-packages/pyparsing.py\u001b[0m in \u001b[0;36m_parseCache\u001b[0;34m(self, instring, loc, doActions, callPreParse)\u001b[0m\n",
      "\u001b[0;32m/anaconda3/envs/Raman/lib/python3.7/site-packages/pyparsing.py\u001b[0m in \u001b[0;36m_parseNoCache\u001b[0;34m(self, instring, loc, doActions, callPreParse)\u001b[0m\n",
      "\u001b[0;32m/anaconda3/envs/Raman/lib/python3.7/site-packages/pyparsing.py\u001b[0m in \u001b[0;36mparseImpl\u001b[0;34m(self, instring, loc, doActions)\u001b[0m\n",
      "\u001b[0;32m/anaconda3/envs/Raman/lib/python3.7/site-packages/pyparsing.py\u001b[0m in \u001b[0;36m_parseCache\u001b[0;34m(self, instring, loc, doActions, callPreParse)\u001b[0m\n",
      "\u001b[0;32m/anaconda3/envs/Raman/lib/python3.7/site-packages/pyparsing.py\u001b[0m in \u001b[0;36m_parseNoCache\u001b[0;34m(self, instring, loc, doActions, callPreParse)\u001b[0m\n",
      "\u001b[0;32m/anaconda3/envs/Raman/lib/python3.7/site-packages/pyparsing.py\u001b[0m in \u001b[0;36mparseImpl\u001b[0;34m(self, instring, loc, doActions)\u001b[0m\n",
      "\u001b[0;32m/anaconda3/envs/Raman/lib/python3.7/site-packages/pyparsing.py\u001b[0m in \u001b[0;36m_parseCache\u001b[0;34m(self, instring, loc, doActions, callPreParse)\u001b[0m\n",
      "\u001b[0;32m/anaconda3/envs/Raman/lib/python3.7/site-packages/pyparsing.py\u001b[0m in \u001b[0;36m_parseNoCache\u001b[0;34m(self, instring, loc, doActions, callPreParse)\u001b[0m\n",
      "\u001b[0;32m/anaconda3/envs/Raman/lib/python3.7/site-packages/pyparsing.py\u001b[0m in \u001b[0;36mparseImpl\u001b[0;34m(self, instring, loc, doActions)\u001b[0m\n",
      "\u001b[0;32m/anaconda3/envs/Raman/lib/python3.7/site-packages/pyparsing.py\u001b[0m in \u001b[0;36m_parseCache\u001b[0;34m(self, instring, loc, doActions, callPreParse)\u001b[0m\n",
      "\u001b[0;32m/anaconda3/envs/Raman/lib/python3.7/site-packages/pyparsing.py\u001b[0m in \u001b[0;36m_parseNoCache\u001b[0;34m(self, instring, loc, doActions, callPreParse)\u001b[0m\n",
      "\u001b[0;32m/anaconda3/envs/Raman/lib/python3.7/site-packages/pyparsing.py\u001b[0m in \u001b[0;36mparseImpl\u001b[0;34m(self, instring, loc, doActions)\u001b[0m\n",
      "\u001b[0;32m/anaconda3/envs/Raman/lib/python3.7/site-packages/pyparsing.py\u001b[0m in \u001b[0;36m_parseCache\u001b[0;34m(self, instring, loc, doActions, callPreParse)\u001b[0m\n",
      "\u001b[0;32m/anaconda3/envs/Raman/lib/python3.7/site-packages/pyparsing.py\u001b[0m in \u001b[0;36m_parseNoCache\u001b[0;34m(self, instring, loc, doActions, callPreParse)\u001b[0m\n",
      "\u001b[0;32m/anaconda3/envs/Raman/lib/python3.7/site-packages/pyparsing.py\u001b[0m in \u001b[0;36mparseImpl\u001b[0;34m(self, instring, loc, doActions)\u001b[0m\n",
      "\u001b[0;32m/anaconda3/envs/Raman/lib/python3.7/site-packages/pyparsing.py\u001b[0m in \u001b[0;36m_parseCache\u001b[0;34m(self, instring, loc, doActions, callPreParse)\u001b[0m\n",
      "\u001b[0;32m/anaconda3/envs/Raman/lib/python3.7/site-packages/pyparsing.py\u001b[0m in \u001b[0;36m_parseNoCache\u001b[0;34m(self, instring, loc, doActions, callPreParse)\u001b[0m\n",
      "\u001b[0;32m/anaconda3/envs/Raman/lib/python3.7/site-packages/pyparsing.py\u001b[0m in \u001b[0;36mparseImpl\u001b[0;34m(self, instring, loc, doActions)\u001b[0m\n",
      "\u001b[0;32m/anaconda3/envs/Raman/lib/python3.7/site-packages/pyparsing.py\u001b[0m in \u001b[0;36m_parseCache\u001b[0;34m(self, instring, loc, doActions, callPreParse)\u001b[0m\n",
      "\u001b[0;32m/anaconda3/envs/Raman/lib/python3.7/site-packages/pyparsing.py\u001b[0m in \u001b[0;36m_parseNoCache\u001b[0;34m(self, instring, loc, doActions, callPreParse)\u001b[0m\n",
      "\u001b[0;32m/anaconda3/envs/Raman/lib/python3.7/site-packages/pyparsing.py\u001b[0m in \u001b[0;36mparseImpl\u001b[0;34m(self, instring, loc, doActions)\u001b[0m\n",
      "\u001b[0;32m/anaconda3/envs/Raman/lib/python3.7/site-packages/pyparsing.py\u001b[0m in \u001b[0;36m_parseCache\u001b[0;34m(self, instring, loc, doActions, callPreParse)\u001b[0m\n",
      "\u001b[0;32m/anaconda3/envs/Raman/lib/python3.7/site-packages/pyparsing.py\u001b[0m in \u001b[0;36m_parseNoCache\u001b[0;34m(self, instring, loc, doActions, callPreParse)\u001b[0m\n",
      "\u001b[0;32m/anaconda3/envs/Raman/lib/python3.7/site-packages/pyparsing.py\u001b[0m in \u001b[0;36mparseImpl\u001b[0;34m(self, instring, loc, doActions)\u001b[0m\n",
      "\u001b[0;32m/anaconda3/envs/Raman/lib/python3.7/site-packages/pyparsing.py\u001b[0m in \u001b[0;36m_parseCache\u001b[0;34m(self, instring, loc, doActions, callPreParse)\u001b[0m\n",
      "\u001b[0;32m/anaconda3/envs/Raman/lib/python3.7/site-packages/pyparsing.py\u001b[0m in \u001b[0;36m_parseNoCache\u001b[0;34m(self, instring, loc, doActions, callPreParse)\u001b[0m\n",
      "\u001b[0;32m/anaconda3/envs/Raman/lib/python3.7/site-packages/pyparsing.py\u001b[0m in \u001b[0;36mparseImpl\u001b[0;34m(self, instring, loc, doActions)\u001b[0m\n",
      "\u001b[0;32m/anaconda3/envs/Raman/lib/python3.7/site-packages/pyparsing.py\u001b[0m in \u001b[0;36m_parseCache\u001b[0;34m(self, instring, loc, doActions, callPreParse)\u001b[0m\n",
      "\u001b[0;32m/anaconda3/envs/Raman/lib/python3.7/site-packages/pyparsing.py\u001b[0m in \u001b[0;36m_parseNoCache\u001b[0;34m(self, instring, loc, doActions, callPreParse)\u001b[0m\n",
      "\u001b[0;32m/anaconda3/envs/Raman/lib/python3.7/site-packages/pyparsing.py\u001b[0m in \u001b[0;36mparseImpl\u001b[0;34m(self, instring, loc, doActions)\u001b[0m\n",
      "\u001b[0;32m/anaconda3/envs/Raman/lib/python3.7/site-packages/pyparsing.py\u001b[0m in \u001b[0;36m_parseCache\u001b[0;34m(self, instring, loc, doActions, callPreParse)\u001b[0m\n",
      "\u001b[0;32m/anaconda3/envs/Raman/lib/python3.7/site-packages/pyparsing.py\u001b[0m in \u001b[0;36m_parseNoCache\u001b[0;34m(self, instring, loc, doActions, callPreParse)\u001b[0m\n",
      "\u001b[0;32m/anaconda3/envs/Raman/lib/python3.7/site-packages/pyparsing.py\u001b[0m in \u001b[0;36mparseImpl\u001b[0;34m(self, instring, loc, doActions)\u001b[0m\n",
      "\u001b[0;32m/anaconda3/envs/Raman/lib/python3.7/site-packages/pyparsing.py\u001b[0m in \u001b[0;36m_parseCache\u001b[0;34m(self, instring, loc, doActions, callPreParse)\u001b[0m\n",
      "\u001b[0;32m/anaconda3/envs/Raman/lib/python3.7/site-packages/pyparsing.py\u001b[0m in \u001b[0;36m_parseNoCache\u001b[0;34m(self, instring, loc, doActions, callPreParse)\u001b[0m\n",
      "\u001b[0;32m/anaconda3/envs/Raman/lib/python3.7/site-packages/pyparsing.py\u001b[0m in \u001b[0;36mparseImpl\u001b[0;34m(self, instring, loc, doActions)\u001b[0m\n",
      "\u001b[0;32m/anaconda3/envs/Raman/lib/python3.7/site-packages/pyparsing.py\u001b[0m in \u001b[0;36m_parseCache\u001b[0;34m(self, instring, loc, doActions, callPreParse)\u001b[0m\n",
      "\u001b[0;32m/anaconda3/envs/Raman/lib/python3.7/site-packages/pyparsing.py\u001b[0m in \u001b[0;36m_parseNoCache\u001b[0;34m(self, instring, loc, doActions, callPreParse)\u001b[0m\n",
      "\u001b[0;32m/anaconda3/envs/Raman/lib/python3.7/site-packages/pyparsing.py\u001b[0m in \u001b[0;36mparseImpl\u001b[0;34m(self, instring, loc, doActions)\u001b[0m\n",
      "\u001b[0;32m/anaconda3/envs/Raman/lib/python3.7/site-packages/pyparsing.py\u001b[0m in \u001b[0;36m_parseCache\u001b[0;34m(self, instring, loc, doActions, callPreParse)\u001b[0m\n",
      "\u001b[0;32m/anaconda3/envs/Raman/lib/python3.7/site-packages/pyparsing.py\u001b[0m in \u001b[0;36m_parseNoCache\u001b[0;34m(self, instring, loc, doActions, callPreParse)\u001b[0m\n",
      "\u001b[0;32m/anaconda3/envs/Raman/lib/python3.7/site-packages/pyparsing.py\u001b[0m in \u001b[0;36mparseImpl\u001b[0;34m(self, instring, loc, doActions)\u001b[0m\n",
      "\u001b[0;32m/anaconda3/envs/Raman/lib/python3.7/site-packages/pyparsing.py\u001b[0m in \u001b[0;36m_parseCache\u001b[0;34m(self, instring, loc, doActions, callPreParse)\u001b[0m\n",
      "\u001b[0;32m/anaconda3/envs/Raman/lib/python3.7/site-packages/pyparsing.py\u001b[0m in \u001b[0;36m_parseNoCache\u001b[0;34m(self, instring, loc, doActions, callPreParse)\u001b[0m\n",
      "\u001b[0;32m/anaconda3/envs/Raman/lib/python3.7/site-packages/pyparsing.py\u001b[0m in \u001b[0;36mparseImpl\u001b[0;34m(self, instring, loc, doActions)\u001b[0m\n",
      "\u001b[0;32m/anaconda3/envs/Raman/lib/python3.7/site-packages/pyparsing.py\u001b[0m in \u001b[0;36m_parseCache\u001b[0;34m(self, instring, loc, doActions, callPreParse)\u001b[0m\n",
      "\u001b[0;32m/anaconda3/envs/Raman/lib/python3.7/site-packages/pyparsing.py\u001b[0m in \u001b[0;36m_parseNoCache\u001b[0;34m(self, instring, loc, doActions, callPreParse)\u001b[0m\n",
      "\u001b[0;32m/anaconda3/envs/Raman/lib/python3.7/site-packages/pyparsing.py\u001b[0m in \u001b[0;36mparseImpl\u001b[0;34m(self, instring, loc, doActions)\u001b[0m\n",
      "\u001b[0;32m/anaconda3/envs/Raman/lib/python3.7/site-packages/pyparsing.py\u001b[0m in \u001b[0;36mparseImpl\u001b[0;34m(self, instring, loc, doActions)\u001b[0m\n",
      "\u001b[0;32m/anaconda3/envs/Raman/lib/python3.7/site-packages/pyparsing.py\u001b[0m in \u001b[0;36m_parseCache\u001b[0;34m(self, instring, loc, doActions, callPreParse)\u001b[0m\n",
      "\u001b[0;32m/anaconda3/envs/Raman/lib/python3.7/site-packages/pyparsing.py\u001b[0m in \u001b[0;36m_parseNoCache\u001b[0;34m(self, instring, loc, doActions, callPreParse)\u001b[0m\n",
      "\u001b[0;32m/anaconda3/envs/Raman/lib/python3.7/site-packages/pyparsing.py\u001b[0m in \u001b[0;36mparseImpl\u001b[0;34m(self, instring, loc, doActions)\u001b[0m\n",
      "\u001b[0;32m/anaconda3/envs/Raman/lib/python3.7/site-packages/pyparsing.py\u001b[0m in \u001b[0;36m_parseCache\u001b[0;34m(self, instring, loc, doActions, callPreParse)\u001b[0m\n",
      "\u001b[0;32m/anaconda3/envs/Raman/lib/python3.7/site-packages/pyparsing.py\u001b[0m in \u001b[0;36m_parseNoCache\u001b[0;34m(self, instring, loc, doActions, callPreParse)\u001b[0m\n",
      "\u001b[0;32m/anaconda3/envs/Raman/lib/python3.7/site-packages/pyparsing.py\u001b[0m in \u001b[0;36mparseImpl\u001b[0;34m(self, instring, loc, doActions)\u001b[0m\n",
      "\u001b[0;32m/anaconda3/envs/Raman/lib/python3.7/site-packages/pyparsing.py\u001b[0m in \u001b[0;36m_parseCache\u001b[0;34m(self, instring, loc, doActions, callPreParse)\u001b[0m\n",
      "\u001b[0;32m/anaconda3/envs/Raman/lib/python3.7/site-packages/pyparsing.py\u001b[0m in \u001b[0;36m_parseNoCache\u001b[0;34m(self, instring, loc, doActions, callPreParse)\u001b[0m\n",
      "\u001b[0;32m/anaconda3/envs/Raman/lib/python3.7/site-packages/pyparsing.py\u001b[0m in \u001b[0;36mparseImpl\u001b[0;34m(self, instring, loc, doActions)\u001b[0m\n",
      "\u001b[0;32m/anaconda3/envs/Raman/lib/python3.7/site-packages/pyparsing.py\u001b[0m in \u001b[0;36m_parseCache\u001b[0;34m(self, instring, loc, doActions, callPreParse)\u001b[0m\n",
      "\u001b[0;32m/anaconda3/envs/Raman/lib/python3.7/site-packages/pyparsing.py\u001b[0m in \u001b[0;36m_parseNoCache\u001b[0;34m(self, instring, loc, doActions, callPreParse)\u001b[0m\n",
      "\u001b[0;32m/anaconda3/envs/Raman/lib/python3.7/site-packages/pyparsing.py\u001b[0m in \u001b[0;36mparseImpl\u001b[0;34m(self, instring, loc, doActions)\u001b[0m\n",
      "\u001b[0;32m/anaconda3/envs/Raman/lib/python3.7/site-packages/pyparsing.py\u001b[0m in \u001b[0;36m_parseCache\u001b[0;34m(self, instring, loc, doActions, callPreParse)\u001b[0m\n",
      "\u001b[0;32m/anaconda3/envs/Raman/lib/python3.7/site-packages/pyparsing.py\u001b[0m in \u001b[0;36m_parseNoCache\u001b[0;34m(self, instring, loc, doActions, callPreParse)\u001b[0m\n",
      "\u001b[0;32m/anaconda3/envs/Raman/lib/python3.7/site-packages/pyparsing.py\u001b[0m in \u001b[0;36mparseImpl\u001b[0;34m(self, instring, loc, doActions)\u001b[0m\n",
      "\u001b[0;32m/anaconda3/envs/Raman/lib/python3.7/site-packages/pyparsing.py\u001b[0m in \u001b[0;36m_parseCache\u001b[0;34m(self, instring, loc, doActions, callPreParse)\u001b[0m\n",
      "\u001b[0;32m/anaconda3/envs/Raman/lib/python3.7/site-packages/pyparsing.py\u001b[0m in \u001b[0;36m_parseNoCache\u001b[0;34m(self, instring, loc, doActions, callPreParse)\u001b[0m\n",
      "\u001b[0;32m/anaconda3/envs/Raman/lib/python3.7/site-packages/pyparsing.py\u001b[0m in \u001b[0;36mparseImpl\u001b[0;34m(self, instring, loc, doActions)\u001b[0m\n",
      "\u001b[0;32m/anaconda3/envs/Raman/lib/python3.7/site-packages/pyparsing.py\u001b[0m in \u001b[0;36m_parseCache\u001b[0;34m(self, instring, loc, doActions, callPreParse)\u001b[0m\n",
      "\u001b[0;32m/anaconda3/envs/Raman/lib/python3.7/site-packages/pyparsing.py\u001b[0m in \u001b[0;36m_parseNoCache\u001b[0;34m(self, instring, loc, doActions, callPreParse)\u001b[0m\n",
      "\u001b[0;32m/anaconda3/envs/Raman/lib/python3.7/site-packages/pyparsing.py\u001b[0m in \u001b[0;36mparseImpl\u001b[0;34m(self, instring, loc, doActions)\u001b[0m\n",
      "\u001b[0;32m/anaconda3/envs/Raman/lib/python3.7/site-packages/pyparsing.py\u001b[0m in \u001b[0;36m_parseCache\u001b[0;34m(self, instring, loc, doActions, callPreParse)\u001b[0m\n",
      "\u001b[0;32m/anaconda3/envs/Raman/lib/python3.7/site-packages/pyparsing.py\u001b[0m in \u001b[0;36m_parseNoCache\u001b[0;34m(self, instring, loc, doActions, callPreParse)\u001b[0m\n",
      "\u001b[0;32m/anaconda3/envs/Raman/lib/python3.7/site-packages/pyparsing.py\u001b[0m in \u001b[0;36mparseImpl\u001b[0;34m(self, instring, loc, doActions)\u001b[0m\n",
      "\u001b[0;32m/anaconda3/envs/Raman/lib/python3.7/site-packages/pyparsing.py\u001b[0m in \u001b[0;36m_parseCache\u001b[0;34m(self, instring, loc, doActions, callPreParse)\u001b[0m\n",
      "\u001b[0;32m/anaconda3/envs/Raman/lib/python3.7/site-packages/pyparsing.py\u001b[0m in \u001b[0;36m_parseNoCache\u001b[0;34m(self, instring, loc, doActions, callPreParse)\u001b[0m\n",
      "\u001b[0;32m/anaconda3/envs/Raman/lib/python3.7/site-packages/pyparsing.py\u001b[0m in \u001b[0;36mparseImpl\u001b[0;34m(self, instring, loc, doActions)\u001b[0m\n",
      "\u001b[0;32m/anaconda3/envs/Raman/lib/python3.7/site-packages/pyparsing.py\u001b[0m in \u001b[0;36m_parseCache\u001b[0;34m(self, instring, loc, doActions, callPreParse)\u001b[0m\n",
      "\u001b[0;32m/anaconda3/envs/Raman/lib/python3.7/site-packages/pyparsing.py\u001b[0m in \u001b[0;36m_parseNoCache\u001b[0;34m(self, instring, loc, doActions, callPreParse)\u001b[0m\n",
      "\u001b[0;32m/anaconda3/envs/Raman/lib/python3.7/site-packages/pyparsing.py\u001b[0m in \u001b[0;36mparseImpl\u001b[0;34m(self, instring, loc, doActions)\u001b[0m\n",
      "\u001b[0;32m/anaconda3/envs/Raman/lib/python3.7/site-packages/pyparsing.py\u001b[0m in \u001b[0;36m_parseCache\u001b[0;34m(self, instring, loc, doActions, callPreParse)\u001b[0m\n",
      "\u001b[0;32m/anaconda3/envs/Raman/lib/python3.7/site-packages/pyparsing.py\u001b[0m in \u001b[0;36m_parseNoCache\u001b[0;34m(self, instring, loc, doActions, callPreParse)\u001b[0m\n",
      "\u001b[0;32m/anaconda3/envs/Raman/lib/python3.7/site-packages/pyparsing.py\u001b[0m in \u001b[0;36mparseImpl\u001b[0;34m(self, instring, loc, doActions)\u001b[0m\n",
      "\u001b[0;32m/anaconda3/envs/Raman/lib/python3.7/site-packages/pyparsing.py\u001b[0m in \u001b[0;36m_parseCache\u001b[0;34m(self, instring, loc, doActions, callPreParse)\u001b[0m\n",
      "\u001b[0;32m/anaconda3/envs/Raman/lib/python3.7/site-packages/pyparsing.py\u001b[0m in \u001b[0;36m_parseNoCache\u001b[0;34m(self, instring, loc, doActions, callPreParse)\u001b[0m\n",
      "\u001b[0;32m/anaconda3/envs/Raman/lib/python3.7/site-packages/pyparsing.py\u001b[0m in \u001b[0;36mwrapper\u001b[0;34m(*args)\u001b[0m\n",
      "\u001b[0;32m/anaconda3/envs/Raman/lib/python3.7/site-packages/matplotlib/mathtext.py\u001b[0m in \u001b[0;36msymbol\u001b[0;34m(self, s, loc, toks)\u001b[0m\n",
      "\u001b[0;32m/anaconda3/envs/Raman/lib/python3.7/site-packages/matplotlib/mathtext.py\u001b[0m in \u001b[0;36m__init__\u001b[0;34m(self, c, state, math)\u001b[0m\n",
      "\u001b[0;32m/anaconda3/envs/Raman/lib/python3.7/site-packages/matplotlib/mathtext.py\u001b[0m in \u001b[0;36m_update_metrics\u001b[0;34m(self)\u001b[0m\n",
      "\u001b[0;32m/anaconda3/envs/Raman/lib/python3.7/site-packages/matplotlib/mathtext.py\u001b[0m in \u001b[0;36mget_metrics\u001b[0;34m(self, font, font_class, sym, fontsize, dpi, math)\u001b[0m\n",
      "\u001b[0;32m/anaconda3/envs/Raman/lib/python3.7/site-packages/matplotlib/mathtext.py\u001b[0m in \u001b[0;36m_get_info\u001b[0;34m(self, fontname, font_class, sym, fontsize, dpi, math)\u001b[0m\n",
      "\u001b[0;32m/anaconda3/envs/Raman/lib/python3.7/site-packages/matplotlib/mathtext.py\u001b[0m in \u001b[0;36m_get_glyph\u001b[0;34m(self, fontname, font_class, sym, fontsize, math)\u001b[0m\n",
      "\u001b[0;32m/anaconda3/envs/Raman/lib/python3.7/site-packages/matplotlib/mathtext.py\u001b[0m in \u001b[0;36m_get_glyph\u001b[0;34m(self, fontname, font_class, sym, fontsize, math)\u001b[0m\n",
      "\u001b[0;32m/anaconda3/envs/Raman/lib/python3.7/site-packages/matplotlib/mathtext.py\u001b[0m in \u001b[0;36m_get_glyph\u001b[0;34m(self, fontname, font_class, sym, fontsize, math)\u001b[0m\n",
      "\u001b[0;31mAttributeError\u001b[0m: 'NoneType' object has no attribute 'get_char_index'"
     ]
    },
    {
     "ename": "AttributeError",
     "evalue": "'NoneType' object has no attribute 'get_char_index'",
     "output_type": "error",
     "traceback": [
      "\u001b[0;31m---------------------------------------------------------------------------\u001b[0m",
      "\u001b[0;31mAttributeError\u001b[0m                            Traceback (most recent call last)",
      "\u001b[0;32m/anaconda3/envs/Raman/lib/python3.7/site-packages/IPython/core/formatters.py\u001b[0m in \u001b[0;36m__call__\u001b[0;34m(self, obj)\u001b[0m\n",
      "\u001b[0;32m/anaconda3/envs/Raman/lib/python3.7/site-packages/IPython/core/pylabtools.py\u001b[0m in \u001b[0;36m<lambda>\u001b[0;34m(fig)\u001b[0m\n",
      "\u001b[0;32m/anaconda3/envs/Raman/lib/python3.7/site-packages/IPython/core/pylabtools.py\u001b[0m in \u001b[0;36mprint_figure\u001b[0;34m(fig, fmt, bbox_inches, **kwargs)\u001b[0m\n",
      "\u001b[0;32m/anaconda3/envs/Raman/lib/python3.7/site-packages/matplotlib/backend_bases.py\u001b[0m in \u001b[0;36mprint_figure\u001b[0;34m(self, filename, dpi, facecolor, edgecolor, orientation, format, bbox_inches, **kwargs)\u001b[0m\n",
      "\u001b[0;32m/anaconda3/envs/Raman/lib/python3.7/site-packages/matplotlib/backends/backend_agg.py\u001b[0m in \u001b[0;36mprint_png\u001b[0;34m(self, filename_or_obj, *args, **kwargs)\u001b[0m\n",
      "\u001b[0;32m/anaconda3/envs/Raman/lib/python3.7/site-packages/matplotlib/backends/backend_agg.py\u001b[0m in \u001b[0;36mdraw\u001b[0;34m(self)\u001b[0m\n",
      "\u001b[0;32m/anaconda3/envs/Raman/lib/python3.7/site-packages/matplotlib/artist.py\u001b[0m in \u001b[0;36mdraw_wrapper\u001b[0;34m(artist, renderer, *args, **kwargs)\u001b[0m\n",
      "\u001b[0;32m/anaconda3/envs/Raman/lib/python3.7/site-packages/matplotlib/figure.py\u001b[0m in \u001b[0;36mdraw\u001b[0;34m(self, renderer)\u001b[0m\n",
      "\u001b[0;32m/anaconda3/envs/Raman/lib/python3.7/site-packages/matplotlib/image.py\u001b[0m in \u001b[0;36m_draw_list_compositing_images\u001b[0;34m(renderer, parent, artists, suppress_composite)\u001b[0m\n",
      "\u001b[0;32m/anaconda3/envs/Raman/lib/python3.7/site-packages/matplotlib/artist.py\u001b[0m in \u001b[0;36mdraw_wrapper\u001b[0;34m(artist, renderer, *args, **kwargs)\u001b[0m\n",
      "\u001b[0;32m/anaconda3/envs/Raman/lib/python3.7/site-packages/matplotlib/axes/_base.py\u001b[0m in \u001b[0;36mdraw\u001b[0;34m(self, renderer, inframe)\u001b[0m\n",
      "\u001b[0;32m/anaconda3/envs/Raman/lib/python3.7/site-packages/matplotlib/image.py\u001b[0m in \u001b[0;36m_draw_list_compositing_images\u001b[0;34m(renderer, parent, artists, suppress_composite)\u001b[0m\n",
      "\u001b[0;32m/anaconda3/envs/Raman/lib/python3.7/site-packages/matplotlib/artist.py\u001b[0m in \u001b[0;36mdraw_wrapper\u001b[0;34m(artist, renderer, *args, **kwargs)\u001b[0m\n",
      "\u001b[0;32m/anaconda3/envs/Raman/lib/python3.7/site-packages/matplotlib/axis.py\u001b[0m in \u001b[0;36mdraw\u001b[0;34m(self, renderer, *args, **kwargs)\u001b[0m\n",
      "\u001b[0;32m/anaconda3/envs/Raman/lib/python3.7/site-packages/matplotlib/artist.py\u001b[0m in \u001b[0;36mdraw_wrapper\u001b[0;34m(artist, renderer, *args, **kwargs)\u001b[0m\n",
      "\u001b[0;32m/anaconda3/envs/Raman/lib/python3.7/site-packages/matplotlib/text.py\u001b[0m in \u001b[0;36mdraw\u001b[0;34m(self, renderer)\u001b[0m\n",
      "\u001b[0;32m/anaconda3/envs/Raman/lib/python3.7/site-packages/matplotlib/text.py\u001b[0m in \u001b[0;36m_get_layout\u001b[0;34m(self, renderer)\u001b[0m\n",
      "\u001b[0;32m/anaconda3/envs/Raman/lib/python3.7/site-packages/matplotlib/backends/backend_agg.py\u001b[0m in \u001b[0;36mget_text_width_height_descent\u001b[0;34m(self, s, prop, ismath)\u001b[0m\n",
      "\u001b[0;32m/anaconda3/envs/Raman/lib/python3.7/site-packages/matplotlib/mathtext.py\u001b[0m in \u001b[0;36mparse\u001b[0;34m(self, s, dpi, prop)\u001b[0m\n",
      "\u001b[0;32m/anaconda3/envs/Raman/lib/python3.7/site-packages/matplotlib/mathtext.py\u001b[0m in \u001b[0;36mparse\u001b[0;34m(self, s, fonts_object, fontsize, dpi)\u001b[0m\n",
      "\u001b[0;32m/anaconda3/envs/Raman/lib/python3.7/site-packages/pyparsing.py\u001b[0m in \u001b[0;36mparseString\u001b[0;34m(self, instring, parseAll)\u001b[0m\n",
      "\u001b[0;32m/anaconda3/envs/Raman/lib/python3.7/site-packages/pyparsing.py\u001b[0m in \u001b[0;36m_parseCache\u001b[0;34m(self, instring, loc, doActions, callPreParse)\u001b[0m\n",
      "\u001b[0;32m/anaconda3/envs/Raman/lib/python3.7/site-packages/pyparsing.py\u001b[0m in \u001b[0;36m_parseNoCache\u001b[0;34m(self, instring, loc, doActions, callPreParse)\u001b[0m\n",
      "\u001b[0;32m/anaconda3/envs/Raman/lib/python3.7/site-packages/pyparsing.py\u001b[0m in \u001b[0;36mparseImpl\u001b[0;34m(self, instring, loc, doActions)\u001b[0m\n",
      "\u001b[0;32m/anaconda3/envs/Raman/lib/python3.7/site-packages/pyparsing.py\u001b[0m in \u001b[0;36m_parseCache\u001b[0;34m(self, instring, loc, doActions, callPreParse)\u001b[0m\n",
      "\u001b[0;32m/anaconda3/envs/Raman/lib/python3.7/site-packages/pyparsing.py\u001b[0m in \u001b[0;36m_parseNoCache\u001b[0;34m(self, instring, loc, doActions, callPreParse)\u001b[0m\n",
      "\u001b[0;32m/anaconda3/envs/Raman/lib/python3.7/site-packages/pyparsing.py\u001b[0m in \u001b[0;36mparseImpl\u001b[0;34m(self, instring, loc, doActions)\u001b[0m\n",
      "\u001b[0;32m/anaconda3/envs/Raman/lib/python3.7/site-packages/pyparsing.py\u001b[0m in \u001b[0;36m_parseCache\u001b[0;34m(self, instring, loc, doActions, callPreParse)\u001b[0m\n",
      "\u001b[0;32m/anaconda3/envs/Raman/lib/python3.7/site-packages/pyparsing.py\u001b[0m in \u001b[0;36m_parseNoCache\u001b[0;34m(self, instring, loc, doActions, callPreParse)\u001b[0m\n",
      "\u001b[0;32m/anaconda3/envs/Raman/lib/python3.7/site-packages/pyparsing.py\u001b[0m in \u001b[0;36mparseImpl\u001b[0;34m(self, instring, loc, doActions)\u001b[0m\n",
      "\u001b[0;32m/anaconda3/envs/Raman/lib/python3.7/site-packages/pyparsing.py\u001b[0m in \u001b[0;36mparseImpl\u001b[0;34m(self, instring, loc, doActions)\u001b[0m\n",
      "\u001b[0;32m/anaconda3/envs/Raman/lib/python3.7/site-packages/pyparsing.py\u001b[0m in \u001b[0;36m_parseCache\u001b[0;34m(self, instring, loc, doActions, callPreParse)\u001b[0m\n",
      "\u001b[0;32m/anaconda3/envs/Raman/lib/python3.7/site-packages/pyparsing.py\u001b[0m in \u001b[0;36m_parseNoCache\u001b[0;34m(self, instring, loc, doActions, callPreParse)\u001b[0m\n",
      "\u001b[0;32m/anaconda3/envs/Raman/lib/python3.7/site-packages/pyparsing.py\u001b[0m in \u001b[0;36mparseImpl\u001b[0;34m(self, instring, loc, doActions)\u001b[0m\n",
      "\u001b[0;32m/anaconda3/envs/Raman/lib/python3.7/site-packages/pyparsing.py\u001b[0m in \u001b[0;36m_parseCache\u001b[0;34m(self, instring, loc, doActions, callPreParse)\u001b[0m\n",
      "\u001b[0;32m/anaconda3/envs/Raman/lib/python3.7/site-packages/pyparsing.py\u001b[0m in \u001b[0;36m_parseNoCache\u001b[0;34m(self, instring, loc, doActions, callPreParse)\u001b[0m\n",
      "\u001b[0;32m/anaconda3/envs/Raman/lib/python3.7/site-packages/pyparsing.py\u001b[0m in \u001b[0;36mwrapper\u001b[0;34m(*args)\u001b[0m\n",
      "\u001b[0;32m/anaconda3/envs/Raman/lib/python3.7/site-packages/matplotlib/mathtext.py\u001b[0m in \u001b[0;36mmath_string\u001b[0;34m(self, s, loc, toks)\u001b[0m\n",
      "\u001b[0;32m/anaconda3/envs/Raman/lib/python3.7/site-packages/pyparsing.py\u001b[0m in \u001b[0;36mparseString\u001b[0;34m(self, instring, parseAll)\u001b[0m\n",
      "\u001b[0;32m/anaconda3/envs/Raman/lib/python3.7/site-packages/pyparsing.py\u001b[0m in \u001b[0;36m_parseCache\u001b[0;34m(self, instring, loc, doActions, callPreParse)\u001b[0m\n",
      "\u001b[0;32m/anaconda3/envs/Raman/lib/python3.7/site-packages/pyparsing.py\u001b[0m in \u001b[0;36m_parseNoCache\u001b[0;34m(self, instring, loc, doActions, callPreParse)\u001b[0m\n",
      "\u001b[0;32m/anaconda3/envs/Raman/lib/python3.7/site-packages/pyparsing.py\u001b[0m in \u001b[0;36mparseImpl\u001b[0;34m(self, instring, loc, doActions)\u001b[0m\n",
      "\u001b[0;32m/anaconda3/envs/Raman/lib/python3.7/site-packages/pyparsing.py\u001b[0m in \u001b[0;36m_parseCache\u001b[0;34m(self, instring, loc, doActions, callPreParse)\u001b[0m\n",
      "\u001b[0;32m/anaconda3/envs/Raman/lib/python3.7/site-packages/pyparsing.py\u001b[0m in \u001b[0;36m_parseNoCache\u001b[0;34m(self, instring, loc, doActions, callPreParse)\u001b[0m\n",
      "\u001b[0;32m/anaconda3/envs/Raman/lib/python3.7/site-packages/pyparsing.py\u001b[0m in \u001b[0;36mparseImpl\u001b[0;34m(self, instring, loc, doActions)\u001b[0m\n",
      "\u001b[0;32m/anaconda3/envs/Raman/lib/python3.7/site-packages/pyparsing.py\u001b[0m in \u001b[0;36m_parseCache\u001b[0;34m(self, instring, loc, doActions, callPreParse)\u001b[0m\n",
      "\u001b[0;32m/anaconda3/envs/Raman/lib/python3.7/site-packages/pyparsing.py\u001b[0m in \u001b[0;36m_parseNoCache\u001b[0;34m(self, instring, loc, doActions, callPreParse)\u001b[0m\n",
      "\u001b[0;32m/anaconda3/envs/Raman/lib/python3.7/site-packages/pyparsing.py\u001b[0m in \u001b[0;36mparseImpl\u001b[0;34m(self, instring, loc, doActions)\u001b[0m\n",
      "\u001b[0;32m/anaconda3/envs/Raman/lib/python3.7/site-packages/pyparsing.py\u001b[0m in \u001b[0;36m_parseCache\u001b[0;34m(self, instring, loc, doActions, callPreParse)\u001b[0m\n",
      "\u001b[0;32m/anaconda3/envs/Raman/lib/python3.7/site-packages/pyparsing.py\u001b[0m in \u001b[0;36m_parseNoCache\u001b[0;34m(self, instring, loc, doActions, callPreParse)\u001b[0m\n",
      "\u001b[0;32m/anaconda3/envs/Raman/lib/python3.7/site-packages/pyparsing.py\u001b[0m in \u001b[0;36mparseImpl\u001b[0;34m(self, instring, loc, doActions)\u001b[0m\n",
      "\u001b[0;32m/anaconda3/envs/Raman/lib/python3.7/site-packages/pyparsing.py\u001b[0m in \u001b[0;36m_parseCache\u001b[0;34m(self, instring, loc, doActions, callPreParse)\u001b[0m\n",
      "\u001b[0;32m/anaconda3/envs/Raman/lib/python3.7/site-packages/pyparsing.py\u001b[0m in \u001b[0;36m_parseNoCache\u001b[0;34m(self, instring, loc, doActions, callPreParse)\u001b[0m\n",
      "\u001b[0;32m/anaconda3/envs/Raman/lib/python3.7/site-packages/pyparsing.py\u001b[0m in \u001b[0;36mparseImpl\u001b[0;34m(self, instring, loc, doActions)\u001b[0m\n",
      "\u001b[0;32m/anaconda3/envs/Raman/lib/python3.7/site-packages/pyparsing.py\u001b[0m in \u001b[0;36m_parseCache\u001b[0;34m(self, instring, loc, doActions, callPreParse)\u001b[0m\n",
      "\u001b[0;32m/anaconda3/envs/Raman/lib/python3.7/site-packages/pyparsing.py\u001b[0m in \u001b[0;36m_parseNoCache\u001b[0;34m(self, instring, loc, doActions, callPreParse)\u001b[0m\n",
      "\u001b[0;32m/anaconda3/envs/Raman/lib/python3.7/site-packages/pyparsing.py\u001b[0m in \u001b[0;36mparseImpl\u001b[0;34m(self, instring, loc, doActions)\u001b[0m\n",
      "\u001b[0;32m/anaconda3/envs/Raman/lib/python3.7/site-packages/pyparsing.py\u001b[0m in \u001b[0;36m_parseCache\u001b[0;34m(self, instring, loc, doActions, callPreParse)\u001b[0m\n",
      "\u001b[0;32m/anaconda3/envs/Raman/lib/python3.7/site-packages/pyparsing.py\u001b[0m in \u001b[0;36m_parseNoCache\u001b[0;34m(self, instring, loc, doActions, callPreParse)\u001b[0m\n",
      "\u001b[0;32m/anaconda3/envs/Raman/lib/python3.7/site-packages/pyparsing.py\u001b[0m in \u001b[0;36mparseImpl\u001b[0;34m(self, instring, loc, doActions)\u001b[0m\n",
      "\u001b[0;32m/anaconda3/envs/Raman/lib/python3.7/site-packages/pyparsing.py\u001b[0m in \u001b[0;36m_parseCache\u001b[0;34m(self, instring, loc, doActions, callPreParse)\u001b[0m\n",
      "\u001b[0;32m/anaconda3/envs/Raman/lib/python3.7/site-packages/pyparsing.py\u001b[0m in \u001b[0;36m_parseNoCache\u001b[0;34m(self, instring, loc, doActions, callPreParse)\u001b[0m\n",
      "\u001b[0;32m/anaconda3/envs/Raman/lib/python3.7/site-packages/pyparsing.py\u001b[0m in \u001b[0;36mparseImpl\u001b[0;34m(self, instring, loc, doActions)\u001b[0m\n",
      "\u001b[0;32m/anaconda3/envs/Raman/lib/python3.7/site-packages/pyparsing.py\u001b[0m in \u001b[0;36m_parseCache\u001b[0;34m(self, instring, loc, doActions, callPreParse)\u001b[0m\n",
      "\u001b[0;32m/anaconda3/envs/Raman/lib/python3.7/site-packages/pyparsing.py\u001b[0m in \u001b[0;36m_parseNoCache\u001b[0;34m(self, instring, loc, doActions, callPreParse)\u001b[0m\n",
      "\u001b[0;32m/anaconda3/envs/Raman/lib/python3.7/site-packages/pyparsing.py\u001b[0m in \u001b[0;36mparseImpl\u001b[0;34m(self, instring, loc, doActions)\u001b[0m\n",
      "\u001b[0;32m/anaconda3/envs/Raman/lib/python3.7/site-packages/pyparsing.py\u001b[0m in \u001b[0;36m_parseCache\u001b[0;34m(self, instring, loc, doActions, callPreParse)\u001b[0m\n",
      "\u001b[0;32m/anaconda3/envs/Raman/lib/python3.7/site-packages/pyparsing.py\u001b[0m in \u001b[0;36m_parseNoCache\u001b[0;34m(self, instring, loc, doActions, callPreParse)\u001b[0m\n",
      "\u001b[0;32m/anaconda3/envs/Raman/lib/python3.7/site-packages/pyparsing.py\u001b[0m in \u001b[0;36mparseImpl\u001b[0;34m(self, instring, loc, doActions)\u001b[0m\n",
      "\u001b[0;32m/anaconda3/envs/Raman/lib/python3.7/site-packages/pyparsing.py\u001b[0m in \u001b[0;36m_parseCache\u001b[0;34m(self, instring, loc, doActions, callPreParse)\u001b[0m\n",
      "\u001b[0;32m/anaconda3/envs/Raman/lib/python3.7/site-packages/pyparsing.py\u001b[0m in \u001b[0;36m_parseNoCache\u001b[0;34m(self, instring, loc, doActions, callPreParse)\u001b[0m\n",
      "\u001b[0;32m/anaconda3/envs/Raman/lib/python3.7/site-packages/pyparsing.py\u001b[0m in \u001b[0;36mparseImpl\u001b[0;34m(self, instring, loc, doActions)\u001b[0m\n",
      "\u001b[0;32m/anaconda3/envs/Raman/lib/python3.7/site-packages/pyparsing.py\u001b[0m in \u001b[0;36m_parseCache\u001b[0;34m(self, instring, loc, doActions, callPreParse)\u001b[0m\n",
      "\u001b[0;32m/anaconda3/envs/Raman/lib/python3.7/site-packages/pyparsing.py\u001b[0m in \u001b[0;36m_parseNoCache\u001b[0;34m(self, instring, loc, doActions, callPreParse)\u001b[0m\n",
      "\u001b[0;32m/anaconda3/envs/Raman/lib/python3.7/site-packages/pyparsing.py\u001b[0m in \u001b[0;36mparseImpl\u001b[0;34m(self, instring, loc, doActions)\u001b[0m\n",
      "\u001b[0;32m/anaconda3/envs/Raman/lib/python3.7/site-packages/pyparsing.py\u001b[0m in \u001b[0;36m_parseCache\u001b[0;34m(self, instring, loc, doActions, callPreParse)\u001b[0m\n",
      "\u001b[0;32m/anaconda3/envs/Raman/lib/python3.7/site-packages/pyparsing.py\u001b[0m in \u001b[0;36m_parseNoCache\u001b[0;34m(self, instring, loc, doActions, callPreParse)\u001b[0m\n",
      "\u001b[0;32m/anaconda3/envs/Raman/lib/python3.7/site-packages/pyparsing.py\u001b[0m in \u001b[0;36mparseImpl\u001b[0;34m(self, instring, loc, doActions)\u001b[0m\n",
      "\u001b[0;32m/anaconda3/envs/Raman/lib/python3.7/site-packages/pyparsing.py\u001b[0m in \u001b[0;36m_parseCache\u001b[0;34m(self, instring, loc, doActions, callPreParse)\u001b[0m\n",
      "\u001b[0;32m/anaconda3/envs/Raman/lib/python3.7/site-packages/pyparsing.py\u001b[0m in \u001b[0;36m_parseNoCache\u001b[0;34m(self, instring, loc, doActions, callPreParse)\u001b[0m\n",
      "\u001b[0;32m/anaconda3/envs/Raman/lib/python3.7/site-packages/pyparsing.py\u001b[0m in \u001b[0;36mparseImpl\u001b[0;34m(self, instring, loc, doActions)\u001b[0m\n",
      "\u001b[0;32m/anaconda3/envs/Raman/lib/python3.7/site-packages/pyparsing.py\u001b[0m in \u001b[0;36m_parseCache\u001b[0;34m(self, instring, loc, doActions, callPreParse)\u001b[0m\n",
      "\u001b[0;32m/anaconda3/envs/Raman/lib/python3.7/site-packages/pyparsing.py\u001b[0m in \u001b[0;36m_parseNoCache\u001b[0;34m(self, instring, loc, doActions, callPreParse)\u001b[0m\n",
      "\u001b[0;32m/anaconda3/envs/Raman/lib/python3.7/site-packages/pyparsing.py\u001b[0m in \u001b[0;36mparseImpl\u001b[0;34m(self, instring, loc, doActions)\u001b[0m\n",
      "\u001b[0;32m/anaconda3/envs/Raman/lib/python3.7/site-packages/pyparsing.py\u001b[0m in \u001b[0;36m_parseCache\u001b[0;34m(self, instring, loc, doActions, callPreParse)\u001b[0m\n",
      "\u001b[0;32m/anaconda3/envs/Raman/lib/python3.7/site-packages/pyparsing.py\u001b[0m in \u001b[0;36m_parseNoCache\u001b[0;34m(self, instring, loc, doActions, callPreParse)\u001b[0m\n",
      "\u001b[0;32m/anaconda3/envs/Raman/lib/python3.7/site-packages/pyparsing.py\u001b[0m in \u001b[0;36mparseImpl\u001b[0;34m(self, instring, loc, doActions)\u001b[0m\n",
      "\u001b[0;32m/anaconda3/envs/Raman/lib/python3.7/site-packages/pyparsing.py\u001b[0m in \u001b[0;36m_parseCache\u001b[0;34m(self, instring, loc, doActions, callPreParse)\u001b[0m\n",
      "\u001b[0;32m/anaconda3/envs/Raman/lib/python3.7/site-packages/pyparsing.py\u001b[0m in \u001b[0;36m_parseNoCache\u001b[0;34m(self, instring, loc, doActions, callPreParse)\u001b[0m\n",
      "\u001b[0;32m/anaconda3/envs/Raman/lib/python3.7/site-packages/pyparsing.py\u001b[0m in \u001b[0;36mparseImpl\u001b[0;34m(self, instring, loc, doActions)\u001b[0m\n",
      "\u001b[0;32m/anaconda3/envs/Raman/lib/python3.7/site-packages/pyparsing.py\u001b[0m in \u001b[0;36m_parseCache\u001b[0;34m(self, instring, loc, doActions, callPreParse)\u001b[0m\n",
      "\u001b[0;32m/anaconda3/envs/Raman/lib/python3.7/site-packages/pyparsing.py\u001b[0m in \u001b[0;36m_parseNoCache\u001b[0;34m(self, instring, loc, doActions, callPreParse)\u001b[0m\n",
      "\u001b[0;32m/anaconda3/envs/Raman/lib/python3.7/site-packages/pyparsing.py\u001b[0m in \u001b[0;36mparseImpl\u001b[0;34m(self, instring, loc, doActions)\u001b[0m\n",
      "\u001b[0;32m/anaconda3/envs/Raman/lib/python3.7/site-packages/pyparsing.py\u001b[0m in \u001b[0;36mparseImpl\u001b[0;34m(self, instring, loc, doActions)\u001b[0m\n",
      "\u001b[0;32m/anaconda3/envs/Raman/lib/python3.7/site-packages/pyparsing.py\u001b[0m in \u001b[0;36m_parseCache\u001b[0;34m(self, instring, loc, doActions, callPreParse)\u001b[0m\n",
      "\u001b[0;32m/anaconda3/envs/Raman/lib/python3.7/site-packages/pyparsing.py\u001b[0m in \u001b[0;36m_parseNoCache\u001b[0;34m(self, instring, loc, doActions, callPreParse)\u001b[0m\n",
      "\u001b[0;32m/anaconda3/envs/Raman/lib/python3.7/site-packages/pyparsing.py\u001b[0m in \u001b[0;36mparseImpl\u001b[0;34m(self, instring, loc, doActions)\u001b[0m\n",
      "\u001b[0;32m/anaconda3/envs/Raman/lib/python3.7/site-packages/pyparsing.py\u001b[0m in \u001b[0;36m_parseCache\u001b[0;34m(self, instring, loc, doActions, callPreParse)\u001b[0m\n",
      "\u001b[0;32m/anaconda3/envs/Raman/lib/python3.7/site-packages/pyparsing.py\u001b[0m in \u001b[0;36m_parseNoCache\u001b[0;34m(self, instring, loc, doActions, callPreParse)\u001b[0m\n",
      "\u001b[0;32m/anaconda3/envs/Raman/lib/python3.7/site-packages/pyparsing.py\u001b[0m in \u001b[0;36mparseImpl\u001b[0;34m(self, instring, loc, doActions)\u001b[0m\n",
      "\u001b[0;32m/anaconda3/envs/Raman/lib/python3.7/site-packages/pyparsing.py\u001b[0m in \u001b[0;36m_parseCache\u001b[0;34m(self, instring, loc, doActions, callPreParse)\u001b[0m\n",
      "\u001b[0;32m/anaconda3/envs/Raman/lib/python3.7/site-packages/pyparsing.py\u001b[0m in \u001b[0;36m_parseNoCache\u001b[0;34m(self, instring, loc, doActions, callPreParse)\u001b[0m\n",
      "\u001b[0;32m/anaconda3/envs/Raman/lib/python3.7/site-packages/pyparsing.py\u001b[0m in \u001b[0;36mparseImpl\u001b[0;34m(self, instring, loc, doActions)\u001b[0m\n",
      "\u001b[0;32m/anaconda3/envs/Raman/lib/python3.7/site-packages/pyparsing.py\u001b[0m in \u001b[0;36m_parseCache\u001b[0;34m(self, instring, loc, doActions, callPreParse)\u001b[0m\n",
      "\u001b[0;32m/anaconda3/envs/Raman/lib/python3.7/site-packages/pyparsing.py\u001b[0m in \u001b[0;36m_parseNoCache\u001b[0;34m(self, instring, loc, doActions, callPreParse)\u001b[0m\n",
      "\u001b[0;32m/anaconda3/envs/Raman/lib/python3.7/site-packages/pyparsing.py\u001b[0m in \u001b[0;36mparseImpl\u001b[0;34m(self, instring, loc, doActions)\u001b[0m\n",
      "\u001b[0;32m/anaconda3/envs/Raman/lib/python3.7/site-packages/pyparsing.py\u001b[0m in \u001b[0;36m_parseCache\u001b[0;34m(self, instring, loc, doActions, callPreParse)\u001b[0m\n",
      "\u001b[0;32m/anaconda3/envs/Raman/lib/python3.7/site-packages/pyparsing.py\u001b[0m in \u001b[0;36m_parseNoCache\u001b[0;34m(self, instring, loc, doActions, callPreParse)\u001b[0m\n",
      "\u001b[0;32m/anaconda3/envs/Raman/lib/python3.7/site-packages/pyparsing.py\u001b[0m in \u001b[0;36mparseImpl\u001b[0;34m(self, instring, loc, doActions)\u001b[0m\n",
      "\u001b[0;32m/anaconda3/envs/Raman/lib/python3.7/site-packages/pyparsing.py\u001b[0m in \u001b[0;36m_parseCache\u001b[0;34m(self, instring, loc, doActions, callPreParse)\u001b[0m\n",
      "\u001b[0;32m/anaconda3/envs/Raman/lib/python3.7/site-packages/pyparsing.py\u001b[0m in \u001b[0;36m_parseNoCache\u001b[0;34m(self, instring, loc, doActions, callPreParse)\u001b[0m\n",
      "\u001b[0;32m/anaconda3/envs/Raman/lib/python3.7/site-packages/pyparsing.py\u001b[0m in \u001b[0;36mparseImpl\u001b[0;34m(self, instring, loc, doActions)\u001b[0m\n",
      "\u001b[0;32m/anaconda3/envs/Raman/lib/python3.7/site-packages/pyparsing.py\u001b[0m in \u001b[0;36m_parseCache\u001b[0;34m(self, instring, loc, doActions, callPreParse)\u001b[0m\n",
      "\u001b[0;32m/anaconda3/envs/Raman/lib/python3.7/site-packages/pyparsing.py\u001b[0m in \u001b[0;36m_parseNoCache\u001b[0;34m(self, instring, loc, doActions, callPreParse)\u001b[0m\n",
      "\u001b[0;32m/anaconda3/envs/Raman/lib/python3.7/site-packages/pyparsing.py\u001b[0m in \u001b[0;36mparseImpl\u001b[0;34m(self, instring, loc, doActions)\u001b[0m\n",
      "\u001b[0;32m/anaconda3/envs/Raman/lib/python3.7/site-packages/pyparsing.py\u001b[0m in \u001b[0;36m_parseCache\u001b[0;34m(self, instring, loc, doActions, callPreParse)\u001b[0m\n",
      "\u001b[0;32m/anaconda3/envs/Raman/lib/python3.7/site-packages/pyparsing.py\u001b[0m in \u001b[0;36m_parseNoCache\u001b[0;34m(self, instring, loc, doActions, callPreParse)\u001b[0m\n",
      "\u001b[0;32m/anaconda3/envs/Raman/lib/python3.7/site-packages/pyparsing.py\u001b[0m in \u001b[0;36mparseImpl\u001b[0;34m(self, instring, loc, doActions)\u001b[0m\n",
      "\u001b[0;32m/anaconda3/envs/Raman/lib/python3.7/site-packages/pyparsing.py\u001b[0m in \u001b[0;36m_parseCache\u001b[0;34m(self, instring, loc, doActions, callPreParse)\u001b[0m\n",
      "\u001b[0;32m/anaconda3/envs/Raman/lib/python3.7/site-packages/pyparsing.py\u001b[0m in \u001b[0;36m_parseNoCache\u001b[0;34m(self, instring, loc, doActions, callPreParse)\u001b[0m\n",
      "\u001b[0;32m/anaconda3/envs/Raman/lib/python3.7/site-packages/pyparsing.py\u001b[0m in \u001b[0;36mparseImpl\u001b[0;34m(self, instring, loc, doActions)\u001b[0m\n",
      "\u001b[0;32m/anaconda3/envs/Raman/lib/python3.7/site-packages/pyparsing.py\u001b[0m in \u001b[0;36m_parseCache\u001b[0;34m(self, instring, loc, doActions, callPreParse)\u001b[0m\n",
      "\u001b[0;32m/anaconda3/envs/Raman/lib/python3.7/site-packages/pyparsing.py\u001b[0m in \u001b[0;36m_parseNoCache\u001b[0;34m(self, instring, loc, doActions, callPreParse)\u001b[0m\n",
      "\u001b[0;32m/anaconda3/envs/Raman/lib/python3.7/site-packages/pyparsing.py\u001b[0m in \u001b[0;36mparseImpl\u001b[0;34m(self, instring, loc, doActions)\u001b[0m\n",
      "\u001b[0;32m/anaconda3/envs/Raman/lib/python3.7/site-packages/pyparsing.py\u001b[0m in \u001b[0;36m_parseCache\u001b[0;34m(self, instring, loc, doActions, callPreParse)\u001b[0m\n",
      "\u001b[0;32m/anaconda3/envs/Raman/lib/python3.7/site-packages/pyparsing.py\u001b[0m in \u001b[0;36m_parseNoCache\u001b[0;34m(self, instring, loc, doActions, callPreParse)\u001b[0m\n",
      "\u001b[0;32m/anaconda3/envs/Raman/lib/python3.7/site-packages/pyparsing.py\u001b[0m in \u001b[0;36mparseImpl\u001b[0;34m(self, instring, loc, doActions)\u001b[0m\n",
      "\u001b[0;32m/anaconda3/envs/Raman/lib/python3.7/site-packages/pyparsing.py\u001b[0m in \u001b[0;36m_parseCache\u001b[0;34m(self, instring, loc, doActions, callPreParse)\u001b[0m\n",
      "\u001b[0;32m/anaconda3/envs/Raman/lib/python3.7/site-packages/pyparsing.py\u001b[0m in \u001b[0;36m_parseNoCache\u001b[0;34m(self, instring, loc, doActions, callPreParse)\u001b[0m\n",
      "\u001b[0;32m/anaconda3/envs/Raman/lib/python3.7/site-packages/pyparsing.py\u001b[0m in \u001b[0;36mwrapper\u001b[0;34m(*args)\u001b[0m\n",
      "\u001b[0;32m/anaconda3/envs/Raman/lib/python3.7/site-packages/matplotlib/mathtext.py\u001b[0m in \u001b[0;36msymbol\u001b[0;34m(self, s, loc, toks)\u001b[0m\n",
      "\u001b[0;32m/anaconda3/envs/Raman/lib/python3.7/site-packages/matplotlib/mathtext.py\u001b[0m in \u001b[0;36m__init__\u001b[0;34m(self, c, state, math)\u001b[0m\n",
      "\u001b[0;32m/anaconda3/envs/Raman/lib/python3.7/site-packages/matplotlib/mathtext.py\u001b[0m in \u001b[0;36m_update_metrics\u001b[0;34m(self)\u001b[0m\n",
      "\u001b[0;32m/anaconda3/envs/Raman/lib/python3.7/site-packages/matplotlib/mathtext.py\u001b[0m in \u001b[0;36mget_metrics\u001b[0;34m(self, font, font_class, sym, fontsize, dpi, math)\u001b[0m\n",
      "\u001b[0;32m/anaconda3/envs/Raman/lib/python3.7/site-packages/matplotlib/mathtext.py\u001b[0m in \u001b[0;36m_get_info\u001b[0;34m(self, fontname, font_class, sym, fontsize, dpi, math)\u001b[0m\n",
      "\u001b[0;32m/anaconda3/envs/Raman/lib/python3.7/site-packages/matplotlib/mathtext.py\u001b[0m in \u001b[0;36m_get_glyph\u001b[0;34m(self, fontname, font_class, sym, fontsize, math)\u001b[0m\n",
      "\u001b[0;32m/anaconda3/envs/Raman/lib/python3.7/site-packages/matplotlib/mathtext.py\u001b[0m in \u001b[0;36m_get_glyph\u001b[0;34m(self, fontname, font_class, sym, fontsize, math)\u001b[0m\n",
      "\u001b[0;32m/anaconda3/envs/Raman/lib/python3.7/site-packages/matplotlib/mathtext.py\u001b[0m in \u001b[0;36m_get_glyph\u001b[0;34m(self, fontname, font_class, sym, fontsize, math)\u001b[0m\n",
      "\u001b[0;31mAttributeError\u001b[0m: 'NoneType' object has no attribute 'get_char_index'"
     ]
    },
    {
     "data": {
      "text/plain": [
       "<Figure size 360x360 with 1 Axes>"
      ]
     },
     "metadata": {
      "needs_background": "light"
     },
     "output_type": "display_data"
    }
   ],
   "source": [
    "fig, ax = plt.subplots(1, figsize=(5, 5))\n",
    "ax.xaxis.set_major_locator(plt.MaxNLocator(5))\n",
    "plt.plot(x,y_mm+1,'k.',label='LRG')\n",
    "plt.plot(x,df_proc+1,'r',label='fit')\n",
    "plt.plot(x,y0_mm,'b.',label='GO')\n",
    "# plt.plot(x,df_proc1,'r',label='fit')\n",
    "plt.legend()\n",
    "\n",
    "\n",
    "plt.xlabel(\"Raman shift, cm$^{-1}$\", fontsize = 16)\n",
    "plt.ylabel(\"Normalised intensity, a.u.\", fontsize = 16)\n",
    "plt.title(\"Fig. 3: normalised spectrum\",fontsize = 16,fontweight=\"bold\")\n",
    "# plt.savefig(path/'Fig3.png', format='png', dpi=300)"
   ]
  },
  {
   "cell_type": "markdown",
   "metadata": {},
   "source": [
    "Note that in the above function, I did not applied the square to (model - data). This is implicitely done by lmfit (see http://lmfit.github.io/lmfit-py/fitting.html#fit-func-label for further information on function writting).\n",
    "\n",
    "# Fitting\n",
    "\n",
    "Ok, we have our optimisation function. So we can go forward and fit the spectrum... \n",
    "\n",
    "We need five Guassians at 950, 1050, 1100, 1150 and 1200 cm$^{-1}$. We set their half-width at half-maximum at the same value."
   ]
  },
  {
   "cell_type": "code",
   "execution_count": null,
   "metadata": {},
   "outputs": [],
   "source": [
    "bre"
   ]
  },
  {
   "cell_type": "code",
   "execution_count": 267,
   "metadata": {},
   "outputs": [],
   "source": [
    "p = lmfit.Parameters()\n",
    "#         (Name,  Value,  Vary,   Min,  Max,  Expr)\n",
    "p.add_many(('a1',     50,   True,    0, None,  None),\n",
    "          ('f1',   1350,   True, 1340, 1360,  None),\n",
    "          ('l1',     50,   True,   45,   65,  None),\n",
    "          ('a3',   50,   True,  0,      None,  None),\n",
    "          ('f3',   1595,  True, 1580,   1600,  None),\n",
    "          ('l3',   35,   True,  25,   45,  None)) "
   ]
  },
  {
   "cell_type": "markdown",
   "metadata": {},
   "source": [
    "For further details on the Parameters() object, I invite you to look at this page: http://lmfit.github.io/lmfit-py/parameters.html . But from the above piece of code, you can already guess that you can make specific parameters that vary or not, you can fixe Min or Max values, and you can even put some contrains between parameters (e.g., \"l1 = l2') using the last \"Expr\" column.\n",
    "\n",
    "You can remark that we applied some boundaries for the peak positions, but also for peak widths. This is based on previous fits made for this kind of compositions. Typically, in such glass, peaks from Si-O stretch vibrations do not present half-width greater than 50 cm$^{-1}$ or smaller than 20 cm$^{-1}$. For instance, the 1080 cm$^{-1}$ peak typically present a half-width of ~ 30 cm$^{-1}$ ± 5 cm$^{-1}$ in silica-rich silicate glasses, such that we can apply a tighter constrain there. Following such ideas, I put bonds for the parameter values for the half-width of the peaks. This avoid fitting divergence. Furthermore, we know approximately the frequencies of the peaks, such that we can also apply bondaries for them. This will help the fitting, since in this problem, we have five peaks in a broad envelop that only present two significant features at ~950, ~1080 cm$^{-1}$ as well as two barely visible shoulders near 1050 and 1200 cm$^{-1}$. But this is a simple case. For some more complex (aluminosilicate) glasses, this 850-1300 cm$^{-1}$ frequency envelop is even less resolved, such that applying reasonable constrains become crucial for any quantitative Raman fitting.\n",
    "\n",
    "For starting the fit, as we suppose we have a not bad knowledge of peak frequencies (see the discussion right above), a good thing to do is to fix for the first fit the frequencies of the peaks:"
   ]
  },
  {
   "cell_type": "code",
   "execution_count": 268,
   "metadata": {},
   "outputs": [],
   "source": [
    "# we constrain the positions\n",
    "p['f1'].vary = False\n",
    "# params['f2'].vary = False\n",
    "p['f3'].vary = False\n",
    "# params['f4'].vary = False\n",
    "# params['f5'].vary = False"
   ]
  },
  {
   "cell_type": "markdown",
   "metadata": {},
   "source": [
    "This avoids any divergence of the fitting procedure regarding the hald-width, because with free frequencies and badly estimated half-width and intensities, the fitting procedure always tends to extremely broaden the peaks and put them at similar frequencies, with strong overlapping. Starting the fitting procedure by fixing the parameter we know the best, i.e. the frequencies, avoid such complications.\n",
    "\n",
    "Then, we need to use a large-scale algorithm quite robust for fitting. The levenberg-marquart algorithm fails on such fitting problem in my experience. Let's choose the Nelder and Mead algorithm for this example: (http://comjnl.oxfordjournals.org/content/7/4/308.short) :"
   ]
  },
  {
   "cell_type": "code",
   "execution_count": 269,
   "metadata": {},
   "outputs": [],
   "source": [
    "algo ='nelder'\n",
    "\n",
    "result = lmfit.minimize(residual, p, method = algo, args=(x_fit, y_pu_mm[:,0])) # fit data with  nelder model from scipy"
   ]
  },
  {
   "cell_type": "markdown",
   "metadata": {},
   "source": [
    "And now we release the frequencies:"
   ]
  },
  {
   "cell_type": "code",
   "execution_count": 270,
   "metadata": {},
   "outputs": [],
   "source": [
    "# we release the positions but contrain the FWMH and amplitude of all peaks \n",
    "p['f1'].vary = True\n",
    "# params['f2'].vary = True\n",
    "p['f3'].vary = True\n",
    "# params['f4'].vary = True\n",
    "# params['f5'].vary = True\n",
    "\n",
    "#we fit twice\n",
    "result2 = lmfit.minimize(residual, p,method = algo, args=(x_fit, y_pu_mm[:,0])) # fit data with leastsq model from scipy"
   ]
  },
  {
   "cell_type": "markdown",
   "metadata": {},
   "source": [
    "We can now extract the various things generated by lmfit as well as the peaks:"
   ]
  },
  {
   "cell_type": "code",
   "execution_count": 271,
   "metadata": {},
   "outputs": [],
   "source": [
    "# model = lmfit.fit_report(result2.params)\n",
    "yout, peak1,peak3 = residual(result2.params,x_fit) # the different peaks\n",
    "# rchi2 = (1/(float(len(y_pu_mm))-15-1))*np.sum((y_pu_mm - yout)**2/sigma**2) # calculation of the reduced chi-square "
   ]
  },
  {
   "cell_type": "markdown",
   "metadata": {},
   "source": [
    "And let's have a look at the fitted spectrum:"
   ]
  },
  {
   "cell_type": "code",
   "execution_count": 273,
   "metadata": {},
   "outputs": [
    {
     "name": "stdout",
     "output_type": "stream",
     "text": [
      "[[Fit Statistics]]\n",
      "    # fitting method   = Nelder-Mead\n",
      "    # function evals   = 2209\n",
      "    # data points      = 699\n",
      "    # variables        = 6\n",
      "    chi-square         = 2.66449506\n",
      "    reduced chi-square = 0.00384487\n",
      "    Akaike info crit   = -3881.17569\n",
      "    Bayesian info crit = -3853.87778\n",
      "[[Variables]]\n",
      "    a1:  209.296082 (init = 50)\n",
      "    f1:  1357.84781 (init = 1350)\n",
      "    l1:  65.0000000 (init = 50)\n",
      "    a3:  102.898595 (init = 50)\n",
      "    f3:  1582.90722 (init = 1595)\n",
      "    l3:  45.0000000 (init = 35)\n"
     ]
    }
   ],
   "source": [
    "print(fit_report(result2))"
   ]
  },
  {
   "cell_type": "code",
   "execution_count": 241,
   "metadata": {},
   "outputs": [
    {
     "name": "stdout",
     "output_type": "stream",
     "text": [
      "rchi-2 = \n",
      "124912.04539588845\n"
     ]
    },
    {
     "data": {
      "image/png": "[encoded data removed]",
      "text/plain": [
       "<Figure size 432x288 with 1 Axes>"
      ]
     },
     "metadata": {
      "needs_background": "light"
     },
     "output_type": "display_data"
    }
   ],
   "source": [
    "##### WE DO A NICE FIGURE THAT CAN BE IMPROVED FOR PUBLICATION\n",
    "plt.plot(x_fit,y_pu_mm,'k-')\n",
    "plt.plot(x_fit,yout,'r-')\n",
    "plt.plot(x_fit,peak1,'b-')\n",
    "# plt.plot(x_fit,peak2,'b-')\n",
    "plt.plot(x_fit,peak3,'b-')\n",
    "# plt.plot(x_fit,peak4,'b-')\n",
    "# plt.plot(x_fit,peak5,'b-')\n",
    "    \n",
    "plt.xlim(lb,hb)\n",
    "plt.ylim(-0.1,1.1)\n",
    "plt.xlabel(\"Raman shift, cm$^{-1}$\", fontsize = 14)\n",
    "plt.ylabel(\"Normalized intensity, a. u.\", fontsize = 14)\n",
    "plt.title(\"Fig. 3: Fit of the D- and G-bands\\n in GO Graphenea with \\nthe Nelder Mead algorithm \",fontsize = 14,fontweight = \"bold\")\n",
    "print(\"rchi-2 = \\n\"+str(rchi2))\n",
    "plt.subplots_adjust(top=0.78)\n"
   ]
  },
  {
   "cell_type": "markdown",
   "metadata": {},
   "source": [
    "Ok, we can test to change the algorithm and use the Levenberg-Marquart one which is well-used for simple problems by a lot of people. We will re-initialize the Params() object and run the entire code written above again."
   ]
  },
  {
   "cell_type": "code",
   "execution_count": 243,
   "metadata": {},
   "outputs": [
    {
     "data": {
      "image/png": "[encoded data removed]",
      "text/plain": [
       "<Figure size 432x288 with 1 Axes>"
      ]
     },
     "metadata": {
      "needs_background": "light"
     },
     "output_type": "display_data"
    }
   ],
   "source": [
    "algo = 'leastsq' # We will use the Levenberg-Marquart algorithm  \n",
    "#               (Name,  Value,  Vary,   Min,  Max,  Expr) Here I directly initialize with fixed frequencies\n",
    "\n",
    "params.add_many(('a1',     50,   True,    0, None,  None),\n",
    "                ('f1',   1350,   False, 1340, 1360,  None),\n",
    "                ('l1',     50,   True,   45,   65,  None),\n",
    "#                 ('a2',   0.5,   True,  0,      4,  None),\n",
    "#                 ('f2',   1450,  True, 1420,   1480,  None),\n",
    "#                 ('l2',   40,   True,  25,   50,  None),\n",
    "                ('a3',   50,   True,  0,      None,  None),\n",
    "                ('f3',   1595,  False, 1580,   1600,  None),\n",
    "                ('l3',   35,   True,  25,   45,  None)) \n",
    "#                 ('a2',   0.5,   True,  0,      None,  None),\n",
    "#                 ('f2',   1380,  True, 1350,   1410,  None),\n",
    "#                 ('l2',   39,   True,  20,   55,  None),  \n",
    "#                 ('a3',   8.5,    True,    0,      None,  None),\n",
    "#                 ('f3',   1590,  True, 1580,   1600,  None),\n",
    "#                 ('l3',   20,   True,  10,   30,  None),  \n",
    "#                 ('a4',   1.,   True,  0,      None,  None),\n",
    "#                 ('f4',   1620,  True, 1600,    1640,  None),\n",
    "#                 ('l4',   20,   True,  10,   30,  None)) \n",
    "#                 ('a5',   2.,   True,  0,      None,  None),\n",
    "#                 ('f5',   1211,  True, 1180,   1220,  None),\n",
    "#                 ('l5',   28,   True,  20,   45,  None))\n",
    "\n",
    "result = lmfit.minimize(residual, params, method = algo, args=(x_fit, y_pu_mm[:,0]))\n",
    "\n",
    "# we release the positions but contrain the FWMH and amplitude of all peaks \n",
    "params['f1'].vary = True\n",
    "# params['f2'].vary = True\n",
    "params['f3'].vary = True\n",
    "# params['f4'].vary = True\n",
    "# params['f5'].vary = True\n",
    "\n",
    "result2 = lmfit.minimize(residual, params,method = algo, args=(x_fit, y_pu_mm[:,0]))\n",
    "model = lmfit.fit_report(result2.params) # the report \n",
    "yout, peak1,peak3 = residual(result2.params,x_fit) # the different peaks\n",
    "# rchi2 = (1/(float(len(y_fit))-15-1))*np.sum((y_fit - yout)**2/sigma**2) # calculation of the reduced chi-square \n",
    "\n",
    "##### WE DO A NICE FIGURE THAT CAN BE IMPROVED FOR PUBLICATION\n",
    "plt.plot(x_fit,y_pu_mm,'k-')\n",
    "plt.plot(x_fit,yout,'r-')\n",
    "plt.plot(x_fit,peak1,'b-')\n",
    "# plt.plot(x_fit,peak2,'b-')\n",
    "plt.plot(x_fit,peak3,'b-')\n",
    "# plt.plot(x_fit,peak4,'b-')\n",
    "# plt.plot(x_fit,peak5,'b-')\n",
    "    \n",
    "plt.xlim(lb,hb)\n",
    "plt.ylim(-0.1,1.1)\n",
    "plt.xlabel(\"Raman shift, cm$^{-1}$\", fontsize = 14)\n",
    "plt.ylabel(\"Normalized intensity, a. u.\", fontsize = 14)\n",
    "plt.title(\"Fig. 4: Fit of the Si-O stretch vibrations\\n in LS4 with \\nthe Levenberg-Marquardt (LM) algorithm\",fontsize = 14,fontweight = \"bold\")\n",
    "# print(\"rchi-2 = \\n\"+str(rchi2))\n",
    "plt.savefig(path/'fig4.png', format='png', dpi=300)"
   ]
  },
  {
   "cell_type": "code",
   "execution_count": 244,
   "metadata": {},
   "outputs": [
    {
     "name": "stdout",
     "output_type": "stream",
     "text": [
      "[[Variables]]\n",
      "    a1:  209.296213 +/- 2.17629582 (1.04%) (init = 50)\n",
      "    f1:  1357.84787 +/- 0.56866279 (0.04%) (init = 1350)\n",
      "    l1:  64.9999997 +/- 1.11274257 (1.71%) (init = 50)\n",
      "    a3:  102.898224 +/- 1.81733520 (1.77%) (init = 50)\n",
      "    f3:  1582.90731 +/- 0.65773669 (0.04%) (init = 1595)\n",
      "    l3:  44.9998195 +/- 0.97446247 (2.17%) (init = 35)\n",
      "[[Correlations]] (unreported correlations are < 0.100)\n",
      "    C(a1, l1) = -0.786\n",
      "    C(a3, l3) =  0.778\n",
      "    C(a1, a3) = -0.550\n",
      "    C(l1, a3) =  0.460\n",
      "    C(a1, l3) = -0.433\n",
      "    C(l1, l3) =  0.330\n",
      "    C(f1, a3) = -0.237\n",
      "    C(f1, l3) = -0.195\n",
      "    C(a1, f3) =  0.179\n",
      "    C(l1, f3) = -0.151\n",
      "    C(a1, f1) =  0.137\n",
      "    C(f1, l1) = -0.113\n",
      "    C(a3, f3) = -0.110\n",
      "    C(f1, f3) =  0.103\n"
     ]
    }
   ],
   "source": [
    "print(model)"
   ]
  },
  {
   "cell_type": "markdown",
   "metadata": {},
   "source": [
    "The comparison of Fig. 3 and 4 shows small differences. In this case, and because we have a good error model, the LM algorithm converges toward results similar to those of the Nelder-Mead algorithm. You can try to run again the calculation with removing the \"sigma\" input in the \"minimize\" function used above. You will see that the results will diverge much more than in this case. \n",
    "\n",
    "A convenient thing about the LM algorithm is that it allows to estimate the errors on the fitting parameters. This is not possible with gradient-less algorithms such as the Nelder-Mear or the Powell algorithms. For the latters, I will give a piece of code at the end of this notebook that allows to estimate good errors on parameters through bootrapping. \n",
    "\n",
    "The downside of the LM algorithm is that, in my experience, it fails if the envelop of bands to fit is broader than the one used in this example, because it seachs at all costs to fit the spectrum as good as possible... This typically results in extrem broadening and overlapping of the peaks you try to fit.\n",
    "\n",
    "A way to resolve this issue if the use of the LM algorithm is really needed is to put tigther constrains on the peak half-widths.\n",
    "\n",
    "But another way is to use a more global algorithm less prone to diverge from the initial estimations. The Nelder-Mead, Powell (Powell, 1964, Computer Journal 7 (2): 155-62) or the COBYLA (see Powell, 2007 Cambridge University Technical Report DAMTP 2007) algorithms can give good results for complex problems. Also, the Conjugate Gradient algorithm may be suitable (Wright & Nocedal, “Numerical Optimization”, 1999, pp. 120-122). Let's try the latter for now:"
   ]
  },
  {
   "cell_type": "code",
   "execution_count": 372,
   "metadata": {},
   "outputs": [
    {
     "name": "stdout",
     "output_type": "stream",
     "text": [
      "rchi-2 = \n",
      "16892440.938808743\n"
     ]
    },
    {
     "data": {
      "image/png": "[encoded data removed]",
      "text/plain": [
       "<Figure size 432x288 with 1 Axes>"
      ]
     },
     "metadata": {
      "needs_background": "light"
     },
     "output_type": "display_data"
    }
   ],
   "source": [
    "algo = 'cg' # We will use the Conjugate Gradient algorithm  \n",
    "#               (Name,  Value,  Vary,   Min,  Max,  Expr) Here I directly initialize with fixed frequencies\n",
    "params.add_many(('a1',   5,   True,  0,      10,  None),\n",
    "                ('f1',   1355,   False, 1350,    1360,  None),\n",
    "                ('l1',   45,   True,  40,      60,  None),\n",
    "                ('a2',   0.5,   True,  0,      4,  None),\n",
    "                ('f2',   1450,  False, 1420,   1480,  None),\n",
    "                ('l2',   40,   True,  25,   50,  None),\n",
    "                ('a3',   5,   True,  0,      None,  None),\n",
    "                ('f3',   1590,  False, 1580,   1595,  None),\n",
    "                ('l3',   40,   True,  25,   50,  None)) \n",
    "#                 ('a2',   0.5,   True,  0,      None,  None),\n",
    "#                 ('f2',   1380,  True, 1350,   1410,  None),\n",
    "#                 ('l2',   39,   True,  20,   55,  None),  \n",
    "#                 ('a3',   8.5,    True,    0,      None,  None),\n",
    "#                 ('f3',   1590,  True, 1580,   1600,  None),\n",
    "#                 ('l3',   20,   True,  10,   30,  None),  \n",
    "#                 ('a4',   1.,   True,  0,      None,  None),\n",
    "#                 ('f4',   1620,  True, 1600,    1640,  None),\n",
    "#                 ('l4',   20,   True,  10,   30,  None))   \n",
    "#                 ('a5',   2.,   True,  0,      None,  None),\n",
    "#                 ('f5',   1211,  True, 1180,   1220,  None),\n",
    "#                 ('l5',   28,   True,  20,   45,  None))\n",
    "\n",
    "result = lmfit.minimize(residual, params, method = algo, args=(x_fit, y_fit[:,0]))\n",
    "# we release the positions but contrain the FWMH and amplitude of all peaks \n",
    "params['f1'].vary = True\n",
    "params['f2'].vary = True\n",
    "params['f3'].vary = True\n",
    "# params['f4'].vary = True\n",
    "# params['f5'].vary = True\n",
    "\n",
    "result2 = lmfit.minimize(residual, params,method = algo, args=(x_fit, y_fit[:,0]))\n",
    "model = lmfit.fit_report(result2.params) # the report \n",
    "yout, peak1,peak2,peak3 = residual(result2.params,x_fit) # the different peaks\n",
    "rchi2 = (1/(float(len(y_fit))-15-1))*np.sum((y_fit - yout)**2/sigma**2) # calculation of the reduced chi-square \n",
    "\n",
    "##### WE DO A NICE FIGURE THAT CAN BE IMPROVED FOR PUBLICATION\n",
    "plt.plot(x_fit,y_fit,'k-')\n",
    "plt.plot(x_fit,yout,'r-')\n",
    "plt.plot(x_fit,peak1,'b-')\n",
    "plt.plot(x_fit,peak2,'b-')\n",
    "plt.plot(x_fit,peak3,'b-')\n",
    "# plt.plot(x_fit,peak4,'b-')\n",
    "# plt.plot(x_fit,peak5,'b-')\n",
    "    \n",
    "plt.xlim(lb,hb)\n",
    "plt.ylim(-0.5,10.5)\n",
    "plt.xlabel(\"Raman shift, cm$^{-1}$\", fontsize = 14)\n",
    "plt.ylabel(\"Normalized intensity, a. u.\", fontsize = 14)\n",
    "plt.title(\"Fig. 5: Fit of the Si-O stretch vibrations\\n in LS4 with \\nthe Conjugate Gradient (CG) algorithm\",fontsize = 14,fontweight = \"bold\")\n",
    "print(\"rchi-2 = \\n\"+str(rchi2))\n",
    "plt.savefig(path/'fig5.png', format='png', dpi=300)"
   ]
  },
  {
   "cell_type": "code",
   "execution_count": 373,
   "metadata": {},
   "outputs": [
    {
     "name": "stdout",
     "output_type": "stream",
     "text": [
      "[[Variables]]\n",
      "    a1:  10.00000000 (init = 5)\n",
      "    f1:  1350.00000 (init = 1355)\n",
      "    l1:  60.0000000 (init = 45)\n",
      "    a2:  4.00000000 (init = 0.5)\n",
      "    f2:  1467.25225 (init = 1450)\n",
      "    l2:  50.0000000 (init = 40)\n",
      "    a3:  7.79042877 (init = 5)\n",
      "    f3:  1586.72196 (init = 1590)\n",
      "    l3:  49.0679238 (init = 40)\n"
     ]
    }
   ],
   "source": [
    "print(model)"
   ]
  },
  {
   "cell_type": "markdown",
   "metadata": {},
   "source": [
    "The CG algorithm returns a result close to the Nelder-Mead and the LM algorithms. A bad thing about the CG algorithm is that it is extremely slow in the Scipy implementation... It is (nearly) acceptable for one fit, but for bootstrapping 100 spectra, it is not a good option at all.\n",
    "\n",
    "As a last one, we can see what the results look like with the Powell algorithm:"
   ]
  },
  {
   "cell_type": "code",
   "execution_count": 374,
   "metadata": {},
   "outputs": [
    {
     "name": "stdout",
     "output_type": "stream",
     "text": [
      "rchi-2 = \n",
      "16892458.731023267\n"
     ]
    },
    {
     "data": {
      "image/png": "[encoded data removed]",
      "text/plain": [
       "<Figure size 432x288 with 1 Axes>"
      ]
     },
     "metadata": {
      "needs_background": "light"
     },
     "output_type": "display_data"
    }
   ],
   "source": [
    "algo = 'powell' # We will use the Powell algorithm  \n",
    "#               (Name,  Value,  Vary,   Min,  Max,  Expr) Here I directly initialize with fixed frequencies\n",
    "params.add_many(('a1',   5,   True,  0,      10,  None),\n",
    "                ('f1',   1355,   False, 1350,    1360,  None),\n",
    "                ('l1',   45,   True,  40,      60,  None),\n",
    "                ('a2',   0.5,   True,  0,      4,  None),\n",
    "                ('f2',   1450,  False, 1420,   1480,  None),\n",
    "                ('l2',   40,   True,  25,   50,  None),\n",
    "                ('a3',   5,   True,  0,      None,  None),\n",
    "                ('f3',   1590,  False, 1580,   1595,  None),\n",
    "                ('l3',   40,   True,  25,   50,  None)) \n",
    "#                 ('a2',   0.5,   True,  0,      None,  None),\n",
    "#                 ('f2',   1380,  True, 1350,   1410,  None),\n",
    "#                 ('l2',   39,   True,  20,   55,  None),  \n",
    "#                 ('a3',   8.5,    True,    0,      None,  None),\n",
    "#                 ('f3',   1590,  True, 1580,   1600,  None),\n",
    "#                 ('l3',   20,   True,  10,   30,  None),  \n",
    "#                 ('a4',   1.,   True,  0,      None,  None),\n",
    "#                 ('f4',   1620,  True, 1600,    1640,  None),\n",
    "#                 ('l4',   20,   True,  10,   30,  None))  \n",
    "#                 ('a5',   2.,   True,  0,      None,  None),\n",
    "#                 ('f5',   1211,  True, 1180,   1220,  None),\n",
    "#                 ('l5',   28,   True,  20,   45,  None))\n",
    "\n",
    "result = lmfit.minimize(residual, params, method = algo, args=(x_fit, y_fit[:,0]))\n",
    "# we release the positions but contrain the FWMH and amplitude of all peaks \n",
    "params['f1'].vary = True\n",
    "params['f2'].vary = True\n",
    "params['f3'].vary = True\n",
    "# params['f4'].vary = True\n",
    "# params['f5'].vary = True\n",
    "\n",
    "result2 = lmfit.minimize(residual, params,method = algo, args=(x_fit, y_fit[:,0]))\n",
    "model = lmfit.fit_report(result2.params) # the report \n",
    "yout, peak1,peak2,peak3 = residual(result2.params,x_fit) # the different peaks\n",
    "rchi2 = (1/(float(len(y_fit))-15-1))*np.sum((y_fit - yout)**2/sigma**2) # calculation of the reduced chi-square \n",
    "\n",
    "##### WE DO A NICE FIGURE THAT CAN BE IMPROVED FOR PUBLICATION\n",
    "plt.plot(x_fit,y_fit,'k-')\n",
    "plt.plot(x_fit,yout,'r-')\n",
    "plt.plot(x_fit,peak1,'b-')\n",
    "plt.plot(x_fit,peak2,'b-')\n",
    "plt.plot(x_fit,peak3,'b-')\n",
    "# plt.plot(x_fit,peak4,'b-')\n",
    "# plt.plot(x_fit,peak5,'b-')\n",
    "    \n",
    "plt.xlim(lb,hb)\n",
    "plt.ylim(-0.5,10.5)\n",
    "plt.xlabel(\"Raman shift, cm$^{-1}$\", fontsize = 14)\n",
    "plt.ylabel(\"Normalized intensity, a. u.\", fontsize = 14)\n",
    "plt.title(\"Fig. 6: Fit of the Si-O stretch vibrations\\n in LS4 with \\nthe Powell algorithm\",fontsize = 14,fontweight = \"bold\")\n",
    "print(\"rchi-2 = \\n\"+str(rchi2))\n",
    "plt.savefig(path/'fig6.png', format='png', dpi=300)"
   ]
  },
  {
   "cell_type": "code",
   "execution_count": 375,
   "metadata": {},
   "outputs": [
    {
     "name": "stdout",
     "output_type": "stream",
     "text": [
      "[[Variables]]\n",
      "    a1:  10.0000000 (init = 5)\n",
      "    f1:  1350.00000 (init = 1355)\n",
      "    l1:  60.0000000 (init = 45)\n",
      "    a2:  4.00000000 (init = 0.5)\n",
      "    f2:  1467.24548 (init = 1450)\n",
      "    l2:  50.0000000 (init = 40)\n",
      "    a3:  7.79081266 (init = 5)\n",
      "    f3:  1586.72045 (init = 1590)\n",
      "    l3:  49.0663815 (init = 40)\n"
     ]
    }
   ],
   "source": [
    "print(model)"
   ]
  },
  {
   "cell_type": "markdown",
   "metadata": {},
   "source": [
    "You see in Fig. 6 that the results are, again, close to those of the other algorithms, at the exception of the two last peaks. The intensity and the frequency of the peak near 1200 cm$^{-1}$ is higher in this fit than in the others.\n",
    "\n",
    "So one important thing that has to be remembered is that, with the same parameter inputs, you will obtain different results with using different fitting algorithms. The above results are close because the fitting example is quite simple. Actually, all the results given above seem reasonable. The experience with other spectra from other silicate and aluminosilicate glasses is that the Nelder-Mead and Powell algorithms will provide the most robust ways to fit the spectra."
   ]
  },
  {
   "cell_type": "code",
   "execution_count": 306,
   "metadata": {},
   "outputs": [],
   "source": [
    "def show_plots(images, cols = 1, titles = None):\n",
    "    \"\"\"Display a list of images in a single figure with matplotlib.\n",
    "    \n",
    "    Parameters\n",
    "    ---------\n",
    "    images: List of np.arrays compatible with plt.imshow.\n",
    "    \n",
    "    cols (Default = 1): Number of columns in figure (number of rows is \n",
    "                        set to np.ceil(n_images/float(cols))).\n",
    "    \n",
    "    titles: List of titles corresponding to each image. Must have\n",
    "            the same length as titles.\n",
    "    \"\"\"\n",
    "    assert((titles is None)or (len(images) == len(titles)))\n",
    "    n_images = len(images)\n",
    "    if titles is None: titles = ['Image (%d)' % i for i in range(1,n_images + 1)]\n",
    "    fig = plt.figure()\n",
    "    for n, (image, title) in enumerate(zip(images, titles)):\n",
    "        a = fig.add_subplot(cols, np.ceil(n_images/float(cols)), n + 1)\n",
    "        if image.ndim == 2:\n",
    "            plt.gray()\n",
    "        plt.imshow(image)\n",
    "        a.set_title(title)\n",
    "    fig.set_size_inches(np.array(fig.get_size_inches()) * n_images)\n",
    "    plt.show()\n",
    "\n",
    "params.add_many(('a1',   5,   True,  0,      10,  None),\n",
    "                ('f1',   1355,   True, 1350,    1360,  None),\n",
    "                ('l1',   45,   True,  40,      60,  None),\n",
    "                ('a2',   0.5,   True,  0,      4,  None),\n",
    "                ('f2',   1450,  True, 1420,   1480,  None),\n",
    "                ('l2',   40,   True,  25,   50,  None),\n",
    "                ('a3',   5,   True,  0,      None,  None),\n",
    "                ('f3',   1590,  True, 1580,   1595,  None),\n",
    "                ('l3',   40,   True,  25,   50,  None))\n",
    "    \n",
    "def show_plts(fn, parameters, method):\n",
    "    result = lmfit.minimize(fn, parameters, method, args=(x_fit, y_fit[:,0]))\n",
    "    params['f1'].vary = True\n",
    "    params['f2'].vary = True\n",
    "    params['f3'].vary = True\n",
    "    result2 = lmfit.minimize(fn, parameters, method, args=(x_fit, y_fit[:,0]))\n",
    "    model = lmfit.fit_report(result2.params) # the report \n",
    "    yout, peak1,peak2,peak3 = residual(result2.params,x_fit) # the different peaks\n",
    "#     rchi2 = (1/(float(len(y_fit))-15-1))*np.sum((y_fit - yout)**2/sigma**2) # calculation of the reduced chi-square\n",
    "    \n",
    "    plt.plot(x_fit,y_fit,'k-')\n",
    "    plt.plot(x_fit,yout,'r-')\n",
    "    plt.plot(x_fit,peak1,'b-')\n",
    "    plt.plot(x_fit,peak2,'b-')\n",
    "    plt.plot(x_fit,peak3,'b-')\n",
    "    \n",
    "#     plt.xlim(lb,hb)\n",
    "#     plt.ylim(-0.5,10.5)\n",
    "#     plt.xlabel(\"Raman shift, cm$^{-1}$\", fontsize = 14)\n",
    "#     plt.ylabel(\"Normalized intensity, a. u.\", fontsize = 14)\n",
    "#     plt.title(\"Fig. 6: Fit of the Si-O stretch vibrations\\n in LS4 with \\nthe Powell algorithm\",fontsize = 14,fontweight = \"bold\")"
   ]
  },
  {
   "cell_type": "code",
   "execution_count": 328,
   "metadata": {},
   "outputs": [
    {
     "data": {
      "image/png": "[encoded data removed]",
      "text/plain": [
       "<Figure size 360x720 with 4 Axes>"
      ]
     },
     "metadata": {
      "needs_background": "light"
     },
     "output_type": "display_data"
    }
   ],
   "source": [
    "#Share both X and Y axes with all subplots\n",
    "f, axarr = plt.subplots(4, sharex=True, sharey=True,figsize=(5,10))\n",
    "f.suptitle('Raman fits GO Graphenea')\n",
    "\n",
    "result = lmfit.minimize(residual, params, method = 'nelder', args=(x_fit, y_fit[:,0]))\n",
    "params['f1'].vary = True\n",
    "params['f2'].vary = True\n",
    "params['f3'].vary = True\n",
    "result2 = lmfit.minimize(residual, params, method = 'nelder', args=(x_fit, y_fit[:,0]))\n",
    "model = lmfit.fit_report(result2.params) # the report \n",
    "yout, peak1,peak2,peak3 = residual(result2.params,x_fit) # the different peaks\n",
    "#     rchi2 = (1/(float(len(y_fit))-15-1))*np.sum((y_fit - yout)**2/sigma**2) # calculation of the reduced chi-square\n",
    "\n",
    "axarr[0].plot(x_fit,y_fit,'k-')\n",
    "axarr[0].plot(x_fit,yout,'r-')\n",
    "axarr[0].plot(x_fit,peak1,'b-')\n",
    "axarr[0].plot(x_fit,peak2,'b-')\n",
    "axarr[0].plot(x_fit,peak3,'b-')\n",
    "\n",
    "result = lmfit.minimize(residual, params, method = 'leastsq', args=(x_fit, y_fit[:,0]))\n",
    "params['f1'].vary = True\n",
    "params['f2'].vary = True\n",
    "params['f3'].vary = True\n",
    "result2 = lmfit.minimize(residual, params, method = 'leastsq', args=(x_fit, y_fit[:,0]))\n",
    "model = lmfit.fit_report(result2.params) # the report \n",
    "yout, peak1,peak2,peak3 = residual(result2.params,x_fit) # the different peaks\n",
    "#     rchi2 = (1/(float(len(y_fit))-15-1))*np.sum((y_fit - yout)**2/sigma**2) # calculation of the reduced chi-square\n",
    "\n",
    "axarr[1].plot(x_fit,y_fit,'k-')\n",
    "axarr[1].plot(x_fit,yout,'r-')\n",
    "axarr[1].plot(x_fit,peak1,'b-')\n",
    "axarr[1].plot(x_fit,peak2,'b-')\n",
    "axarr[1].plot(x_fit,peak3,'b-')\n",
    "\n",
    "result = lmfit.minimize(residual, params, method = 'cg', args=(x_fit, y_fit[:,0]))\n",
    "params['f1'].vary = True\n",
    "params['f2'].vary = True\n",
    "params['f3'].vary = True\n",
    "result2 = lmfit.minimize(residual, params, method = 'cg', args=(x_fit, y_fit[:,0]))\n",
    "model = lmfit.fit_report(result2.params) # the report \n",
    "yout, peak1,peak2,peak3 = residual(result2.params,x_fit) # the different peaks\n",
    "#     rchi2 = (1/(float(len(y_fit))-15-1))*np.sum((y_fit - yout)**2/sigma**2) # calculation of the reduced chi-square\n",
    "\n",
    "axarr[2].plot(x_fit,y_fit,'k-')\n",
    "axarr[2].plot(x_fit,yout,'r-')\n",
    "axarr[2].plot(x_fit,peak1,'b-')\n",
    "axarr[2].plot(x_fit,peak2,'b-')\n",
    "axarr[2].plot(x_fit,peak3,'b-')\n",
    "\n",
    "result = lmfit.minimize(residual, params, method = 'powell', args=(x_fit, y_fit[:,0]))\n",
    "params['f1'].vary = True\n",
    "params['f2'].vary = True\n",
    "params['f3'].vary = True\n",
    "result2 = lmfit.minimize(residual, params, method = 'powell', args=(x_fit, y_fit[:,0]))\n",
    "model = lmfit.fit_report(result2.params) # the report \n",
    "yout, peak1,peak2,peak3 = residual(result2.params,x_fit) # the different peaks\n",
    "#     rchi2 = (1/(float(len(y_fit))-15-1))*np.sum((y_fit - yout)**2/sigma**2) # calculation of the reduced chi-square\n",
    "\n",
    "axarr[3].plot(x_fit,y_fit,'k-')\n",
    "axarr[3].plot(x_fit,yout,'r-')\n",
    "axarr[3].plot(x_fit,peak1,'b-')\n",
    "axarr[3].plot(x_fit,peak2,'b-')\n",
    "axarr[3].plot(x_fit,peak3,'b-')\n",
    "\n",
    "# Bring subplots close to each other.\n",
    "f.subplots_adjust(hspace=0)\n",
    "\n",
    "# Hide x labels and tick labels for all but bottom plot.\n",
    "for ax in axarr:\n",
    "    ax.label_outer()\n",
    "\n",
    "\n",
    "\n",
    "# #Note that this is the same as\n",
    "# plt.subplots(2, 2, sharex=True, sharey=True)"
   ]
  },
  {
   "cell_type": "code",
   "execution_count": 291,
   "metadata": {},
   "outputs": [
    {
     "data": {
      "image/png": "[encoded data removed]",
      "text/plain": [
       "<Figure size 720x720 with 4 Axes>"
      ]
     },
     "metadata": {
      "needs_background": "light"
     },
     "output_type": "display_data"
    }
   ],
   "source": [
    "fig, axes = plt.subplots(4, 1, figsize=(10, 10))\n",
    "for i,ax in enumerate(axes.flat): show_image(ims[i], ax=ax)\n",
    "plt.tight_layout(pad=0.1)"
   ]
  },
  {
   "cell_type": "markdown",
   "metadata": {},
   "source": [
    "# Error estimations\n",
    "\n",
    "Errors can be estimated with using the \"confidence\" function if you used the Levenberg-Marquardt algorithm. See the examples here: http://lmfit.github.io/lmfit-py/confidence.html .\n",
    "\n",
    "If you use a large-scale gradient-less algorithm such as the Nelder-Mead or the Powell algorithms, you cannot do that. Thus, to calculate the errors on the parameters that those algorithms provide as well as the error introduced by choosing one or the other algorithm, we can use the bootstrapping technic. Several descriptions on the internet are available for this technic, so I will skip a complete description here.\n",
    "\n",
    "A quick overview is to say that we have datapoints Yi affected by errors e_Yi. We assume that the probability density function of the Yi points is Gaussian. According to the Central Theorem Limit, this probably is a good assumption. Therefore, for each frequency in the spectrum of Fig.1, we have points that are probably at an intensity of Yi but with an error of e_Yi. To estimate how this uncertainties affect our fitting results, we can pick new points in the Gaussian distribution of mean Yi with a standard deviation e_Yi, and construct whole new spectra that we will fit. We will repeat this procedure N times.\n",
    "\n",
    "In addition to that, we can also randomly choose between the Nelder-Mead or the Powell algorithm during the new fits, such that we will take also into account our arbitrary choice in the fitting algorithm for calculating the errors on the estimated parameters.\n",
    "\n",
    "A last thing would be to randomly change a little bit the initial values of the parameters, but this is harder to implement so we will not do it for this example.\n",
    "\n",
    "First of all, we have to write a Python function that will randomly sample the probability density functions of the points of the spectrum of Fig. 1. Here is the piece of code I wrote for doing so:"
   ]
  },
  {
   "cell_type": "code",
   "execution_count": 216,
   "metadata": {},
   "outputs": [],
   "source": [
    "#### Bootstrap function\n",
    "def bootstrap(data, ese,nbsample):\n",
    "    # Bootstrap of Raman spectra. We generate new datapoints with the basis of existing data and their standard deviation\n",
    "    N = len(data)\n",
    "    bootsamples = np.zeros((N,nbsample))\n",
    "    \n",
    "    for i in range(nbsample):\n",
    "        for j in range(N):\n",
    "            bootsamples[j,i] = np.random.normal(data[j], ese[j], size=None)\n",
    "    return bootsamples"
   ]
  },
  {
   "cell_type": "markdown",
   "metadata": {},
   "source": [
    "Now we will define how much new spectra we want to generate (the nbsample option of the bootstrap function), and we will run the previous function."
   ]
  },
  {
   "cell_type": "code",
   "execution_count": 217,
   "metadata": {},
   "outputs": [
    {
     "name": "stdout",
     "output_type": "stream",
     "text": [
      "CPU times: user 29.3 ms, sys: 13.4 ms, total: 42.7 ms\n",
      "Wall time: 33.6 ms\n"
     ]
    }
   ],
   "source": [
    "%%time\n",
    "nboot = 10 # Number of bootstrap samples, I set it to a low value for the example but usually you want thousands there\n",
    "data_resampled = bootstrap(y_fit[:,0],sigma,nboot)# resampling of data + generate the output parameter tensor"
   ]
  },
  {
   "cell_type": "markdown",
   "metadata": {},
   "source": [
    "Now, we will create a loop which is going to look at each spectrum in the data_resampled variable, and to fit them with the procedure already described.\n",
    "\n",
    "For doing so, we need to declare a couple of variables to record the bootstrap mean fitting error, in order to see if we generated enought samples to obtain a statistically representative bootstrapping process, and to record each set of parameters obtained for each bootstrapped spectrum."
   ]
  },
  {
   "cell_type": "code",
   "execution_count": 219,
   "metadata": {},
   "outputs": [],
   "source": [
    "para_output = np.zeros((5,3,nboot)) # 5 x 3 parameters x N boot samples\n",
    "bootrecord = np.zeros((nboot)) # For recording boot strap efficiency\n",
    "        \n",
    "for nn in range(nboot):\n",
    "    algos = ['powell','nelder']\n",
    "    algo = random.choice(algos) # We randomly select between the Powell or Nelder_mear algorithm\n",
    "    params = lmfit.Parameters()\n",
    "    #               (Name,  Value,  Vary,   Min,  Max,  Expr) Here I directly initialize with fixed frequencies\n",
    "    params.add_many(('a1',   5,   True,  0,      10,  None),\n",
    "                ('f1',   1355,   True, 1350,    1360,  None),\n",
    "                ('l1',   45,   True,  40,      60,  None),\n",
    "                ('a2',   0.5,   True,  0,      4,  None),\n",
    "                ('f2',   1450,  True, 1420,   1480,  None),\n",
    "                ('l2',   40,   True,  25,   50,  None),\n",
    "                ('a3',   5,   True,  0,      None,  None),\n",
    "                ('f3',   1590,  True, 1580,   1595,  None),\n",
    "                ('l3',   40,   True,  25,   50,  None))  \n",
    "#                 ('a5',   2.,   True,  0,      None,  None),\n",
    "#                 ('f5',   1211,  True, 1180,   1220,  None),\n",
    "#                 ('l5',   28,   True,  20,   45,  None))\n",
    "    \n",
    "#     params.add_many(('a1',   24,   True,  0,      None,  None),\n",
    "#                 ('f1',   946,   True, 910,    970,  None),\n",
    "#                 ('l1',   26,   True,  20,      50,  None),\n",
    "#                 ('a2',   35,   True,  0,      None,  None),\n",
    "#                 ('f2',   1026,  True, 990,   1070,  None),\n",
    "#                 ('l2',   39,   True,  20,   55,  None),  \n",
    "#                 ('a3',   85,    True,    70,      None,  None),\n",
    "#                 ('f3',   1082,  True, 1070,   1110,  None),\n",
    "#                 ('l3',   31,   True,  25,   35,  None),  \n",
    "#                 ('a4',   22,   True,  0,      None,  None),\n",
    "#                 ('f4',   1140,  True, 1110,    1160,  None),\n",
    "#                 ('l4',   35,   True,  20,   50,  None),  \n",
    "#                 ('a5',   4,   True,  0,      None,  None),\n",
    "#                 ('f5',   1211,  True, 1180,   1220,  None),\n",
    "#                 ('l5',   28,   True,  20,   45,  None))\n",
    "\n",
    "    result = lmfit.minimize(residual, params, method = algo, args=(x_fit, data_resampled[:,nn],sigma))\n",
    "    # we release the positions but contrain the FWMH and amplitude of all peaks \n",
    "    params['f1'].vary = True\n",
    "    params['f2'].vary = True\n",
    "    params['f3'].vary = True\n",
    "#     params['f4'].vary = True\n",
    "#     params['f5'].vary = True\n",
    "\n",
    "    result2 = lmfit.minimize(residual, params,method = algo, args=(x_fit, data_resampled[:,nn], sigma))\n",
    "                           \n",
    "    vv = result2.params.valuesdict()\n",
    "    para_output[0,0,nn] = vv['a1']\n",
    "    para_output[1,0,nn] = vv['a2']\n",
    "    para_output[2,0,nn] = vv['a3']\n",
    "#     para_output[3,0,nn] = vv['a4']\n",
    "#     para_output[4,0,nn] = vv['a5']\n",
    "            \n",
    "    para_output[0,1,nn] = vv['f1']\n",
    "    para_output[1,1,nn] = vv['f2']\n",
    "    para_output[2,1,nn] = vv['f3']\n",
    "#     para_output[3,1,nn] = vv['f4']\n",
    "#     para_output[4,1,nn] = vv['f5']\n",
    "            \n",
    "    para_output[0,2,nn] = vv['l1']\n",
    "    para_output[1,2,nn] = vv['l2']\n",
    "    para_output[2,2,nn] = vv['l3']\n",
    "#     para_output[3,2,nn] = vv['l4']\n",
    "#     para_output[4,2,nn] = vv['l5']\n",
    "                \n",
    "para_mean = np.mean(para_output,axis=2)\n",
    "para_ese = np.std(para_output,axis=2)\n",
    "for kjy in range(nboot):\n",
    "    if kjy == 0:\n",
    "        bootrecord[kjy] = 0\n",
    "    else:\n",
    "        bootrecord[kjy] = np.sum(np.std(para_output[:,:,0:kjy],axis=2))"
   ]
  },
  {
   "cell_type": "markdown",
   "metadata": {},
   "source": [
    "We can have a view at the mean values and standard deviation of the parameters that have been generated by the bootstrapping:"
   ]
  },
  {
   "cell_type": "code",
   "execution_count": 220,
   "metadata": {},
   "outputs": [
    {
     "data": {
      "text/plain": [
       "array([[   9.613066, 1351.395886,   59.99881 ],\n",
       "       [   3.957098, 1459.961573,   49.726165],\n",
       "       [   7.792543, 1585.336684,   49.973485],\n",
       "       [   0.      ,    0.      ,    0.      ],\n",
       "       [   0.      ,    0.      ,    0.      ]])"
      ]
     },
     "execution_count": 220,
     "metadata": {},
     "output_type": "execute_result"
    }
   ],
   "source": [
    "para_mean"
   ]
  },
  {
   "cell_type": "code",
   "execution_count": 221,
   "metadata": {},
   "outputs": [
    {
     "data": {
      "text/plain": [
       "array([[5.035810e-01, 2.108245e+00, 3.452323e-03],\n",
       "       [9.319522e-02, 1.386482e+01, 7.028280e-01],\n",
       "       [2.837316e-01, 2.500119e+00, 6.974312e-02],\n",
       "       [0.000000e+00, 0.000000e+00, 0.000000e+00],\n",
       "       [0.000000e+00, 0.000000e+00, 0.000000e+00]])"
      ]
     },
     "execution_count": 221,
     "metadata": {},
     "output_type": "execute_result"
    }
   ],
   "source": [
    "para_ese"
   ]
  },
  {
   "cell_type": "markdown",
   "metadata": {},
   "source": [
    "Those errors are probably the best estimates of the errors that affect your fitting parameters. You can add another bootstrapping function for changing of, saying, 5 percents the initial estimations of the parameters, and you will have a complete and coherent estimation of the errors affecting the fits. But for most cases, the errors generated by this above bootstrapping technic are already quite robust.\n",
    "\n",
    "We can see if we generated enought samples to have valid bootstrap results by looking at how the mean value of the parameters and their error converge. To do a short version of such thing, we can also look at how the summation of the errors of the parameters change with the iteration number. If the summation of errors becomes constant, we can say that we have generated enought bootstrap samples to have a significant result, statistically speaking."
   ]
  },
  {
   "cell_type": "code",
   "execution_count": 222,
   "metadata": {},
   "outputs": [
    {
     "data": {
      "text/plain": [
       "Text(0.5, 1.0, 'Fig. 7: Bootstrap iterations for convergence')"
      ]
     },
     "execution_count": 222,
     "metadata": {},
     "output_type": "execute_result"
    },
    {
     "data": {
      "image/png": "[encoded data removed]",
      "text/plain": [
       "<Figure size 432x288 with 1 Axes>"
      ]
     },
     "metadata": {
      "needs_background": "light"
     },
     "output_type": "display_data"
    }
   ],
   "source": [
    "plt.plot(np.arange(nboot)+1,bootrecord,'ko')\n",
    "plt.xlim(0,nboot+1)\n",
    "plt.xlabel(\"Number of iterations\",fontsize = 14)\n",
    "plt.ylabel(\"Summed errors of parameters\",fontsize = 14)\n",
    "plt.title(\"Fig. 7: Bootstrap iterations for convergence\",fontsize = 14, fontweight = 'bold')"
   ]
  },
  {
   "cell_type": "markdown",
   "metadata": {},
   "source": [
    "We see from the above figure that the algorithm seems to have converged after 70 iterations. Therefore, we need to generate at least 70 spectra with the bootstrap function to obtain a good estimate of the errors that affect the parameters.\n",
    "\n",
    "# Conclusion\n",
    "This IPython notebook showed how spectra can be corrected from any baseline, how it is possible to use lmfit to fit it with Gaussian peaks, how changing the optimisation algorithm can change the results, and how we can estimate the errors on the calculated parameters with using the bootstrapping technic.\n",
    "\n",
    "Several peak models are defined in the Rampy toolbox, or directly in lmfit. You can look at the relevant instructions for both software to use other peak models in the above calculation. Results can be saved in textfiles, through using the Python output functions like np.savetxt or other ways. See the relevant python documentation for doing so. Any comments on this program will be welcome."
   ]
  },
  {
   "cell_type": "code",
   "execution_count": 261,
   "metadata": {},
   "outputs": [
    {
     "name": "stdout",
     "output_type": "stream",
     "text": [
      "[NbConvertApp] Converting notebook Raman-Ana.ipynb to script\n",
      "[NbConvertApp] Writing 34167 bytes to Raman-Ana.py\n"
     ]
    }
   ],
   "source": [
    "!jupyter nbconvert --to script Raman-Ana.ipynb"
   ]
  },
  {
   "cell_type": "code",
   "execution_count": null,
   "metadata": {},
   "outputs": [],
   "source": []
  }
 ],
 "metadata": {
  "kernelspec": {
   "display_name": "Python 3",
   "language": "python",
   "name": "python3"
  },
  "language_info": {
   "codemirror_mode": {
    "name": "ipython",
    "version": 3
   },
   "file_extension": ".py",
   "mimetype": "text/x-python",
   "name": "python",
   "nbconvert_exporter": "python",
   "pygments_lexer": "ipython3",
   "version": "3.7.2"
  }
 },
 "nbformat": 4,
 "nbformat_minor": 1
}
